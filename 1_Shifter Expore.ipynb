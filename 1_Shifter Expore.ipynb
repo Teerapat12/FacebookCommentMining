{
 "cells": [
  {
   "cell_type": "code",
   "execution_count": 128,
   "metadata": {
    "collapsed": true
   },
   "outputs": [],
   "source": [
    "import pandas as pd\n",
    "import seaborn as sns\n",
    "import matplotlib.pyplot as plt\n",
    "%matplotlib inline\n",
    "df = pd.read_csv(\"../dataset/fb_comment_predicted.tsv\",sep='\\t',encoding='utf-8')"
   ]
  },
  {
   "cell_type": "code",
   "execution_count": 131,
   "metadata": {
    "collapsed": false
   },
   "outputs": [
    {
     "data": {
      "text/plain": [
       "DTAC    59276\n",
       "AIS     55663\n",
       "TRUE    47675\n",
       "Name: service, dtype: int64"
      ]
     },
     "execution_count": 131,
     "metadata": {},
     "output_type": "execute_result"
    }
   ],
   "source": [
    "df['commenter_name'].unique()\n",
    "df[df['service']==True] = 'TRUE'\n",
    "#df = df[df['service'].apply(lambda x:len(x)>0)]\n",
    "df['created_date_format'] = df['created_time'].apply(lambda x: str(x)[:10])\n",
    "df['service'].value_counts()"
   ]
  },
  {
   "cell_type": "code",
   "execution_count": 132,
   "metadata": {
    "collapsed": false
   },
   "outputs": [
    {
     "data": {
      "text/html": [
       "<div>\n",
       "<table border=\"1\" class=\"dataframe\">\n",
       "  <thead>\n",
       "    <tr style=\"text-align: right;\">\n",
       "      <th></th>\n",
       "      <th>Unnamed: 0</th>\n",
       "      <th>Unnamed: 0.1</th>\n",
       "      <th>level_0</th>\n",
       "      <th>index</th>\n",
       "      <th>commenter_id</th>\n",
       "      <th>commenter_name</th>\n",
       "      <th>created_time</th>\n",
       "      <th>like_count</th>\n",
       "      <th>message</th>\n",
       "      <th>score_0</th>\n",
       "      <th>...</th>\n",
       "      <th>service</th>\n",
       "      <th>token</th>\n",
       "      <th>scoredAmt</th>\n",
       "      <th>token_arr</th>\n",
       "      <th>Irrelevant</th>\n",
       "      <th>Negative</th>\n",
       "      <th>Neutral</th>\n",
       "      <th>Positive</th>\n",
       "      <th>class</th>\n",
       "      <th>created_date_format</th>\n",
       "    </tr>\n",
       "  </thead>\n",
       "  <tbody>\n",
       "    <tr>\n",
       "      <th>0</th>\n",
       "      <td>0</td>\n",
       "      <td>0</td>\n",
       "      <td>0</td>\n",
       "      <td>0</td>\n",
       "      <td>1.02054e+16</td>\n",
       "      <td>Nui Worabut</td>\n",
       "      <td>2016-06-01 12:53:00</td>\n",
       "      <td>1</td>\n",
       "      <td>ใช้โปรเสริม net non..9 gb  ใช้หมดลดความเร็วไม่...</td>\n",
       "      <td>NaN</td>\n",
       "      <td>...</td>\n",
       "      <td>DTAC</td>\n",
       "      <td>['ใช้', 'โปรเสริม', ' ', 'net', ' ', 'non', '....</td>\n",
       "      <td>0</td>\n",
       "      <td>['ใช้', 'โปรเสริม', ' ', 'net', ' ', 'non', '....</td>\n",
       "      <td>2.68438e-35</td>\n",
       "      <td>1</td>\n",
       "      <td>9.33896e-17</td>\n",
       "      <td>8.56704e-15</td>\n",
       "      <td>Negative</td>\n",
       "      <td>2016-06-01</td>\n",
       "    </tr>\n",
       "    <tr>\n",
       "      <th>1</th>\n",
       "      <td>1</td>\n",
       "      <td>1</td>\n",
       "      <td>1</td>\n",
       "      <td>1</td>\n",
       "      <td>9.39589e+14</td>\n",
       "      <td>Chandratithaya Je-u</td>\n",
       "      <td>2016-06-02 17:17:32</td>\n",
       "      <td>0</td>\n",
       "      <td>ใช้ดีแทค แล้วปวดใจจริงๆ สัญญานขาดหาย อินเตอร์เ...</td>\n",
       "      <td>NaN</td>\n",
       "      <td>...</td>\n",
       "      <td>DTAC</td>\n",
       "      <td>['ใช้', 'ดี', 'แทค', ' ', 'แล้ว', 'ปวดใจ', 'จร...</td>\n",
       "      <td>0</td>\n",
       "      <td>['ใช้', 'ดี', 'แทค', ' ', 'แล้ว', 'ปวดใจ', 'จร...</td>\n",
       "      <td>0</td>\n",
       "      <td>1</td>\n",
       "      <td>2.76012e-37</td>\n",
       "      <td>0</td>\n",
       "      <td>Negative</td>\n",
       "      <td>2016-06-02</td>\n",
       "    </tr>\n",
       "    <tr>\n",
       "      <th>2</th>\n",
       "      <td>2</td>\n",
       "      <td>2</td>\n",
       "      <td>2</td>\n",
       "      <td>2</td>\n",
       "      <td>6.3853e+14</td>\n",
       "      <td>Hataichanok Maklamai</td>\n",
       "      <td>2016-06-02 07:51:45</td>\n",
       "      <td>0</td>\n",
       "      <td>ส่งขอมูลไปทาง ib แล้วนะคะ รบกวนตอบด้วยคะ ส่งไป...</td>\n",
       "      <td>NaN</td>\n",
       "      <td>...</td>\n",
       "      <td>DTAC</td>\n",
       "      <td>['ส่ง', 'ขอมูล', 'ไป', 'ทาง', ' ', 'ib', ' ', ...</td>\n",
       "      <td>0</td>\n",
       "      <td>['ส่ง', 'ขอมูล', 'ไป', 'ทาง', ' ', 'ib', ' ', ...</td>\n",
       "      <td>2.19241e-31</td>\n",
       "      <td>1</td>\n",
       "      <td>2.37428e-08</td>\n",
       "      <td>2.9605e-37</td>\n",
       "      <td>Negative</td>\n",
       "      <td>2016-06-02</td>\n",
       "    </tr>\n",
       "    <tr>\n",
       "      <th>3</th>\n",
       "      <td>3</td>\n",
       "      <td>3</td>\n",
       "      <td>3</td>\n",
       "      <td>3</td>\n",
       "      <td>4.78317e+14</td>\n",
       "      <td>Nattapong Wongsa</td>\n",
       "      <td>2016-06-02 15:43:53</td>\n",
       "      <td>1</td>\n",
       "      <td>อะไรนี้...ไม่เปิดให้เติมเกมส์ใช้ปะ  จะได้เลิกใช้</td>\n",
       "      <td>NaN</td>\n",
       "      <td>...</td>\n",
       "      <td>DTAC</td>\n",
       "      <td>['อะไร', 'นี้', '...', 'ไม่', 'เปิด', 'ให้', '...</td>\n",
       "      <td>0</td>\n",
       "      <td>['อะไร', 'นี้', '...', 'ไม่', 'เปิด', 'ให้', '...</td>\n",
       "      <td>7.96124e-28</td>\n",
       "      <td>0.000268206</td>\n",
       "      <td>0.999732</td>\n",
       "      <td>2.25049e-14</td>\n",
       "      <td>Neutral</td>\n",
       "      <td>2016-06-02</td>\n",
       "    </tr>\n",
       "    <tr>\n",
       "      <th>4</th>\n",
       "      <td>4</td>\n",
       "      <td>4</td>\n",
       "      <td>4</td>\n",
       "      <td>4</td>\n",
       "      <td>4.98621e+14</td>\n",
       "      <td>Jitsak Sisawad</td>\n",
       "      <td>2016-06-02 15:09:06</td>\n",
       "      <td>0</td>\n",
       "      <td>ห่วยแตกไม่เคยแจ้งข่าวสารให้ลูก อยู่ๆก้มาเก็บค่...</td>\n",
       "      <td>NaN</td>\n",
       "      <td>...</td>\n",
       "      <td>DTAC</td>\n",
       "      <td>['ห่วย', 'แตก', 'ไม่', 'เคย', 'แจ้ง', 'ข่าวสาร...</td>\n",
       "      <td>0</td>\n",
       "      <td>['ห่วย', 'แตก', 'ไม่', 'เคย', 'แจ้ง', 'ข่าวสาร...</td>\n",
       "      <td>0</td>\n",
       "      <td>1</td>\n",
       "      <td>0</td>\n",
       "      <td>0</td>\n",
       "      <td>Negative</td>\n",
       "      <td>2016-06-02</td>\n",
       "    </tr>\n",
       "  </tbody>\n",
       "</table>\n",
       "<p>5 rows × 25 columns</p>\n",
       "</div>"
      ],
      "text/plain": [
       "  Unnamed: 0 Unnamed: 0.1 level_0 index commenter_id        commenter_name  \\\n",
       "0          0            0       0     0  1.02054e+16           Nui Worabut   \n",
       "1          1            1       1     1  9.39589e+14   Chandratithaya Je-u   \n",
       "2          2            2       2     2   6.3853e+14  Hataichanok Maklamai   \n",
       "3          3            3       3     3  4.78317e+14      Nattapong Wongsa   \n",
       "4          4            4       4     4  4.98621e+14        Jitsak Sisawad   \n",
       "\n",
       "          created_time like_count  \\\n",
       "0  2016-06-01 12:53:00          1   \n",
       "1  2016-06-02 17:17:32          0   \n",
       "2  2016-06-02 07:51:45          0   \n",
       "3  2016-06-02 15:43:53          1   \n",
       "4  2016-06-02 15:09:06          0   \n",
       "\n",
       "                                             message score_0  \\\n",
       "0  ใช้โปรเสริม net non..9 gb  ใช้หมดลดความเร็วไม่...     NaN   \n",
       "1  ใช้ดีแทค แล้วปวดใจจริงๆ สัญญานขาดหาย อินเตอร์เ...     NaN   \n",
       "2  ส่งขอมูลไปทาง ib แล้วนะคะ รบกวนตอบด้วยคะ ส่งไป...     NaN   \n",
       "3   อะไรนี้...ไม่เปิดให้เติมเกมส์ใช้ปะ  จะได้เลิกใช้     NaN   \n",
       "4  ห่วยแตกไม่เคยแจ้งข่าวสารให้ลูก อยู่ๆก้มาเก็บค่...     NaN   \n",
       "\n",
       "          ...         service  \\\n",
       "0         ...            DTAC   \n",
       "1         ...            DTAC   \n",
       "2         ...            DTAC   \n",
       "3         ...            DTAC   \n",
       "4         ...            DTAC   \n",
       "\n",
       "                                               token scoredAmt  \\\n",
       "0  ['ใช้', 'โปรเสริม', ' ', 'net', ' ', 'non', '....         0   \n",
       "1  ['ใช้', 'ดี', 'แทค', ' ', 'แล้ว', 'ปวดใจ', 'จร...         0   \n",
       "2  ['ส่ง', 'ขอมูล', 'ไป', 'ทาง', ' ', 'ib', ' ', ...         0   \n",
       "3  ['อะไร', 'นี้', '...', 'ไม่', 'เปิด', 'ให้', '...         0   \n",
       "4  ['ห่วย', 'แตก', 'ไม่', 'เคย', 'แจ้ง', 'ข่าวสาร...         0   \n",
       "\n",
       "                                           token_arr   Irrelevant  \\\n",
       "0  ['ใช้', 'โปรเสริม', ' ', 'net', ' ', 'non', '....  2.68438e-35   \n",
       "1  ['ใช้', 'ดี', 'แทค', ' ', 'แล้ว', 'ปวดใจ', 'จร...            0   \n",
       "2  ['ส่ง', 'ขอมูล', 'ไป', 'ทาง', ' ', 'ib', ' ', ...  2.19241e-31   \n",
       "3  ['อะไร', 'นี้', '...', 'ไม่', 'เปิด', 'ให้', '...  7.96124e-28   \n",
       "4  ['ห่วย', 'แตก', 'ไม่', 'เคย', 'แจ้ง', 'ข่าวสาร...            0   \n",
       "\n",
       "      Negative      Neutral     Positive     class created_date_format  \n",
       "0            1  9.33896e-17  8.56704e-15  Negative          2016-06-01  \n",
       "1            1  2.76012e-37            0  Negative          2016-06-02  \n",
       "2            1  2.37428e-08   2.9605e-37  Negative          2016-06-02  \n",
       "3  0.000268206     0.999732  2.25049e-14   Neutral          2016-06-02  \n",
       "4            1            0            0  Negative          2016-06-02  \n",
       "\n",
       "[5 rows x 25 columns]"
      ]
     },
     "execution_count": 132,
     "metadata": {},
     "output_type": "execute_result"
    }
   ],
   "source": [
    "df.head()"
   ]
  },
  {
   "cell_type": "code",
   "execution_count": null,
   "metadata": {
    "collapsed": true
   },
   "outputs": [],
   "source": []
  },
  {
   "cell_type": "code",
   "execution_count": 176,
   "metadata": {
    "collapsed": true
   },
   "outputs": [],
   "source": [
    "df = df.sort_values('created_time')\n",
    "getService = lambda x:list(x)\n",
    "def getService(x):\n",
    "    return list(x)\n",
    "def getNumService(x):\n",
    "    return len(set(list(x)))\n",
    "def getPageShiftNum(z):\n",
    "    curList = z[:-1]\n",
    "    nextList = z[1:]\n",
    "    return sum([a!=b for a,b in zip(curList,nextList)])\n",
    "def getCommentCount(x):\n",
    "    return len(x)\n",
    "def id(x):\n",
    "    return x.iloc[0]\n",
    "d = {'service':[getService,getNumService, getPageShiftNum,getCommentCount],'commenter_id':id}\n",
    "shift_df =  df.groupby(['commenter_name']).agg(d)"
   ]
  },
  {
   "cell_type": "code",
   "execution_count": 177,
   "metadata": {
    "collapsed": false
   },
   "outputs": [
    {
     "name": "stdout",
     "output_type": "stream",
     "text": [
      "Page shift number: \n"
     ]
    },
    {
     "data": {
      "text/plain": [
       "0     86402\n",
       "1      1948\n",
       "2       324\n",
       "3       102\n",
       "4        41\n",
       "5        23\n",
       "6         8\n",
       "14        7\n",
       "9         6\n",
       "7         5\n",
       "11        4\n",
       "10        2\n",
       "15        2\n",
       "30        1\n",
       "16        1\n",
       "18        1\n",
       "23        1\n",
       "34        1\n",
       "Name: getPageShiftNum, dtype: int64"
      ]
     },
     "execution_count": 177,
     "metadata": {},
     "output_type": "execute_result"
    }
   ],
   "source": [
    "print(\"Page shift number: \")\n",
    "shift_df['service']['getPageShiftNum'].value_counts()"
   ]
  },
  {
   "cell_type": "code",
   "execution_count": 178,
   "metadata": {
    "collapsed": false
   },
   "outputs": [
    {
     "name": "stdout",
     "output_type": "stream",
     "text": [
      "No shifting\n"
     ]
    },
    {
     "name": "stderr",
     "output_type": "stream",
     "text": [
      "C:\\Program Files\\Anaconda3\\lib\\site-packages\\ipykernel\\__main__.py:3: SettingWithCopyWarning: \n",
      "A value is trying to be set on a copy of a slice from a DataFrame.\n",
      "Try using .loc[row_indexer,col_indexer] = value instead\n",
      "\n",
      "See the caveats in the documentation: http://pandas.pydata.org/pandas-docs/stable/indexing.html#indexing-view-versus-copy\n",
      "  app.launch_new_instance()\n"
     ]
    }
   ],
   "source": [
    "print(\"No shifting\")\n",
    "oneService = shift_df[shift_df['service']['getNumService']==1]\n",
    "oneService['Service0']= oneService['service']['getService'].apply(lambda x:x[0])"
   ]
  },
  {
   "cell_type": "code",
   "execution_count": 179,
   "metadata": {
    "collapsed": false
   },
   "outputs": [
    {
     "name": "stdout",
     "output_type": "stream",
     "text": [
      "Clean shifter (2)\n"
     ]
    }
   ],
   "source": [
    "print(\"Clean shifter (2)\")\n",
    "twoService = shift_df[(shift_df['service']['getNumService']==2)&(shift_df['service']['getPageShiftNum']==1)]"
   ]
  },
  {
   "cell_type": "code",
   "execution_count": 180,
   "metadata": {
    "collapsed": false
   },
   "outputs": [
    {
     "name": "stderr",
     "output_type": "stream",
     "text": [
      "C:\\Program Files\\Anaconda3\\lib\\site-packages\\ipykernel\\__main__.py:1: SettingWithCopyWarning: \n",
      "A value is trying to be set on a copy of a slice from a DataFrame.\n",
      "Try using .loc[row_indexer,col_indexer] = value instead\n",
      "\n",
      "See the caveats in the documentation: http://pandas.pydata.org/pandas-docs/stable/indexing.html#indexing-view-versus-copy\n",
      "  if __name__ == '__main__':\n",
      "C:\\Program Files\\Anaconda3\\lib\\site-packages\\ipykernel\\__main__.py:2: SettingWithCopyWarning: \n",
      "A value is trying to be set on a copy of a slice from a DataFrame.\n",
      "Try using .loc[row_indexer,col_indexer] = value instead\n",
      "\n",
      "See the caveats in the documentation: http://pandas.pydata.org/pandas-docs/stable/indexing.html#indexing-view-versus-copy\n",
      "  from ipykernel import kernelapp as app\n",
      "C:\\Program Files\\Anaconda3\\lib\\site-packages\\ipykernel\\__main__.py:3: SettingWithCopyWarning: \n",
      "A value is trying to be set on a copy of a slice from a DataFrame.\n",
      "Try using .loc[row_indexer,col_indexer] = value instead\n",
      "\n",
      "See the caveats in the documentation: http://pandas.pydata.org/pandas-docs/stable/indexing.html#indexing-view-versus-copy\n",
      "  app.launch_new_instance()\n"
     ]
    }
   ],
   "source": [
    "twoService['Service0'] = twoService['service']['getService'].apply(lambda x: x[0])\n",
    "twoService['Service1'] = twoService['service']['getService'].apply(lambda x: x[-1])\n",
    "twoService['FromTo'] = twoService['service']['getService'].apply(lambda x: str(x[0])+\"->\"+str(x[-1]))"
   ]
  },
  {
   "cell_type": "code",
   "execution_count": 181,
   "metadata": {
    "collapsed": false
   },
   "outputs": [
    {
     "name": "stdout",
     "output_type": "stream",
     "text": [
      "One shift service\n"
     ]
    },
    {
     "data": {
      "text/plain": [
       "AIS->DTAC     479\n",
       "AIS->TRUE      92\n",
       "DTAC->AIS     578\n",
       "DTAC->TRUE    109\n",
       "DTAC->nan       1\n",
       "TRUE->AIS     326\n",
       "TRUE->DTAC    363\n",
       "Name: FromTo, dtype: int64"
      ]
     },
     "execution_count": 181,
     "metadata": {},
     "output_type": "execute_result"
    }
   ],
   "source": [
    "print(\"One shift service\")\n",
    "twoService['FromTo'].value_counts().sort_index()"
   ]
  },
  {
   "cell_type": "code",
   "execution_count": 182,
   "metadata": {
    "collapsed": false
   },
   "outputs": [
    {
     "name": "stdout",
     "output_type": "stream",
     "text": [
      "Clean shifter (3)\n"
     ]
    },
    {
     "name": "stderr",
     "output_type": "stream",
     "text": [
      "C:\\Program Files\\Anaconda3\\lib\\site-packages\\ipykernel\\__main__.py:4: SettingWithCopyWarning: \n",
      "A value is trying to be set on a copy of a slice from a DataFrame.\n",
      "Try using .loc[row_indexer,col_indexer] = value instead\n",
      "\n",
      "See the caveats in the documentation: http://pandas.pydata.org/pandas-docs/stable/indexing.html#indexing-view-versus-copy\n",
      "C:\\Program Files\\Anaconda3\\lib\\site-packages\\ipykernel\\__main__.py:5: SettingWithCopyWarning: \n",
      "A value is trying to be set on a copy of a slice from a DataFrame.\n",
      "Try using .loc[row_indexer,col_indexer] = value instead\n",
      "\n",
      "See the caveats in the documentation: http://pandas.pydata.org/pandas-docs/stable/indexing.html#indexing-view-versus-copy\n",
      "C:\\Program Files\\Anaconda3\\lib\\site-packages\\ipykernel\\__main__.py:6: SettingWithCopyWarning: \n",
      "A value is trying to be set on a copy of a slice from a DataFrame.\n",
      "Try using .loc[row_indexer,col_indexer] = value instead\n",
      "\n",
      "See the caveats in the documentation: http://pandas.pydata.org/pandas-docs/stable/indexing.html#indexing-view-versus-copy\n",
      "C:\\Program Files\\Anaconda3\\lib\\site-packages\\ipykernel\\__main__.py:7: SettingWithCopyWarning: \n",
      "A value is trying to be set on a copy of a slice from a DataFrame.\n",
      "Try using .loc[row_indexer,col_indexer] = value instead\n",
      "\n",
      "See the caveats in the documentation: http://pandas.pydata.org/pandas-docs/stable/indexing.html#indexing-view-versus-copy\n"
     ]
    }
   ],
   "source": [
    "from  more_itertools import unique_everseen\n",
    "print(\"Clean shifter (3)\")\n",
    "threeService = shift_df[(shift_df['service']['getNumService']==3)&(shift_df['service']['getPageShiftNum']==2)]\n",
    "threeService['Service0'] = threeService['service']['getService'].apply(lambda x: list(unique_everseen(x))[0])\n",
    "threeService['Service1'] = threeService['service']['getService'].apply(lambda x: list(unique_everseen(x))[1])\n",
    "threeService['Service2'] = threeService['service']['getService'].apply(lambda x: list(unique_everseen(x))[2])\n",
    "threeService['FromTo'] = threeService['service']['getService'].apply(lambda x: \"->\".join(list(unique_everseen(x))))"
   ]
  },
  {
   "cell_type": "code",
   "execution_count": 183,
   "metadata": {
    "collapsed": false
   },
   "outputs": [
    {
     "name": "stdout",
     "output_type": "stream",
     "text": [
      "Two shift service\n"
     ]
    },
    {
     "data": {
      "text/plain": [
       "AIS->DTAC->TRUE     3\n",
       "AIS->TRUE->DTAC     6\n",
       "DTAC->AIS->TRUE     1\n",
       "DTAC->TRUE->AIS     8\n",
       "TRUE->AIS->DTAC    20\n",
       "TRUE->DTAC->AIS    26\n",
       "Name: FromTo, dtype: int64"
      ]
     },
     "execution_count": 183,
     "metadata": {},
     "output_type": "execute_result"
    }
   ],
   "source": [
    "print(\"Two shift service\")\n",
    "threeService['FromTo'].value_counts().sort_index()"
   ]
  },
  {
   "cell_type": "code",
   "execution_count": 184,
   "metadata": {
    "collapsed": false
   },
   "outputs": [
    {
     "name": "stdout",
     "output_type": "stream",
     "text": [
      "(86402, 6)\n",
      "(1948, 8)\n",
      "(64, 9)\n"
     ]
    }
   ],
   "source": [
    "print(oneService.shape)\n",
    "print(twoService.shape)\n",
    "print(threeService.shape)"
   ]
  },
  {
   "cell_type": "code",
   "execution_count": 185,
   "metadata": {
    "collapsed": false
   },
   "outputs": [
    {
     "data": {
      "text/html": [
       "<div>\n",
       "<table border=\"1\" class=\"dataframe\">\n",
       "  <thead>\n",
       "    <tr>\n",
       "      <th></th>\n",
       "      <th>FromTo</th>\n",
       "      <th>Service0</th>\n",
       "      <th>Service1</th>\n",
       "      <th>Service2</th>\n",
       "      <th>commenter_id</th>\n",
       "      <th colspan=\"4\" halign=\"left\">service</th>\n",
       "    </tr>\n",
       "    <tr>\n",
       "      <th></th>\n",
       "      <th></th>\n",
       "      <th></th>\n",
       "      <th></th>\n",
       "      <th></th>\n",
       "      <th>id</th>\n",
       "      <th>getCommentCount</th>\n",
       "      <th>getNumService</th>\n",
       "      <th>getPageShiftNum</th>\n",
       "      <th>getService</th>\n",
       "    </tr>\n",
       "    <tr>\n",
       "      <th>commenter_name</th>\n",
       "      <th></th>\n",
       "      <th></th>\n",
       "      <th></th>\n",
       "      <th></th>\n",
       "      <th></th>\n",
       "      <th></th>\n",
       "      <th></th>\n",
       "      <th></th>\n",
       "      <th></th>\n",
       "    </tr>\n",
       "  </thead>\n",
       "  <tbody>\n",
       "    <tr>\n",
       "      <th>ผู้สาว ขาเลาะ</th>\n",
       "      <td>NaN</td>\n",
       "      <td>DTAC</td>\n",
       "      <td>NaN</td>\n",
       "      <td>NaN</td>\n",
       "      <td>5.85054e+14</td>\n",
       "      <td>2</td>\n",
       "      <td>1</td>\n",
       "      <td>0</td>\n",
       "      <td>[DTAC, DTAC]</td>\n",
       "    </tr>\n",
       "    <tr>\n",
       "      <th>สวรรค์มันรก นรกมันลื่น</th>\n",
       "      <td>NaN</td>\n",
       "      <td>DTAC</td>\n",
       "      <td>NaN</td>\n",
       "      <td>NaN</td>\n",
       "      <td>2.06931e+14</td>\n",
       "      <td>2</td>\n",
       "      <td>1</td>\n",
       "      <td>0</td>\n",
       "      <td>[DTAC, DTAC]</td>\n",
       "    </tr>\n",
       "    <tr>\n",
       "      <th>ไอ้ผึ้ง  พัชรินทร์ แสนสุข</th>\n",
       "      <td>NaN</td>\n",
       "      <td>AIS</td>\n",
       "      <td>NaN</td>\n",
       "      <td>NaN</td>\n",
       "      <td>9.80172e+14</td>\n",
       "      <td>1</td>\n",
       "      <td>1</td>\n",
       "      <td>0</td>\n",
       "      <td>[AIS]</td>\n",
       "    </tr>\n",
       "    <tr>\n",
       "      <th>'Cha Ornjiyong</th>\n",
       "      <td>NaN</td>\n",
       "      <td>AIS</td>\n",
       "      <td>NaN</td>\n",
       "      <td>NaN</td>\n",
       "      <td>8.21153e+14</td>\n",
       "      <td>1</td>\n",
       "      <td>1</td>\n",
       "      <td>0</td>\n",
       "      <td>[AIS]</td>\n",
       "    </tr>\n",
       "    <tr>\n",
       "      <th>'Leng' Suphakit Tangtrakulcharoen</th>\n",
       "      <td>NaN</td>\n",
       "      <td>DTAC</td>\n",
       "      <td>NaN</td>\n",
       "      <td>NaN</td>\n",
       "      <td>9.46319e+14</td>\n",
       "      <td>1</td>\n",
       "      <td>1</td>\n",
       "      <td>0</td>\n",
       "      <td>[DTAC]</td>\n",
       "    </tr>\n",
       "  </tbody>\n",
       "</table>\n",
       "</div>"
      ],
      "text/plain": [
       "                                  FromTo Service0 Service1 Service2  \\\n",
       "                                                                      \n",
       "commenter_name                                                        \n",
       " ผู้สาว ขาเลาะ                       NaN     DTAC      NaN      NaN   \n",
       " สวรรค์มันรก นรกมันลื่น              NaN     DTAC      NaN      NaN   \n",
       " ไอ้ผึ้ง  พัชรินทร์ แสนสุข           NaN      AIS      NaN      NaN   \n",
       "'Cha Ornjiyong                       NaN      AIS      NaN      NaN   \n",
       "'Leng' Suphakit Tangtrakulcharoen    NaN     DTAC      NaN      NaN   \n",
       "\n",
       "                                  commenter_id         service                \\\n",
       "                                            id getCommentCount getNumService   \n",
       "commenter_name                                                                 \n",
       " ผู้สาว ขาเลาะ                     5.85054e+14               2             1   \n",
       " สวรรค์มันรก นรกมันลื่น            2.06931e+14               2             1   \n",
       " ไอ้ผึ้ง  พัชรินทร์ แสนสุข         9.80172e+14               1             1   \n",
       "'Cha Ornjiyong                     8.21153e+14               1             1   \n",
       "'Leng' Suphakit Tangtrakulcharoen  9.46319e+14               1             1   \n",
       "\n",
       "                                                                 \n",
       "                                  getPageShiftNum    getService  \n",
       "commenter_name                                                   \n",
       " ผู้สาว ขาเลาะ                                  0  [DTAC, DTAC]  \n",
       " สวรรค์มันรก นรกมันลื่น                         0  [DTAC, DTAC]  \n",
       " ไอ้ผึ้ง  พัชรินทร์ แสนสุข                      0         [AIS]  \n",
       "'Cha Ornjiyong                                  0         [AIS]  \n",
       "'Leng' Suphakit Tangtrakulcharoen               0        [DTAC]  "
      ]
     },
     "execution_count": 185,
     "metadata": {},
     "output_type": "execute_result"
    }
   ],
   "source": [
    "clean_shifter = pd.concat([oneService,twoService,threeService])\n",
    "clean_shifter.to_csv(\"../dataset/clean_shifter.tsv\",sep='\\t',encoding='utf-8')\n",
    "clean_shifter.head()"
   ]
  },
  {
   "cell_type": "code",
   "execution_count": 202,
   "metadata": {
    "collapsed": false
   },
   "outputs": [
    {
     "name": "stdout",
     "output_type": "stream",
     "text": [
      "ธนิด ภัทรกิตติ has 946 comments.\n",
      "Sample comment : \n",
      "Comment at page: TRUE\n",
      "ทรูครับ คุณนภัส แจ้งว่าทรูยูสามารถประชาสัมพันธ์โดยลูกค้าไม่ยินยอมได้ ทรูจะลงโทษคุณนภัสอย่างไร\n",
      "----------------------------------\n",
      "Comment at page: TRUE\n",
      "ฝ่ายกฎหมายส่งเอกสารให้คณะกรรมการ กสทช.หรือยังครับ\n",
      "----------------------------------\n",
      "Comment at page: TRUE\n",
      "5/7/59 ผมเริ่มมีอาการวิงเวียน และปวดหัวมากๆ และไปหาหมอจึงโทรแจ้ง 1331 ให้ระงับข้อความกวนใจ\n",
      "19/8/59 ผมปวดหัวและนอนไม่หลับ 1 สัปดาห์ และไปหาหมอ หลังจากที่ผมได้รับข้อความกวนใจซ้ำในระหว่างส่งเรื่องตรวจสอบ\n",
      "22/8/59 ผมปวดหัวและนอนไม่หลับ จึงไปหาหมอและหมอก็ฉีดยาระงับปวดให้\n",
      "ทรูครับปัจจุบันคุณอรอุมาส่งเอกสารให้ฝ่ายกฏหมาย ทำเอกสารแจ้งคณะกรรมการ กสทช เสร็จหรือยังครับ\n",
      "กรรมการผุ้จัดการ บ.เรียล มูฟ จก.จะช่วยเหลือลูกค้าที่ล้มป่วยอย่างไร \n",
      "กรรมการผู้จัดการ บ. เรียล มูฟ จก. จะให้มาร์เก็ตติ้งและ 1331 รับผิดชอบต่อเรื่องที่เกิดขึ้นอย่างไร\n",
      "----------------------------------\n",
      "Comment at page: TRUE\n",
      "สวัสดีครับ ทรูมูฟ เอช ต้องขออภัยที่ไม่ได้รับความสะดวก และ เรียนแจ้งทั้ง 3 กรณีดังนี้ครับ\n",
      "1. กรณีคุณ รัตนภรณ์ ไม่ติดต่อกลับ เจ้าหน้าที่รับเรื่องตรวจสอบ อ้างอิง SR 2-75706934436 ครับ\n",
      "2. กรณีคุณ พันธิภา ได้ส่งเอกสารตามที่อยู่ที่ระบุมาในเอกสารคำร้องกสทช. ครับ\n",
      "3. กรณีคุณ อรอุมา ได้ตอบหนังสือไปยังกฎหมาย เพื่อแจ้งไปยังกสทช. พร้อมจัดส่งเอกสารให้ลูกค้าเมื่อวันที่ 13/10/2016 อ้างอิง SR2-70430293129 ครับผม\n",
      "----------------------------------\n",
      "Comment at page: TRUE\n",
      "คุณนิพนธ์ คุณสุรชาติ คณอรอุมา และเจ้าหน้าที่ 1331 อีกหลายท่านที่อ้างว่า ยกเลิกข้อความกวนใจหมดแล้ว แต่ไม่ยอมตอบคำถามเรื่องความรับผิดชอบ แสดงให้เห็นว่า จงใจเปิดช่องให้บริษัทของเจียรวนนท์ส่งข้อความกวนใจผมได้ จนทำให้ผมเครียด เวียนหัว นอนไม่หลับ ต้องไปหาหมอ คูณอรอุมาได้รับใบรับรองแพทย์และอีเมลล์ทวงถามความรับผิดชอบ แต่คุณอรอุมาเพิกเฉยไม่แก้ไขปัญหา ดีแต่แก้ตัว ไม่ยอมรับความผิด\n",
      "----------------------------------\n",
      "Comment at page: TRUE\n",
      "ผมแจ้ง True move H ทุกๆวันๆละหลายๆรอบ แจ้งจนเอเ่ยชื่อคุณธนินทรื เจียรวนนทื คุณอรอุมายังหน้าด้านไม่ตอบผม ผมต้องประจาน และแจ้ง คณะกรรมการ กสทช ตรวจสอบ.\n",
      "----------------------------------\n",
      "Comment at page: TRUE\n",
      "เรียน   คุณธนิด   ภัทรกิตติ  \n",
      "\n",
      "        เรียลมูฟ ขออภัยที่ทำให้ท่าน ไม่ได้รับความสะดวกในการใช้บริการ  และขอขอบคุณที่ให้ความไว้วางใจในบริการของเราด้วยดีเสมอมา\n",
      "\n",
      "        ตามที่ท่าน แจ้งเรื่องได้รับข้อความจากทาง *888  นั้น จากการตรวจสอบพบว่า ได้มีการกดทำรายการ TrueMove H GiFT เข้ามา เมื่อวันที่ 9  พฤศจิืกายน  2559 ค่ะ  ซึ่งข้อความดังกล่าว ไม่ใช่ การโฆษณา หรือ แคมเปญพิเศษค่ะ  เบื้องต้นได้ทำการส่งประสานงานยกเิลิกบริการให้เป็นที่เรียบร้อยแล้ว\n",
      "\n",
      "        เราขอขอบคุณสำหรับคำแนะนำ ติชม และพร้อมจะปรับปรุงพัฒนาการให้บริการเสมอเพื่อคุณ หากท่าน มีข้อเสนอแนะอื่น ๆ หรือต้องการทราบข้อมูลสินค้าและบริการต่าง ๆ ของเราเพิ่มเติม สามารถติดต่อศูนย์บริการลูกค้าสัมพันธ์ โทร.1331  บริการทุกวัน หรือ  www.truemove-h.comพนักงานของเราพร้อมที่จะให้บริการคุณเสมอ\n",
      "\n",
      "ขอแสดงความนับถือ\n",
      "จารุณี    จรรยาธรรม\n",
      "ศูนย์รับเรื่องร้องเรียน\n",
      "----------------------------------\n"
     ]
    },
    {
     "data": {
      "image/png": "[encoded data removed]",
      "text/plain": [
       "<matplotlib.figure.Figure at 0x1798875eef0>"
      ]
     },
     "metadata": {},
     "output_type": "display_data"
    }
   ],
   "source": [
    "def commentFromUser(name):\n",
    "    return df[df['commenter_name']==name]\n",
    "from datetime import datetime\n",
    "\n",
    "def analyzeUserComment(name):\n",
    "    color = ['dark sky blue','grass','reddish orange']\n",
    "    colors = sns.xkcd_palette(color)\n",
    "    comment = commentFromUser(name)\n",
    "    print(\"%s has %d comments.\"%(name,comment.shape[0]))\n",
    "    print(\"Sample comment : \")\n",
    "    fig, axs = plt.subplots(ncols=2,figsize=(12,3))\n",
    "    sns.countplot(x=\"service\", data=comment,palette=colors,ax=axs[0])\n",
    "    axs[0].set_title('Comment Count (Service)')\n",
    "    sns.countplot(x=\"created_date_format\", data=comment,hue='service',palette=colors,ax=axs[1])\n",
    "    #axs[1].set_xticks([])\n",
    "    #axs[1].set_xticklabels([])d = ts\n",
    "    dateStr = [str(i)[10:20] for i in list(axs[1].get_xticklabels())]\n",
    "    if(len(dateStr)>=10):\n",
    "        dateStr = [date if (i%int(len(dateStr)/10))==0  else \"\" for i,date in enumerate(dateStr) ]\n",
    "        \n",
    "    axs[1].set_xticklabels(dateStr, rotation=40, ha=\"right\",size=10)\n",
    "    axs[1].set_title('Comment Count (Date)')\n",
    "    for row in comment[['message','created_date_format','service']].sample(min(7,comment.shape[0])).sort_values('created_date_format').values:\n",
    "        (comment,time,service) = row\n",
    "        print(\"Comment at page: {}\".format(service))\n",
    "        print(comment)\n",
    "        print(\"----------------------------------\")\n",
    "    \n",
    "    return \n",
    "analyzeUserComment('ธนิด ภัทรกิตติ')"
   ]
  },
  {
   "cell_type": "code",
   "execution_count": 231,
   "metadata": {
    "collapsed": false
   },
   "outputs": [
    {
     "name": "stdout",
     "output_type": "stream",
     "text": [
      "Hit user: 44\n",
      "นายฉัตรชัย ปณีตะผลินทร์ has 30 comments.\n",
      "Sample comment : \n",
      "Comment at page: AIS\n",
      "เรียนแอด ช่วยตอบกลับในอินบ๊อกของผม ด้วยคับ\n",
      "----------------------------------\n",
      "Comment at page: AIS\n",
      "เรียน แอด ช่วยตอบกลับในอินบ๊อกของผมด้วยครับ\n",
      "----------------------------------\n",
      "Comment at page: AIS\n",
      "เรียนแอด กรุณาตอบกลับในอินบ๊อกของผมด้วยครับ\n",
      "----------------------------------\n",
      "Comment at page: AIS\n",
      "เรียนแอด ช่วยส่งเรื่องค่าใช้จ่าย2รายการในอินบ๊อกให้พิจารณาด่วนเรื่องเวฟค่าใช้จ่ายซึ่งไม่ได้ใช้บริการ แต่เอไอเอสมาคิดเงินจากผม เพราะดำเนินการแจ้งมากว่า2สัปดาห์แล้ว ยังไม่คืบหน้าครับ\n",
      "----------------------------------\n",
      "Comment at page: AIS\n",
      "เรียนแอด ช่วยดำเนินการขอปรับลดยอดค่าใช้จ่าย2รายการในอินบ๊อกของผมให้ด้วย เพราะติดต่อมาเกิน2สัปดาห์แล้ว ยังไม่ตืบหน้าครับ\n",
      "----------------------------------\n",
      "Comment at page: AIS\n",
      "like & share #AIS #AunjaiSweetTime2017\n",
      "----------------------------------\n",
      "Comment at page: AIS\n",
      "แอด ตอบกลับในอินบ๊อกของผมด้วย ครับ\n",
      "----------------------------------\n"
     ]
    },
    {
     "data": {
      "image/png": "[encoded data removed]",
      "text/plain": [
       "<matplotlib.figure.Figure at 0x179896fff60>"
      ]
     },
     "metadata": {},
     "output_type": "display_data"
    }
   ],
   "source": [
    "def sampleCleanShifterComment(minService=2,minComment=10):\n",
    "    moreService = clean_shifter['service']['getNumService']>=minService\n",
    "    moreComment = clean_shifter['service']['getCommentCount']>=minComment\n",
    "    allCond = moreService & moreComment\n",
    "    selectedCondition = clean_shifter[allCond]\n",
    "    print(\"Hit user: \"+str(selectedCondition.shape[0]))\n",
    "    randomName = selectedCondition.reset_index()['commenter_name'].sample(1).values[0]\n",
    "    analyzeUserComment(randomName)\n",
    "sampleCleanShifterComment()"
   ]
  },
  {
   "cell_type": "code",
   "execution_count": 243,
   "metadata": {
    "collapsed": false
   },
   "outputs": [
    {
     "name": "stdout",
     "output_type": "stream",
     "text": [
      "Hit user: 8\n",
      "Pom Rakitsara has 29 comments.\n",
      "Sample comment : \n",
      "Comment at page: AIS\n",
      "ข้าพเจ้าใช้เบอร์ 0877454593  ซึ่งมีย้ายค่ายจาก Dtac มา AIS เพราะเห็นว่าแพ็จเก็จคุ้มค่า ซึ่งก็ได้ข้อมูลว่า ได้ใช้ Multisim ฟรี 1 ใบ แต่ปรากฎว่า ค่าบริการรอบบิลล่าสุด มีการเรียกเก็บเงินค่า Multisim มา และข้าพเจ้าได้มีการโทรสอบถามทาง 1175(คุณดุสิต) ได้มีการโทรมาแจ้งข้าพเจ้าแล้วว่า ที่ฟรีเฉพาะค่าซิมเท่านั้น ส่วนค่าบริการรายเดือนเดือนละ 20 บาท ไม่ฟรี  ทาง AIS ทำไมไม่ระบุให้ชัดเจน และเมื่อตอนที่ข้าพเจ้าไปทำ Multisim ที่ AIS สาขาโรบินสันศรีราชา ไม่มีเจ้าหน้าที่ท่านใดแจ้งเลยว่าเสียค่าบริการรายเดือนอีกเดือนละ 20 บาท  วันนี้ (4/12/2559) ข้าพเจ้าได้ไปยกเลิกเบอร์ที่ AIS สาขาโรบินสันศรีราชา ใช้บริการ Counter ที่2  แทนที่พนักงานจะหาหกทางแก้ไขให้ หรือแนะนำหรือปรึกษาหัวหน้า  กลับให้ข้าพเจ้ายกเลิกเบอร์เฉยเลย และเปลี่ยนเป็นระบบเติมเงินให้  ที่เจ็บปวดกว่านั้น พนักงานแจ้งว่า การยกเลิกระหว่างรอบบิล จะคิดค่่าบริการเต็มรอบบิล ไม่ได้คิดเฉลี่ยต่อวัน  นี่มันโกงกันและเอาเปรียบกันชัดๆ พนักงานแจ้งว่าให้มายกเลิกอีกครั้ง ในวันที่ใกล้ๆตัดรอบก็คือวันที่ 23 ธันวาคม 2559  ข้าพเจ้าไม่ได้มีเวลามากพอที่จะมา Shop คุณบ่อยๆ นะครับ AIS การหากินแบบนี้ ไม่ใช่ทางออกที่ดีสำหรับธุรกิจของคุณเลย ลาก่อนเถอะ กลับมาใช้ Dtac เหมือนเดิมดีกว่า ค่าบริการคิดตามจริง ยกเลิกวันไหนก็คิดถึงแค่วันนั้น  ไม่ใช่มาคิดเหมาจ่ายทั้งรอบแบบนี้ คุณเป็นเครือข่ายที่เอาเปรียบลูกค้ามากๆ ไตร่ตรองให้ดีด้วยนะครับ ก่อนที่จะย้ายค่ายมากัน เพราะข้าพเจ้าโดนมากับตัวในวันนี้ ขอบคุณครับ  จากธิติกร รักอิสระ\n",
      "----------------------------------\n",
      "Comment at page: AIS\n",
      "ข้าพเจ้าใช้เบอร์ 0877454593  ซึ่งมีย้ายค่ายจาก Dtac มา AIS เพราะเห็นว่าแพ็จเก็จคุ้มค่า \n",
      "\n",
      "ซึ่งก็ได้ข้อมูลว่า ได้ใช้ Multisim ฟรี 1 ใบ แต่ปรากฎว่า ค่าบริการรอบบิลล่าสุด มีการเรียกเก็บเงินค่า Multisim มา และข้าพเจ้าได้มีการโทรสอบถามทาง 1175(คุณดุสิต) ได้มีการโทรมาแจ้งข้าพเจ้าแล้วว่า ที่ฟรีเฉพาะค่าซิมเท่านั้น ส่วนค่าบริการรายเดือนเดือนละ 20 บาท ไม่ฟรี  ทาง AIS ทำไมไม่ระบุให้ชัดเจน \n",
      "\n",
      "และเมื่อตอนที่ข้าพเจ้าไปทำ Multisim ที่ AIS สาขาโรบินสันศรีราชา ไม่มีเจ้าหน้าที่ท่านใดแจ้งเลยว่าเสียค่าบริการรายเดือนอีกเดือนละ 20 บาท  \n",
      "\n",
      "วันนี้ (4/12/2559) ข้าพเจ้าได้ไปยกเลิกเบอร์ที่ AIS สาขาโรบินสันศรีราชา ใช้บริการ Counter ที่2  แทนที่พนักงานจะหาหกทางแก้ไขให้ หรือแนะนำหรือปรึกษาหัวหน้า  กลับให้ข้าพเจ้ายกเลิกเบอร์เฉยเลย และเปลี่ยนเป็นระบบเติมเงินให้  \n",
      "\n",
      "ที่เจ็บปวดกว่านั้น พนักงานแจ้งว่า การยกเลิกระหว่างรอบบิล จะคิดค่่าบริการเต็มรอบบิล ไม่ได้คิดเฉลี่ยต่อวัน  นี่มันโกงกันและเอาเปรียบกันชัดๆ พนักงานแจ้งว่าให้มายกเลิกอีกครั้ง ในวันที่ใกล้ๆตัดรอบก็คือวันที่ 23 ธันวาคม 2559  ข้าพเจ้าไม่ได้มีเวลามากพอที่จะมา Shop คุณบ่อยๆ นะครับ AIS \n",
      "\n",
      "การหากินแบบนี้ ไม่ใช่ทางออกที่ดีสำหรับธุรกิจของคุณเลย ลาก่อนเถอะ กลับมาใช้ Dtac เหมือนเดิมดีกว่า ค่าบริการคิดตามจริง ยกเลิกวันไหนก็คิดถึงแค่วันนั้น  ไม่ใช่มาคิดเหมาจ่ายทั้งรอบแบบนี้ คุณเป็นเครือข่ายที่เอาเปรียบลูกค้ามากๆ \n",
      "\n",
      "ไตร่ตรองให้ดีด้วยนะครับ ก่อนที่จะย้ายค่ายมากัน เพราะข้าพเจ้าโดนมากับตัวในวันนี้ ขอบคุณครับ \n",
      "\n",
      "ปล. พนักงานคุณถูกเทรนมาเพื่อยิ้มสวยๆ เพียงอย่างเดียวรึ แก้ปัญหา หรือไปปรึกษาหัวหน้างานที่สามารถตัดสินใจไม่ได้เลยรึ ถ้าจ้างมาเพื่อยิ้มสวยๆ แก้ไขปัญหาอะไรไม่ได้ ก็อย่าจ้างให้เปลืองค่าจ้างเลย\n",
      "----------------------------------\n",
      "Comment at page: AIS\n",
      "ข้าพเจ้าใช้เบอร์ 0877454593  ซึ่งมีย้ายค่ายจาก Dtac มา AIS เพราะเห็นว่าแพ็จเก็จคุ้มค่า \n",
      "\n",
      "ซึ่งก็ได้ข้อมูลว่า ได้ใช้ Multisim ฟรี 1 ใบ แต่ปรากฎว่า ค่าบริการรอบบิลล่าสุด มีการเรียกเก็บเงินค่า Multisim มา และข้าพเจ้าได้มีการโทรสอบถามทาง 1175(คุณดุสิต) ได้มีการโทรมาแจ้งข้าพเจ้าแล้วว่า ที่ฟรีเฉพาะค่าซิมเท่านั้น ส่วนค่าบริการรายเดือนเดือนละ 20 บาท ไม่ฟรี  ทาง AIS ทำไมไม่ระบุให้ชัดเจน \n",
      "\n",
      "และเมื่อตอนที่ข้าพเจ้าไปทำ Multisim ที่ AIS สาขาโรบินสันศรีราชา ไม่มีเจ้าหน้าที่ท่านใดแจ้งเลยว่าเสียค่าบริการรายเดือนอีกเดือนละ 20 บาท  \n",
      "\n",
      "วันนี้ (4/12/2559) ข้าพเจ้าได้ไปยกเลิกเบอร์ที่ AIS สาขาโรบินสันศรีราชา ใช้บริการ Counter ที่2  แทนที่พนักงานจะหาหกทางแก้ไขให้ หรือแนะนำหรือปรึกษาหัวหน้า  กลับให้ข้าพเจ้ายกเลิกเบอร์เฉยเลย และเปลี่ยนเป็นระบบเติมเงินให้  \n",
      "\n",
      "ที่เจ็บปวดกว่านั้น พนักงานแจ้งว่า การยกเลิกระหว่างรอบบิล จะคิดค่่าบริการเต็มรอบบิล ไม่ได้คิดเฉลี่ยต่อวัน  นี่มันโกงกันและเอาเปรียบกันชัดๆ พนักงานแจ้งว่าให้มายกเลิกอีกครั้ง ในวันที่ใกล้ๆตัดรอบก็คือวันที่ 23 ธันวาคม 2559  ข้าพเจ้าไม่ได้มีเวลามากพอที่จะมา Shop คุณบ่อยๆ นะครับ AIS \n",
      "\n",
      "การหากินแบบนี้ ไม่ใช่ทางออกที่ดีสำหรับธุรกิจของคุณเลย ลาก่อนเถอะ กลับมาใช้ Dtac เหมือนเดิมดีกว่า ค่าบริการคิดตามจริง ยกเลิกวันไหนก็คิดถึงแค่วันนั้น  ไม่ใช่มาคิดเหมาจ่ายทั้งรอบแบบนี้ คุณเป็นเครือข่ายที่เอาเปรียบลูกค้ามากๆ \n",
      "\n",
      "ไตร่ตรองให้ดีด้วยนะครับ ก่อนที่จะย้ายค่ายมากัน เพราะข้าพเจ้าโดนมากับตัวในวันนี้ ขอบคุณครับ \n",
      "\n",
      "ปล. พนักงานคุณถูกเทรนมาเพื่อยิ้มสวยๆ เพียงอย่างเดียวรึ แก้ปัญหา หรือไปปรึกษาหัวหน้างานที่สามารถตัดสินใจไม่ได้เลยรึ ถ้าจ้างมาเพื่อยิ้มสวยๆ แก้ไขปัญหาอะไรไม่ได้ ก็อย่าจ้างให้เปลืองค่าจ้างเลย\n",
      "----------------------------------\n",
      "Comment at page: AIS\n",
      "เรียน AIS  ข้าพเจ้าใช้หมายเลข 0877454593 และได้มีการขอรับเงินคืนผ่านการโอนเงินเข้าบัญชี  บัดนี้ยังไม่มีการโอนเงินคืนเข้าแต่อย่างใด  รบกวนติดตามให้ด้วยครับ เพราะทางเจ้าหน้าที่แจ้งว่า จะโอนเงินคืนภายใน 3 วันทำการ นี่ก็ผ่านล่วงเลยมา 6 วันแล้ว  ขอบคุณครับ /ธิติกร รักอิสระ\n",
      "----------------------------------\n",
      "Comment at page: DTAC\n",
      "เรียนดีแทค  ข้าพเจ้าใช้งานอยู่ที่ หมู่ที่ 8 ต.หนองขาม อ.ศรีราชา จ.ชลบุรี ด้วยหมายเลขโทรศัพท์ 0815749944 ซึ่งทดสอบความเร็วมาเพียง 5-7 Mbs. ซึ่งถือว่าน้อยมาก และมีการแจ้งไปแล้ว แต่ทางหน่วยงาน น้องฟ้า บ้าบออะไรของคุณ ให้ลบ cache/cookie และข้อมูลในเครื่อง รวมถึงแอพพลิเคชั่นที่เปิดใช้งานพร้อมกันออก ซึ่งได้ทำจนจะโยนโทรศัพท์ทิ้งแล้ว สัญญาก็ยังเหมือนเดิม  ดูวีดีโอ และคลิปสะดุดตลอด ทั้งๆ ที่มีการเปลี่ยนโปรโมชั่น เป็นแบบ Super Non Stop 699 ไปแล้ว สรุปคือคุณได้มีการ Reset สัญญาณ หรือปรับเปลี่ยนความเร็วแพ็จเก็จให้หรือไม่  แล้วไอ้ข้อความจากคุณน้องฟ้า ที่ส่งมาเป็นแพลทเทิ่นเดียวกัน เหมือนระบบอัตโนมัติไม่ต้องส่งมาอีก กรุณาเอามนุษย์ที่พูดได้ โทรมา หรือต้องให้ย้ายค่ายไป AIS รู้ไหมว่าอารมณ์เริ่มเสียแล้ว จากธิติกร รักอิสระ\n",
      "----------------------------------\n",
      "Comment at page: DTAC\n",
      "เรียนดีแทค  ข้าพเจ้าใช้งานอยู่ที่ หมู่ที่ 8 ต.หนองขาม อ.ศรีราชา จ.ชลบุรี ด้วยหมายเลขโทรศัพท์ 0815749944 ซึ่งทดสอบความเร็วมาเพียง 5-7 Mbs. ซึ่งถือว่าน้อยมาก และมีการแจ้งไปแล้ว แต่ทางหน่วยงาน น้องฟ้า บ้าบออะไรของคุณ ให้ลบ cache/cookie และข้อมูลในเครื่อง รวมถึงแอพพลิเคชั่นที่เปิดใช้งานพร้อมกันออก ซึ่งได้ทำจนจะโยนโทรศัพท์ทิ้งแล้ว สัญญาก็ยังเหมือนเดิม  ดูวีดีโอ และคลิปสะดุดตลอด ทั้งๆ ที่มีการเปลี่ยนโปรโมชั่น เป็นแบบ Super Non Stop 699 ไปแล้ว สรุปคือคุณได้มีการ Reset สัญญาณ หรือปรับเปลี่ยนความเร็วแพ็จเก็จให้หรือไม่  แล้วไอ้ข้อความจากคุณน้องฟ้า ที่ส่งมาเป็นแพลทเทิ่นเดียวกัน เหมือนระบบอัตโนมัติไม่ต้องส่งมาอีก กรุณาเอามนุษย์ที่พูดได้ โทรมา หรือต้องให้ย้ายค่ายไป AIS รู้ไหมว่าอารมณ์เริ่มเสียแล้ว จากธิติกร รักอิสระ\n",
      "----------------------------------\n",
      "Comment at page: DTAC\n",
      "เรียนดีแทค  ข้าพเจ้าใช้งานอยู่ที่ หมู่ที่ 8 ต.หนองขาม อ.ศรีราชา จ.ชลบุรี ด้วยหมายเลขโทรศัพท์ 0815749944 ซึ่งทดสอบความเร็วมาเพียง 5-7 Mbs. ซึ่งถือว่าน้อยมาก และมีการแจ้งไปแล้ว แต่ทางหน่วยงาน น้องฟ้า บ้าบออะไรของคุณ ให้ลบ cache/cookie และข้อมูลในเครื่อง รวมถึงแอพพลิเคชั่นที่เปิดใช้งานพร้อมกันออก ซึ่งได้ทำจนจะโยนโทรศัพท์ทิ้งแล้ว สัญญาก็ยังเหมือนเดิม  ดูวีดีโอ และคลิปสะดุดตลอด ทั้งๆ ที่มีการเปลี่ยนโปรโมชั่น เป็นแบบ Super Non Stop 699 ไปแล้ว สรุปคือคุณได้มีการ Reset สัญญาณ หรือปรับเปลี่ยนความเร็วแพ็จเก็จให้หรือไม่  แล้วไอ้ข้อความจากคุณน้องฟ้า ที่ส่งมาเป็นแพลทเทิ่นเดียวกัน เหมือนระบบอัตโนมัติไม่ต้องส่งมาอีก กรุณาเอามนุษย์ที่พูดได้ โทรมา หรือต้องให้ย้ายค่ายไป AIS รู้ไหมว่าอารมณ์เริ่มเสียแล้ว จากธิติกร รักอิสระ\n",
      "----------------------------------\n"
     ]
    },
    {
     "data": {
      "image/png": "[encoded data removed]",
      "text/plain": [
       "<matplotlib.figure.Figure at 0x17987a1aef0>"
      ]
     },
     "metadata": {},
     "output_type": "display_data"
    }
   ],
   "source": [
    "sampleCleanShifterComment(minService=2,minComment=25)"
   ]
  },
  {
   "cell_type": "code",
   "execution_count": 221,
   "metadata": {
    "collapsed": true
   },
   "outputs": [
    {
     "name": "stdout",
     "output_type": "stream",
     "text": [
      "อย่าซื้อเครื่องหรือรับเครื่องจากais  เพราะจะพบกับนรกบนดิน. อย่างไอโฟนจะไม่รับเค้าบอกซื้อจากไหนเคมที่นั่นถ้าค่ายโทรศัพท์เพราะพวกนี้เอาเครื่องมาจัดทำโปรไอสตูดิโอ้ กับพวกร้ายแอปเปิ้ลไม่รับส่งผ่านช็อบครับ เดินออกจากร้าน10นาทีเครื่องรวนส่งซ่อม. ที่อื่นเปลี่ยนใหม่\n",
      "---------\n",
      "ซื้อไม่แพงกว่าถ้าโดนเอาเปรียบด้านโปร. นรกมีจริง. เพราะais ดีแต่ปาก. \n",
      "พวกคุณรู้มั้ย. Ture  dtac   ใช้เครือข่ายตัวเองโทรเข้าที่1331  1678  คิดเป็นครั้งครั้งละ3. บาท.  แต่ais  โทรเข้า1175. คิดเป็นนาทีครับ. สำหรับคนไม่รู้เพราะทางais. จะมีการดึงเวลาให้พอสมควรถึงตอบคำถาม. คือคิดยอดเงินจากโปร. เช่นใครโทรฟรี. 100 นาที โทรเข้า 1175. 50. นา ทั. เหลือเวลา โปร. 50. นาที. ส่วนเติมเงินหักจากยอดเงินครับถ้านาทีแรก 2 บาท นาทีต่อไป 1 บาท. ก็จะโดน. 51  บาทไม่รวมvat ครับ\n",
      "---------\n",
      "อยากเล่นเกมมั้ยครับ. Ais  ตอบกลับมาแต่. Inbox  สนใจมั้ยครับ\n",
      "---------\n",
      "ตอนซื้อก็ง่าย ตอนเคมโครตยากเลย ซื้อที่ไหนก็ได้. แต่เคมเฉพาะที่\n",
      "---------\n",
      "ใครรู้จัก  sim 2 fly  มั่งครับ. เป็นซิมทีาสามารถไปใช้ต่างประเทศได้เลย. แต่ถ้าซิมหาย. ไปทำใหม่. เอาไปใช้คนละโปร. ทาง  AIS. แจ้งว่า ถ้าซิมหายทำใหม่จะไม่ได้โปรเก่าถ้าลูกค้าอยากได้แบบเดิมต้องเปิดเบอร์ใหม่. ถ้าจะเอาเบอร์เดิม ก็ไม่สามารถใช้โปรเดิมได้. สุดยอดมั้ยครับ\n",
      "---------\n",
      "ใครรู้จัก  sim 2 fly  มั่งครับ. เป็นซิมทีาสามารถไปใช้ต่างประเทศได้เลย. แต่ถ้าซิมหาย. ไปทำใหม่. เอาไปใช้คนละโปร. ทาง  AIS. แจ้งว่า ถ้าซิมหายทำใหม่จะไม่ได้โปรเก่าถ้าลูกค้าอยากได้แบบเดิมต้องเปิดเบอร์ใหม่. ถ้าจะเอาเบอร์เดิม ก็ไม่สามารถใช้โปรเดิมได้. สุดยอดมั้ยครับ\n",
      "---------\n",
      "ใครรู้จัก  sim 2 fly  มั่งครับ. เป็นซิมทีาสามารถไปใช้ต่างประเทศได้เลย. แต่ถ้าซิมหาย. ไปทำใหม่. เอาไปใช้คนละโปร. ทาง  AIS. แจ้งว่า ถ้าซิมหายทำใหม่จะไม่ได้โปรเก่าถ้าลูกค้าอยากได้แบบเดิมต้องเปิดเบอร์ใหม่. ถ้าจะเอาเบอร์เดิม ก็ไม่สามารถใช้โปรเดิมได้. สุดยอดมั้ยครับ\n",
      "---------\n",
      "ใครรู้จัก  sim 2 fly  มั่งครับ. เป็นซิมทีาสามารถไปใช้ต่างประเทศได้เลย. แต่ถ้าซิมหาย. ไปทำใหม่. เอาไปใช้คนละโปร. ทาง  AIS. แจ้งว่า ถ้าซิมหายทำใหม่จะไม่ได้โปรเก่าถ้าลูกค้าอยากได้แบบเดิมต้องเปิดเบอร์ใหม่. ถ้าจะเอาเบอร์เดิม ก็ไม่สามารถใช้โปรเดิมได้. สุดยอดมั้ยครับ\n",
      "---------\n",
      "ใครรู้จัก  sim 2 fly  มั่งครับ. เป็นซิมทีาสามารถไปใช้ต่างประเทศได้เลย. แต่ถ้าซิมหาย. ไปทำใหม่. เอาไปใช้คนละโปร. ทาง  AIS. แจ้งว่า ถ้าซิมหายทำใหม่จะไม่ได้โปรเก่าถ้าลูกค้าอยากได้แบบเดิมต้องเปิดเบอร์ใหม่. ถ้าจะเอาเบอร์เดิม ก็ไม่สามารถใช้โปรเดิมได้. สุดยอดมั้ยครับ\n",
      "---------\n",
      "ใครรู้จัก  sim 2 fly  มั่งครับ. เป็นซิมทีาสามารถไปใช้ต่างประเทศได้เลย. แต่ถ้าซิมหาย. ไปทำใหม่. เอาไปใช้คนละโปร. ทาง  AIS. แจ้งว่า ถ้าซิมหายทำใหม่จะไม่ได้โปรเก่าถ้าลูกค้าอยากได้แบบเดิมต้องเปิดเบอร์ใหม่. ถ้าจะเอาเบอร์เดิม ก็ไม่สามารถใช้โปรเดิมได้. สุดยอดมั้ยครับ\n",
      "---------\n",
      "ใครรู้จัก  sim 2 fly  มั่งครับ. เป็นซิมทีาสามารถไปใช้ต่างประเทศได้เลย. แต่ถ้าซิมหาย. ไปทำใหม่. เอาไปใช้คนละโปร. ทาง  AIS. แจ้งว่า ถ้าซิมหายทำใหม่จะไม่ได้โปรเก่าถ้าลูกค้าอยากได้แบบเดิมต้องเปิดเบอร์ใหม่. ถ้าจะเอาเบอร์เดิม ก็ไม่สามารถใช้โปรเดิมได้. สุดยอดมั้ยครับ\n",
      "---------\n",
      "แค่ซิมหาย ais ให้เปิดเบอร์ใหม่. จะได้บอดได้ว่ามีคนใช้เยอะ\n",
      "---------\n",
      "ย้ายค่ายครับ\n",
      "---------\n"
     ]
    }
   ],
   "source": [
    "for comment in df['message'][(df['commenter_name']=='Kittithat Tri') & (df['class']=='Positive')].values:\n",
    "    print(comment)\n",
    "    print(\"---------\")"
   ]
  },
  {
   "cell_type": "code",
   "execution_count": 240,
   "metadata": {
    "collapsed": true
   },
   "outputs": [],
   "source": [
    "interestingCommetnerName = [\n",
    "    'Kittithat Tri',\n",
    "    'Pom Rakitsara',\n",
    "    'Prayoon Lertkamolmal'\n",
    "]"
   ]
  }
 ],
 "metadata": {
  "anaconda-cloud": {},
  "kernelspec": {
   "display_name": "Python [conda root]",
   "language": "python",
   "name": "conda-root-py"
  },
  "language_info": {
   "codemirror_mode": {
    "name": "ipython",
    "version": 3
   },
   "file_extension": ".py",
   "mimetype": "text/x-python",
   "name": "python",
   "nbconvert_exporter": "python",
   "pygments_lexer": "ipython3",
   "version": "3.5.2"
  }
 },
 "nbformat": 4,
 "nbformat_minor": 2
}
