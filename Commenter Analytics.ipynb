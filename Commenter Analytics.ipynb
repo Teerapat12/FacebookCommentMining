{
 "cells": [
  {
   "cell_type": "markdown",
   "metadata": {},
   "source": [
    "# Facebook Comment Analytics (Commenter)\n",
    "----\n",
    "In this notebook, we will explore user that has comment many comment and see their behavior."
   ]
  },
  {
   "cell_type": "code",
   "execution_count": 117,
   "metadata": {
    "collapsed": false,
    "nbpresent": {
     "id": "16073377-0d8b-45be-8a2e-4f46c87f96c2"
    }
   },
   "outputs": [],
   "source": [
    "import pandas as pd\n",
    "import numpy as np\n",
    "from pythainlp.tokenize import word_tokenize\n",
    "import seaborn as sns\n",
    "import matplotlib.pyplot as plt\n",
    "import matplotlib.dates as mdates\n",
    "import matplotlib as mpl\n",
    "mpl.rc('font',family='JasmineUPC')\n",
    "mpl.rc('xtick', labelsize=15) \n",
    "mpl.rc('ytick', labelsize=15) \n",
    "%matplotlib inline"
   ]
  },
  {
   "cell_type": "code",
   "execution_count": 2,
   "metadata": {
    "collapsed": true
   },
   "outputs": [],
   "source": [
    "import plotly \n",
    "plotly.tools.set_credentials_file(username='TeerapatChaiwachirasak', api_key='RMqZv6z9pSmGeRafgNnS')\n",
    "import plotly.plotly as py\n",
    "import plotly.graph_objs as go"
   ]
  },
  {
   "cell_type": "code",
   "execution_count": 3,
   "metadata": {
    "collapsed": false,
    "nbpresent": {
     "id": "5e2f6416-5bbb-41d5-8d13-21d7907dc265"
    }
   },
   "outputs": [
    {
     "name": "stderr",
     "output_type": "stream",
     "text": [
      "C:\\Program Files\\Anaconda3\\lib\\site-packages\\IPython\\core\\interactiveshell.py:2717: DtypeWarning:\n",
      "\n",
      "Columns (0,7) have mixed types. Specify dtype option on import or set low_memory=False.\n",
      "\n",
      "C:\\Program Files\\Anaconda3\\lib\\site-packages\\ipykernel\\__main__.py:7: SettingWithCopyWarning:\n",
      "\n",
      "\n",
      "A value is trying to be set on a copy of a slice from a DataFrame\n",
      "\n",
      "See the caveats in the documentation: http://pandas.pydata.org/pandas-docs/stable/indexing.html#indexing-view-versus-copy\n",
      "\n"
     ]
    },
    {
     "data": {
      "text/html": [
       "<div>\n",
       "<table border=\"1\" class=\"dataframe\">\n",
       "  <thead>\n",
       "    <tr style=\"text-align: right;\">\n",
       "      <th></th>\n",
       "      <th>commenter_name</th>\n",
       "      <th>created_time</th>\n",
       "      <th>like_count</th>\n",
       "      <th>message</th>\n",
       "      <th>service</th>\n",
       "      <th>created_date</th>\n",
       "      <th>created_date_format</th>\n",
       "    </tr>\n",
       "  </thead>\n",
       "  <tbody>\n",
       "    <tr>\n",
       "      <th>0</th>\n",
       "      <td>Nui Worabut</td>\n",
       "      <td>2016-06-01 12:53:00</td>\n",
       "      <td>1.0</td>\n",
       "      <td>ใช้โปรเสริม net non..9 gb  ใช้หมดลดความเร็วไม่...</td>\n",
       "      <td>DTAC</td>\n",
       "      <td>2016-06-01 12:53:00</td>\n",
       "      <td>2016-06-01</td>\n",
       "    </tr>\n",
       "    <tr>\n",
       "      <th>1</th>\n",
       "      <td>Chandratithaya Je-u</td>\n",
       "      <td>2016-06-02 17:17:32</td>\n",
       "      <td>0.0</td>\n",
       "      <td>ใช้ดีแทค แล้วปวดใจจริงๆ สัญญานขาดหาย อินเตอร์เ...</td>\n",
       "      <td>DTAC</td>\n",
       "      <td>2016-06-02 17:17:32</td>\n",
       "      <td>2016-06-02</td>\n",
       "    </tr>\n",
       "    <tr>\n",
       "      <th>2</th>\n",
       "      <td>Hataichanok Maklamai</td>\n",
       "      <td>2016-06-02 07:51:45</td>\n",
       "      <td>0.0</td>\n",
       "      <td>ส่งขอมูลไปทาง ib แล้วนะคะ รบกวนตอบด้วยคะ ส่งไป...</td>\n",
       "      <td>DTAC</td>\n",
       "      <td>2016-06-02 07:51:45</td>\n",
       "      <td>2016-06-02</td>\n",
       "    </tr>\n",
       "    <tr>\n",
       "      <th>3</th>\n",
       "      <td>Nattapong Wongsa</td>\n",
       "      <td>2016-06-02 15:43:53</td>\n",
       "      <td>1.0</td>\n",
       "      <td>อะไรนี้...ไม่เปิดให้เติมเกมส์ใช้ปะ  จะได้เลิกใช้</td>\n",
       "      <td>DTAC</td>\n",
       "      <td>2016-06-02 15:43:53</td>\n",
       "      <td>2016-06-02</td>\n",
       "    </tr>\n",
       "    <tr>\n",
       "      <th>4</th>\n",
       "      <td>Jitsak Sisawad</td>\n",
       "      <td>2016-06-02 15:09:06</td>\n",
       "      <td>0.0</td>\n",
       "      <td>ห่วยแตกไม่เคยแจ้งข่าวสารให้ลูก อยู่ๆก้มาเก็บค่...</td>\n",
       "      <td>DTAC</td>\n",
       "      <td>2016-06-02 15:09:06</td>\n",
       "      <td>2016-06-02</td>\n",
       "    </tr>\n",
       "  </tbody>\n",
       "</table>\n",
       "</div>"
      ],
      "text/plain": [
       "         commenter_name         created_time  like_count  \\\n",
       "0           Nui Worabut  2016-06-01 12:53:00         1.0   \n",
       "1   Chandratithaya Je-u  2016-06-02 17:17:32         0.0   \n",
       "2  Hataichanok Maklamai  2016-06-02 07:51:45         0.0   \n",
       "3      Nattapong Wongsa  2016-06-02 15:43:53         1.0   \n",
       "4        Jitsak Sisawad  2016-06-02 15:09:06         0.0   \n",
       "\n",
       "                                             message service  \\\n",
       "0  ใช้โปรเสริม net non..9 gb  ใช้หมดลดความเร็วไม่...    DTAC   \n",
       "1  ใช้ดีแทค แล้วปวดใจจริงๆ สัญญานขาดหาย อินเตอร์เ...    DTAC   \n",
       "2  ส่งขอมูลไปทาง ib แล้วนะคะ รบกวนตอบด้วยคะ ส่งไป...    DTAC   \n",
       "3   อะไรนี้...ไม่เปิดให้เติมเกมส์ใช้ปะ  จะได้เลิกใช้    DTAC   \n",
       "4  ห่วยแตกไม่เคยแจ้งข่าวสารให้ลูก อยู่ๆก้มาเก็บค่...    DTAC   \n",
       "\n",
       "         created_date created_date_format  \n",
       "0 2016-06-01 12:53:00          2016-06-01  \n",
       "1 2016-06-02 17:17:32          2016-06-02  \n",
       "2 2016-06-02 07:51:45          2016-06-02  \n",
       "3 2016-06-02 15:43:53          2016-06-02  \n",
       "4 2016-06-02 15:09:06          2016-06-02  "
      ]
     },
     "execution_count": 3,
     "metadata": {},
     "output_type": "execute_result"
    }
   ],
   "source": [
    "#Test reading from .tsv\n",
    "commentDf = pd.read_csv('../dataset/facebook_comment.tsv',sep ='\\t')\n",
    "commentDf['message'] = np.nan_to_num(commentDf['message'])\n",
    "commentDf = commentDf[['commenter_name','created_time','like_count','message','service']]\n",
    "commentDf['created_date'] = pd.to_datetime(commentDf['created_time'], format='%Y-%m-%d %H:%M:%S.%f')\n",
    "commentDf['created_date_format'] = commentDf['created_date'].apply(lambda x: x.replace(hour=0, minute=0, second=0, microsecond=0))\n",
    "commentDf['service'][commentDf['service']==True] = 'TRUE'\n",
    "commentDf.head()"
   ]
  },
  {
   "cell_type": "markdown",
   "metadata": {},
   "source": [
    "## Here we are going to look at top commenters (commenter whose comment a lot)\n",
    "---------------------------"
   ]
  },
  {
   "cell_type": "code",
   "execution_count": 4,
   "metadata": {
    "collapsed": false,
    "scrolled": false
   },
   "outputs": [
    {
     "data": {
      "text/plain": [
       "ธนิด ภัทรกิตติ      1830\n",
       "อนันต์ ด้า           548\n",
       "TrueMove H           399\n",
       "AIS                  237\n",
       "Joe KonTummada       182\n",
       "Kittithat Tri        177\n",
       "Artinut Nopparat     156\n",
       "Bosa Bisabo          142\n",
       "เชยกลิ่น แล้วงัย     140\n",
       "Back Green           139\n",
       "Name: commenter_name, dtype: int64"
      ]
     },
     "execution_count": 4,
     "metadata": {},
     "output_type": "execute_result"
    }
   ],
   "source": [
    "commentDf['commenter_name'].value_counts().head(10)"
   ]
  },
  {
   "cell_type": "markdown",
   "metadata": {},
   "source": [
    "## Let's also find top 3 commenter for each of the service provider\n",
    "--------"
   ]
  },
  {
   "cell_type": "code",
   "execution_count": 5,
   "metadata": {
    "collapsed": false
   },
   "outputs": [
    {
     "data": {
      "image/png": "[encoded data removed]",
      "text/plain": [
       "<matplotlib.figure.Figure at 0x1b9fd1efda0>"
      ]
     },
     "metadata": {},
     "output_type": "display_data"
    }
   ],
   "source": [
    "def topCommenter():\n",
    "    colors = ['#019CDE','#BCCD05','#D51F26']\n",
    "    fig,ax = plt.subplots(1,3,figsize=(15,5))\n",
    "    for i,service in enumerate(['DTAC','AIS','TRUE']):\n",
    "        topCommenter = commentDf['commenter_name'][commentDf['service']==service].value_counts().head(3)\n",
    "        ax[i].bar([0.75,2.75,4.75],topCommenter,width=0.5,color=colors[i],edgecolor = \"none\")\n",
    "        ax[i].set_xlim((0,6.5))\n",
    "        ax[i].set_ylim((0,1800))\n",
    "        ax[i].set_title(service+\"'s top 3 commenters\",fontsize=25)\n",
    "        ax[i].set_xticks([0.75,2.75,4.75])\n",
    "        ax[i].set_xticklabels(topCommenter.index.values)    \n",
    "    plt.show()\n",
    "topCommenter()"
   ]
  },
  {
   "cell_type": "markdown",
   "metadata": {},
   "source": [
    "### Let's focus on คุณ ธนิด ภัทรกิตติ first.\n",
    "-----------"
   ]
  },
  {
   "cell_type": "code",
   "execution_count": 109,
   "metadata": {
    "collapsed": false,
    "scrolled": false
   },
   "outputs": [
    {
     "name": "stdout",
     "output_type": "stream",
     "text": [
      "ธนิด ภัทรกิตติ has 1830 comments.\n",
      "Sample comment : \n",
      "154\n"
     ]
    },
    {
     "data": {
      "text/html": [
       "<div>\n",
       "<table border=\"1\" class=\"dataframe\">\n",
       "  <thead>\n",
       "    <tr style=\"text-align: right;\">\n",
       "      <th></th>\n",
       "      <th>message</th>\n",
       "      <th>created_date_format</th>\n",
       "      <th>service</th>\n",
       "    </tr>\n",
       "  </thead>\n",
       "  <tbody>\n",
       "    <tr>\n",
       "      <th>127493</th>\n",
       "      <td>ทรูยูครับเมื่อวันศุกร์ผมแจ้งคุณนิพนธ์ไปแล้วว่า...</td>\n",
       "      <td>2016-07-09</td>\n",
       "      <td>TRUE</td>\n",
       "    </tr>\n",
       "    <tr>\n",
       "      <th>139341</th>\n",
       "      <td>คุณนิพนธ์ คุณสุรชาติ คณอรอุมา และเจ้าหน้าที่ 1...</td>\n",
       "      <td>2016-11-02</td>\n",
       "      <td>TRUE</td>\n",
       "    </tr>\n",
       "    <tr>\n",
       "      <th>138811</th>\n",
       "      <td>เรียนคุณจารุณี จรรยาธรรม\\nช่วยตรวจสอบการทำงานข...</td>\n",
       "      <td>2016-11-08</td>\n",
       "      <td>TRUE</td>\n",
       "    </tr>\n",
       "    <tr>\n",
       "      <th>139816</th>\n",
       "      <td>เรียนคุณจารุณี จรรยาธรรม\\nช่วยตรวจสอบการทำงานข...</td>\n",
       "      <td>2016-11-08</td>\n",
       "      <td>TRUE</td>\n",
       "    </tr>\n",
       "    <tr>\n",
       "      <th>141067</th>\n",
       "      <td>เรียน   คุณธนิด   ภัทรกิตติ  \\n\\n        เรียล...</td>\n",
       "      <td>2016-11-22</td>\n",
       "      <td>TRUE</td>\n",
       "    </tr>\n",
       "    <tr>\n",
       "      <th>145137</th>\n",
       "      <td>เรียนคณะกรรมการ กสทช.\\nแจ้งตรวจสอบ ROM ไม่ตรงส...</td>\n",
       "      <td>2016-12-16</td>\n",
       "      <td>TRUE</td>\n",
       "    </tr>\n",
       "    <tr>\n",
       "      <th>154379</th>\n",
       "      <td>เรียน คุณธนิด\\n\\nสำนักขอเรียนให้ท่านทราบว่า ได...</td>\n",
       "      <td>2017-02-17</td>\n",
       "      <td>TRUE</td>\n",
       "    </tr>\n",
       "  </tbody>\n",
       "</table>\n",
       "</div>"
      ],
      "text/plain": [
       "                                                  message created_date_format  \\\n",
       "127493  ทรูยูครับเมื่อวันศุกร์ผมแจ้งคุณนิพนธ์ไปแล้วว่า...          2016-07-09   \n",
       "139341  คุณนิพนธ์ คุณสุรชาติ คณอรอุมา และเจ้าหน้าที่ 1...          2016-11-02   \n",
       "138811  เรียนคุณจารุณี จรรยาธรรม\\nช่วยตรวจสอบการทำงานข...          2016-11-08   \n",
       "139816  เรียนคุณจารุณี จรรยาธรรม\\nช่วยตรวจสอบการทำงานข...          2016-11-08   \n",
       "141067  เรียน   คุณธนิด   ภัทรกิตติ  \\n\\n        เรียล...          2016-11-22   \n",
       "145137  เรียนคณะกรรมการ กสทช.\\nแจ้งตรวจสอบ ROM ไม่ตรงส...          2016-12-16   \n",
       "154379  เรียน คุณธนิด\\n\\nสำนักขอเรียนให้ท่านทราบว่า ได...          2017-02-17   \n",
       "\n",
       "       service  \n",
       "127493    TRUE  \n",
       "139341    TRUE  \n",
       "138811    TRUE  \n",
       "139816    TRUE  \n",
       "141067    TRUE  \n",
       "145137    TRUE  \n",
       "154379    TRUE  "
      ]
     },
     "execution_count": 109,
     "metadata": {},
     "output_type": "execute_result"
    },
    {
     "data": {
      "image/png": "[encoded data removed]",
      "text/plain": [
       "<matplotlib.figure.Figure at 0x1b9f71b4358>"
      ]
     },
     "metadata": {},
     "output_type": "display_data"
    }
   ],
   "source": [
    "def commentFromUser(name):\n",
    "    return commentDf[commentDf['commenter_name']==name]\n",
    "from datetime import datetime\n",
    "def analyzeUserComment(name):\n",
    "    colors = sns.color_palette(\"muted\", n_colors=8, desat=.5)\n",
    "    comment = commentFromUser(name)\n",
    "    print(\"%s has %d comments.\"%(name,comment.shape[0]))\n",
    "    print(\"Sample comment : \")\n",
    "    fig, axs = plt.subplots(ncols=2,figsize=(12,3))\n",
    "    sns.countplot(x=\"service\", data=comment,palette=colors,ax=axs[0])\n",
    "    axs[0].set_title('Comment Count (Service)')\n",
    "    sns.countplot(x=\"created_date_format\", data=comment,hue='service',palette=colors,ax=axs[1])\n",
    "    #axs[1].set_xticks([])\n",
    "    #axs[1].set_xticklabels([])d = ts\n",
    "    dateStr = [str(i)[10:20] for i in list(axs[1].get_xticklabels())]\n",
    "    print(len(dateStr))\n",
    "    if(len(dateStr)>=10):\n",
    "        dateStr = [date if (i%int(len(dateStr)/10))==0  else \"\" for i,date in enumerate(dateStr) ]\n",
    "        \n",
    "    axs[1].set_xticklabels(dateStr, rotation=40, ha=\"right\",size=10)\n",
    "    axs[1].set_title('Comment Count (Date)')\n",
    "    return comment[['message','created_date_format','service']].sample(7).sort_values('created_date_format')\n",
    "    \n",
    "analyzeUserComment('ธนิด ภัทรกิตติ')"
   ]
  },
  {
   "cell_type": "code",
   "execution_count": 118,
   "metadata": {
    "collapsed": false
   },
   "outputs": [
    {
     "data": {
      "text/html": [
       "<iframe id=\"igraph\" scrolling=\"no\" style=\"border:none;\" seamless=\"seamless\" src=\"https://plot.ly/~TeerapatChaiwachirasak/18.embed\" height=\"525px\" width=\"100%\"></iframe>"
      ],
      "text/plain": [
       "<plotly.tools.PlotlyDisplay object>"
      ]
     },
     "execution_count": 118,
     "metadata": {},
     "output_type": "execute_result"
    }
   ],
   "source": [
    "commentByDate = commentDf[commentDf['commenter_name']=='ธนิด ภัทรกิตติ']['created_date_format'].value_counts().sort_index()\n",
    "x = commentByDate.index.values\n",
    "y = commentByDate.values\n",
    "data = [go.Scatter(\n",
    "          x=x,\n",
    "          y=y\n",
    "        )]\n",
    "py.iplot(data)"
   ]
  },
  {
   "cell_type": "markdown",
   "metadata": {},
   "source": [
    "As you can see, most of the comment are negative towards TRUE (and little bit to DTac). We can assume that he is very active in using social media given the amount of comment he did."
   ]
  },
  {
   "cell_type": "markdown",
   "metadata": {},
   "source": [
    "### Moving on, let's see top commenter from DTac\n",
    "--------"
   ]
  },
  {
   "cell_type": "code",
   "execution_count": 121,
   "metadata": {
    "collapsed": false
   },
   "outputs": [
    {
     "name": "stdout",
     "output_type": "stream",
     "text": [
      "อนันต์ ด้า has 548 comments.\n",
      "Sample comment : \n",
      "73\n"
     ]
    },
    {
     "data": {
      "text/html": [
       "<div>\n",
       "<table border=\"1\" class=\"dataframe\">\n",
       "  <thead>\n",
       "    <tr style=\"text-align: right;\">\n",
       "      <th></th>\n",
       "      <th>message</th>\n",
       "      <th>created_date_format</th>\n",
       "      <th>service</th>\n",
       "    </tr>\n",
       "  </thead>\n",
       "  <tbody>\n",
       "    <tr>\n",
       "      <th>18511</th>\n",
       "      <td>หลุดแม่งทั้งวัน</td>\n",
       "      <td>2016-10-17</td>\n",
       "      <td>DTAC</td>\n",
       "    </tr>\n",
       "    <tr>\n",
       "      <th>21616</th>\n",
       "      <td>เน็ตหลุดบ่อย จนเอือมระอา น่าเบื่อ</td>\n",
       "      <td>2016-11-06</td>\n",
       "      <td>DTAC</td>\n",
       "    </tr>\n",
       "    <tr>\n",
       "      <th>21720</th>\n",
       "      <td>สตรอง</td>\n",
       "      <td>2016-11-07</td>\n",
       "      <td>DTAC</td>\n",
       "    </tr>\n",
       "    <tr>\n",
       "      <th>24331</th>\n",
       "      <td>โคตรกากเน็ตหมุนเป็น\"ฮูลาฮูบ\"เลยมึง</td>\n",
       "      <td>2016-11-24</td>\n",
       "      <td>DTAC</td>\n",
       "    </tr>\n",
       "    <tr>\n",
       "      <th>28856</th>\n",
       "      <td>เน็ตเหี้ยๆ</td>\n",
       "      <td>2016-12-11</td>\n",
       "      <td>DTAC</td>\n",
       "    </tr>\n",
       "    <tr>\n",
       "      <th>36946</th>\n",
       "      <td>เน็ตหมุนติ้วๆๆๆๆๆๆยังกับฮูลาฮูบ</td>\n",
       "      <td>2016-12-24</td>\n",
       "      <td>DTAC</td>\n",
       "    </tr>\n",
       "    <tr>\n",
       "      <th>45642</th>\n",
       "      <td>NaN</td>\n",
       "      <td>2017-02-08</td>\n",
       "      <td>DTAC</td>\n",
       "    </tr>\n",
       "  </tbody>\n",
       "</table>\n",
       "</div>"
      ],
      "text/plain": [
       "                                  message created_date_format service\n",
       "18511                     หลุดแม่งทั้งวัน          2016-10-17    DTAC\n",
       "21616   เน็ตหลุดบ่อย จนเอือมระอา น่าเบื่อ          2016-11-06    DTAC\n",
       "21720                               สตรอง          2016-11-07    DTAC\n",
       "24331  โคตรกากเน็ตหมุนเป็น\"ฮูลาฮูบ\"เลยมึง          2016-11-24    DTAC\n",
       "28856                          เน็ตเหี้ยๆ          2016-12-11    DTAC\n",
       "36946     เน็ตหมุนติ้วๆๆๆๆๆๆยังกับฮูลาฮูบ          2016-12-24    DTAC\n",
       "45642                                 NaN          2017-02-08    DTAC"
      ]
     },
     "execution_count": 121,
     "metadata": {},
     "output_type": "execute_result"
    },
    {
     "data": {
      "image/png": "[encoded data removed]",
      "text/plain": [
       "<matplotlib.figure.Figure at 0x1b9f6797ac8>"
      ]
     },
     "metadata": {},
     "output_type": "display_data"
    }
   ],
   "source": [
    "analyzeUserComment('อนันต์ ด้า')"
   ]
  },
  {
   "cell_type": "markdown",
   "metadata": {},
   "source": [
    "Quite similar to previous commenter."
   ]
  },
  {
   "cell_type": "markdown",
   "metadata": {},
   "source": [
    "### Let's look at  คุณ Back Green.\n",
    "--------------------"
   ]
  },
  {
   "cell_type": "code",
   "execution_count": 125,
   "metadata": {
    "collapsed": false
   },
   "outputs": [
    {
     "name": "stdout",
     "output_type": "stream",
     "text": [
      "Back Green has 139 comments.\n",
      "Sample comment : \n",
      "25\n"
     ]
    },
    {
     "data": {
      "text/html": [
       "<div>\n",
       "<table border=\"1\" class=\"dataframe\">\n",
       "  <thead>\n",
       "    <tr style=\"text-align: right;\">\n",
       "      <th></th>\n",
       "      <th>message</th>\n",
       "      <th>created_date_format</th>\n",
       "      <th>service</th>\n",
       "    </tr>\n",
       "  </thead>\n",
       "  <tbody>\n",
       "    <tr>\n",
       "      <th>134217</th>\n",
       "      <td>เน็ต สน ตีน</td>\n",
       "      <td>2016-08-30</td>\n",
       "      <td>TRUE</td>\n",
       "    </tr>\n",
       "    <tr>\n",
       "      <th>35599</th>\n",
       "      <td>ยิ่ง ด่า ยิ่ง และ สาด กุ ขำ กุ จะ เข้า มา ด่า ...</td>\n",
       "      <td>2016-12-19</td>\n",
       "      <td>DTAC</td>\n",
       "    </tr>\n",
       "    <tr>\n",
       "      <th>36861</th>\n",
       "      <td>เน็ตโคดกากสาดหมา</td>\n",
       "      <td>2017-01-06</td>\n",
       "      <td>DTAC</td>\n",
       "    </tr>\n",
       "    <tr>\n",
       "      <th>39761</th>\n",
       "      <td>กาก</td>\n",
       "      <td>2017-01-14</td>\n",
       "      <td>DTAC</td>\n",
       "    </tr>\n",
       "    <tr>\n",
       "      <th>45170</th>\n",
       "      <td>ไอสาดอารมเสียจิบผาย</td>\n",
       "      <td>2017-02-05</td>\n",
       "      <td>DTAC</td>\n",
       "    </tr>\n",
       "    <tr>\n",
       "      <th>44085</th>\n",
       "      <td>เน็ต512+โปร้สริมเฟสยังจะเข้าไม่ได้</td>\n",
       "      <td>2017-02-05</td>\n",
       "      <td>DTAC</td>\n",
       "    </tr>\n",
       "    <tr>\n",
       "      <th>42883</th>\n",
       "      <td>กล้าพูดไอสาดเน็ตสนตีน</td>\n",
       "      <td>2017-02-07</td>\n",
       "      <td>DTAC</td>\n",
       "    </tr>\n",
       "  </tbody>\n",
       "</table>\n",
       "</div>"
      ],
      "text/plain": [
       "                                                  message created_date_format  \\\n",
       "134217                                        เน็ต สน ตีน          2016-08-30   \n",
       "35599   ยิ่ง ด่า ยิ่ง และ สาด กุ ขำ กุ จะ เข้า มา ด่า ...          2016-12-19   \n",
       "36861                                    เน็ตโคดกากสาดหมา          2017-01-06   \n",
       "39761                                                 กาก          2017-01-14   \n",
       "45170                                 ไอสาดอารมเสียจิบผาย          2017-02-05   \n",
       "44085                  เน็ต512+โปร้สริมเฟสยังจะเข้าไม่ได้          2017-02-05   \n",
       "42883                               กล้าพูดไอสาดเน็ตสนตีน          2017-02-07   \n",
       "\n",
       "       service  \n",
       "134217    TRUE  \n",
       "35599     DTAC  \n",
       "36861     DTAC  \n",
       "39761     DTAC  \n",
       "45170     DTAC  \n",
       "44085     DTAC  \n",
       "42883     DTAC  "
      ]
     },
     "execution_count": 125,
     "metadata": {},
     "output_type": "execute_result"
    },
    {
     "data": {
      "image/png": "[encoded data removed]",
      "text/plain": [
       "<matplotlib.figure.Figure at 0x1b9f5f7c358>"
      ]
     },
     "metadata": {},
     "output_type": "display_data"
    }
   ],
   "source": [
    "analyzeUserComment('Back Green')"
   ]
  },
  {
   "cell_type": "markdown",
   "metadata": {},
   "source": [
    "## You can see how the comment shift from True to Dtac. \n",
    "-----------------------\n",
    "This might mean that he/she moved from True to Dtac. From here, we might be able to find churn rate,date just from social media."
   ]
  },
  {
   "cell_type": "code",
   "execution_count": 126,
   "metadata": {
    "collapsed": false
   },
   "outputs": [
    {
     "data": {
      "text/html": [
       "<iframe id=\"igraph\" scrolling=\"no\" style=\"border:none;\" seamless=\"seamless\" src=\"https://plot.ly/~TeerapatChaiwachirasak/22.embed\" height=\"525px\" width=\"100%\"></iframe>"
      ],
      "text/plain": [
       "<plotly.tools.PlotlyDisplay object>"
      ]
     },
     "execution_count": 126,
     "metadata": {},
     "output_type": "execute_result"
    }
   ],
   "source": [
    "commentByDate = commentDf[commentDf['commenter_name']=='Back Green']['created_date_format'].value_counts().sort_index()\n",
    "x = commentByDate.index.values\n",
    "y = commentByDate.values\n",
    "\n",
    "data = [go.Scatter(\n",
    "          x=x,\n",
    "          y=y\n",
    "        )]\n",
    "py.iplot(data)"
   ]
  },
  {
   "cell_type": "code",
   "execution_count": 99,
   "metadata": {
    "collapsed": false
   },
   "outputs": [
    {
     "name": "stdout",
     "output_type": "stream",
     "text": [
      "TrueMove H has 399 comments.\n",
      "Sample comment : \n",
      "131\n"
     ]
    },
    {
     "data": {
      "text/html": [
       "<div>\n",
       "<table border=\"1\" class=\"dataframe\">\n",
       "  <thead>\n",
       "    <tr style=\"text-align: right;\">\n",
       "      <th></th>\n",
       "      <th>message</th>\n",
       "      <th>created_date_format</th>\n",
       "      <th>service</th>\n",
       "    </tr>\n",
       "  </thead>\n",
       "  <tbody>\n",
       "    <tr>\n",
       "      <th>138585</th>\n",
       "      <td>สวัสดีค่ะ คุณRoyhan Wangchaiya แพ็กเกจเสริมการ...</td>\n",
       "      <td>2016-10-24</td>\n",
       "      <td>TRUE</td>\n",
       "    </tr>\n",
       "    <tr>\n",
       "      <th>138745</th>\n",
       "      <td>สวัสดีค่ะ คุณสมนึก คำพันธ์ ตรวจสอบหมายเลขดังกล...</td>\n",
       "      <td>2016-10-24</td>\n",
       "      <td>TRUE</td>\n",
       "    </tr>\n",
       "    <tr>\n",
       "      <th>139710</th>\n",
       "      <td>สวัสดีะ คุณ Goiizz Beside ทางเราแจ้งข้อมูลทาง ...</td>\n",
       "      <td>2016-10-31</td>\n",
       "      <td>TRUE</td>\n",
       "    </tr>\n",
       "    <tr>\n",
       "      <th>149484</th>\n",
       "      <td>รบกวนคุณลูกค้าแจ้งข้อมูลหมายเลขที่ใช้งาน , รุ่...</td>\n",
       "      <td>2017-01-07</td>\n",
       "      <td>TRUE</td>\n",
       "    </tr>\n",
       "    <tr>\n",
       "      <th>160644</th>\n",
       "      <td>@Numnung Thantong สวัสดีค่ะ สำหรับแคมเปญ Prepa...</td>\n",
       "      <td>2017-03-22</td>\n",
       "      <td>TRUE</td>\n",
       "    </tr>\n",
       "    <tr>\n",
       "      <th>160565</th>\n",
       "      <td>สนใจติดต่อทรูช้อปพร้อมบัตรประชาชนนะคะ หรือหากม...</td>\n",
       "      <td>2017-03-26</td>\n",
       "      <td>TRUE</td>\n",
       "    </tr>\n",
       "    <tr>\n",
       "      <th>138393</th>\n",
       "      <td>สำหรับสัญญาณพื้นที่ที่แจ้งมาคือ หมู่บ้านแม่ลาก...</td>\n",
       "      <td>2017-05-02</td>\n",
       "      <td>TRUE</td>\n",
       "    </tr>\n",
       "  </tbody>\n",
       "</table>\n",
       "</div>"
      ],
      "text/plain": [
       "                                                  message created_date_format  \\\n",
       "138585  สวัสดีค่ะ คุณRoyhan Wangchaiya แพ็กเกจเสริมการ...          2016-10-24   \n",
       "138745  สวัสดีค่ะ คุณสมนึก คำพันธ์ ตรวจสอบหมายเลขดังกล...          2016-10-24   \n",
       "139710  สวัสดีะ คุณ Goiizz Beside ทางเราแจ้งข้อมูลทาง ...          2016-10-31   \n",
       "149484  รบกวนคุณลูกค้าแจ้งข้อมูลหมายเลขที่ใช้งาน , รุ่...          2017-01-07   \n",
       "160644  @Numnung Thantong สวัสดีค่ะ สำหรับแคมเปญ Prepa...          2017-03-22   \n",
       "160565  สนใจติดต่อทรูช้อปพร้อมบัตรประชาชนนะคะ หรือหากม...          2017-03-26   \n",
       "138393  สำหรับสัญญาณพื้นที่ที่แจ้งมาคือ หมู่บ้านแม่ลาก...          2017-05-02   \n",
       "\n",
       "       service  \n",
       "138585    TRUE  \n",
       "138745    TRUE  \n",
       "139710    TRUE  \n",
       "149484    TRUE  \n",
       "160644    TRUE  \n",
       "160565    TRUE  \n",
       "138393    TRUE  "
      ]
     },
     "execution_count": 99,
     "metadata": {},
     "output_type": "execute_result"
    },
    {
     "data": {
      "image/png": "[encoded data removed]",
      "text/plain": [
       "<matplotlib.figure.Figure at 0x1b9f8522160>"
      ]
     },
     "metadata": {},
     "output_type": "display_data"
    }
   ],
   "source": [
    "analyzeUserComment('TrueMove H')"
   ]
  },
  {
   "cell_type": "code",
   "execution_count": 100,
   "metadata": {
    "collapsed": false
   },
   "outputs": [
    {
     "name": "stdout",
     "output_type": "stream",
     "text": [
      "Joe KonTummada has 182 comments.\n",
      "Sample comment : \n",
      "44\n"
     ]
    },
    {
     "data": {
      "text/html": [
       "<div>\n",
       "<table border=\"1\" class=\"dataframe\">\n",
       "  <thead>\n",
       "    <tr style=\"text-align: right;\">\n",
       "      <th></th>\n",
       "      <th>message</th>\n",
       "      <th>created_date_format</th>\n",
       "      <th>service</th>\n",
       "    </tr>\n",
       "  </thead>\n",
       "  <tbody>\n",
       "    <tr>\n",
       "      <th>140346</th>\n",
       "      <td>รีบเช็คแล้วโทรกลับมาเลย  มึงเคยรอใครแล้วเขาผิด...</td>\n",
       "      <td>2016-11-13</td>\n",
       "      <td>TRUE</td>\n",
       "    </tr>\n",
       "    <tr>\n",
       "      <th>140936</th>\n",
       "      <td>รอเป็นอาทิตย์ได้คำตอบคือ  กำลังเร่งประสานงาน  ...</td>\n",
       "      <td>2016-11-21</td>\n",
       "      <td>TRUE</td>\n",
       "    </tr>\n",
       "    <tr>\n",
       "      <th>141310</th>\n",
       "      <td>ปัญหามีตั้งแต่ปลายเดือนที่แล้ว  เรื่องพนักงานบ...</td>\n",
       "      <td>2016-11-26</td>\n",
       "      <td>TRUE</td>\n",
       "    </tr>\n",
       "    <tr>\n",
       "      <th>141772</th>\n",
       "      <td>ทำงานกันหน่อยครับ</td>\n",
       "      <td>2016-11-26</td>\n",
       "      <td>TRUE</td>\n",
       "    </tr>\n",
       "    <tr>\n",
       "      <th>141676</th>\n",
       "      <td>ปัญหามีตั้งแต่ปลายเดือนที่แล้ว  เรื่องพนักงานบ...</td>\n",
       "      <td>2016-11-26</td>\n",
       "      <td>TRUE</td>\n",
       "    </tr>\n",
       "    <tr>\n",
       "      <th>142033</th>\n",
       "      <td>ปัญหามีตั้งแต่ปลายเดือนที่แล้ว  เรื่องพนักงานบ...</td>\n",
       "      <td>2016-11-27</td>\n",
       "      <td>TRUE</td>\n",
       "    </tr>\n",
       "    <tr>\n",
       "      <th>142112</th>\n",
       "      <td>ปัญหามีตั้งแต่ปลายเดือนที่แล้ว  เรื่องพนักงานบ...</td>\n",
       "      <td>2016-11-28</td>\n",
       "      <td>TRUE</td>\n",
       "    </tr>\n",
       "  </tbody>\n",
       "</table>\n",
       "</div>"
      ],
      "text/plain": [
       "                                                  message created_date_format  \\\n",
       "140346  รีบเช็คแล้วโทรกลับมาเลย  มึงเคยรอใครแล้วเขาผิด...          2016-11-13   \n",
       "140936  รอเป็นอาทิตย์ได้คำตอบคือ  กำลังเร่งประสานงาน  ...          2016-11-21   \n",
       "141310  ปัญหามีตั้งแต่ปลายเดือนที่แล้ว  เรื่องพนักงานบ...          2016-11-26   \n",
       "141772                                  ทำงานกันหน่อยครับ          2016-11-26   \n",
       "141676  ปัญหามีตั้งแต่ปลายเดือนที่แล้ว  เรื่องพนักงานบ...          2016-11-26   \n",
       "142033  ปัญหามีตั้งแต่ปลายเดือนที่แล้ว  เรื่องพนักงานบ...          2016-11-27   \n",
       "142112  ปัญหามีตั้งแต่ปลายเดือนที่แล้ว  เรื่องพนักงานบ...          2016-11-28   \n",
       "\n",
       "       service  \n",
       "140346    TRUE  \n",
       "140936    TRUE  \n",
       "141310    TRUE  \n",
       "141772    TRUE  \n",
       "141676    TRUE  \n",
       "142033    TRUE  \n",
       "142112    TRUE  "
      ]
     },
     "execution_count": 100,
     "metadata": {},
     "output_type": "execute_result"
    },
    {
     "data": {
      "image/png": "[encoded data removed]",
      "text/plain": [
       "<matplotlib.figure.Figure at 0x1b9f7a9eb70>"
      ]
     },
     "metadata": {},
     "output_type": "display_data"
    }
   ],
   "source": [
    "analyzeUserComment('Joe KonTummada')"
   ]
  },
  {
   "cell_type": "code",
   "execution_count": 163,
   "metadata": {
    "collapsed": false,
    "scrolled": false
   },
   "outputs": [
    {
     "name": "stdout",
     "output_type": "stream",
     "text": [
      "Surasak Wongmalee has 21 comments.\n",
      "Sample comment : \n",
      "15\n"
     ]
    },
    {
     "data": {
      "text/html": [
       "<div>\n",
       "<table border=\"1\" class=\"dataframe\">\n",
       "  <thead>\n",
       "    <tr style=\"text-align: right;\">\n",
       "      <th></th>\n",
       "      <th>message</th>\n",
       "      <th>created_date_format</th>\n",
       "      <th>service</th>\n",
       "    </tr>\n",
       "  </thead>\n",
       "  <tbody>\n",
       "    <tr>\n",
       "      <th>4899</th>\n",
       "      <td>ช่วยเพิ่ม fub ก่อนดีกว่าใหมครับ ทุกวันนี้ ใช้ ...</td>\n",
       "      <td>2016-07-02</td>\n",
       "      <td>DTAC</td>\n",
       "    </tr>\n",
       "    <tr>\n",
       "      <th>22582</th>\n",
       "      <td>ปัญหาที่ร้องเรียนไป ไม่ได้รับการแก้ไข จะไปทำเร...</td>\n",
       "      <td>2016-11-18</td>\n",
       "      <td>DTAC</td>\n",
       "    </tr>\n",
       "    <tr>\n",
       "      <th>29808</th>\n",
       "      <td>ลื่นไหล ไถ แถ ไปเรื่อยๆ มีปัญหาแต่ไม่มีปัญญาแก...</td>\n",
       "      <td>2016-12-10</td>\n",
       "      <td>DTAC</td>\n",
       "    </tr>\n",
       "    <tr>\n",
       "      <th>33478</th>\n",
       "      <td>เปลี่ยนเป็นรายเดือนคุ้มเหี้ยอะไร ขนาดโปรเนท แม...</td>\n",
       "      <td>2016-12-11</td>\n",
       "      <td>DTAC</td>\n",
       "    </tr>\n",
       "    <tr>\n",
       "      <th>33084</th>\n",
       "      <td>ลื่น ไถล ไถ แถ ไปได้ทุกปัญหา แต่ไม่มีปัญญาแก้ไ...</td>\n",
       "      <td>2016-12-12</td>\n",
       "      <td>DTAC</td>\n",
       "    </tr>\n",
       "    <tr>\n",
       "      <th>30948</th>\n",
       "      <td>โปรเนท ทำใมต้องหมดตอนเที่ยงคืนด้วย ทำใมไม่ สมั...</td>\n",
       "      <td>2016-12-27</td>\n",
       "      <td>DTAC</td>\n",
       "    </tr>\n",
       "    <tr>\n",
       "      <th>36765</th>\n",
       "      <td>โปรเนท ทำใมต้องหมดตอนเที่ยงคืนด้วย ทำใมไม่ สมั...</td>\n",
       "      <td>2016-12-27</td>\n",
       "      <td>DTAC</td>\n",
       "    </tr>\n",
       "  </tbody>\n",
       "</table>\n",
       "</div>"
      ],
      "text/plain": [
       "                                                 message created_date_format  \\\n",
       "4899   ช่วยเพิ่ม fub ก่อนดีกว่าใหมครับ ทุกวันนี้ ใช้ ...          2016-07-02   \n",
       "22582  ปัญหาที่ร้องเรียนไป ไม่ได้รับการแก้ไข จะไปทำเร...          2016-11-18   \n",
       "29808  ลื่นไหล ไถ แถ ไปเรื่อยๆ มีปัญหาแต่ไม่มีปัญญาแก...          2016-12-10   \n",
       "33478  เปลี่ยนเป็นรายเดือนคุ้มเหี้ยอะไร ขนาดโปรเนท แม...          2016-12-11   \n",
       "33084  ลื่น ไถล ไถ แถ ไปได้ทุกปัญหา แต่ไม่มีปัญญาแก้ไ...          2016-12-12   \n",
       "30948  โปรเนท ทำใมต้องหมดตอนเที่ยงคืนด้วย ทำใมไม่ สมั...          2016-12-27   \n",
       "36765  โปรเนท ทำใมต้องหมดตอนเที่ยงคืนด้วย ทำใมไม่ สมั...          2016-12-27   \n",
       "\n",
       "      service  \n",
       "4899     DTAC  \n",
       "22582    DTAC  \n",
       "29808    DTAC  \n",
       "33478    DTAC  \n",
       "33084    DTAC  \n",
       "30948    DTAC  \n",
       "36765    DTAC  "
      ]
     },
     "execution_count": 163,
     "metadata": {},
     "output_type": "execute_result"
    },
    {
     "data": {
      "image/png": "[encoded data removed]",
      "text/plain": [
       "<matplotlib.figure.Figure at 0x1b9f854ca20>"
      ]
     },
     "metadata": {},
     "output_type": "display_data"
    }
   ],
   "source": [
    "#Randomly select one person to analyze\n",
    "sampleComment = commentDf['commenter_name'].value_counts().head(750).sample(1)\n",
    "analyzeUserComment(sampleComment.index[0])"
   ]
  },
  {
   "cell_type": "markdown",
   "metadata": {},
   "source": [
    "## Here is some interesting case in found using the sampling function\n",
    "----"
   ]
  },
  {
   "cell_type": "code",
   "execution_count": 134,
   "metadata": {
    "collapsed": false
   },
   "outputs": [
    {
     "name": "stdout",
     "output_type": "stream",
     "text": [
      "Pattaraphong Sawadiruttana has 38 comments.\n",
      "Sample comment : \n",
      "35\n"
     ]
    },
    {
     "data": {
      "text/html": [
       "<div>\n",
       "<table border=\"1\" class=\"dataframe\">\n",
       "  <thead>\n",
       "    <tr style=\"text-align: right;\">\n",
       "      <th></th>\n",
       "      <th>message</th>\n",
       "      <th>created_date_format</th>\n",
       "      <th>service</th>\n",
       "    </tr>\n",
       "  </thead>\n",
       "  <tbody>\n",
       "    <tr>\n",
       "      <th>11253</th>\n",
       "      <td>เจ๋งมากกกกกกก คอนเฟิร์ม!!! ฟรีๆๆๆๆค่าเนต ฟังเพ...</td>\n",
       "      <td>2016-07-26</td>\n",
       "      <td>DTAC</td>\n",
       "    </tr>\n",
       "    <tr>\n",
       "      <th>12310</th>\n",
       "      <td>เนตไม่ค่อยดีเลยอ่ะ ขึ้น R ตลอด ทั้งที่ทำงานและ...</td>\n",
       "      <td>2016-08-08</td>\n",
       "      <td>DTAC</td>\n",
       "    </tr>\n",
       "    <tr>\n",
       "      <th>20413</th>\n",
       "      <td>แปลกใจทำมัยดีแทคโพสต์ทุกครั้งมีแต่ลูกค้ามาด่า ...</td>\n",
       "      <td>2016-11-08</td>\n",
       "      <td>DTAC</td>\n",
       "    </tr>\n",
       "    <tr>\n",
       "      <th>39639</th>\n",
       "      <td>แล้วอั้มจะเสียใจ ที่เลือกใช้ดีแทค 555555</td>\n",
       "      <td>2017-01-13</td>\n",
       "      <td>DTAC</td>\n",
       "    </tr>\n",
       "    <tr>\n",
       "      <th>150706</th>\n",
       "      <td>ปังมากโปรนี้ 😘</td>\n",
       "      <td>2017-01-17</td>\n",
       "      <td>TRUE</td>\n",
       "    </tr>\n",
       "    <tr>\n",
       "      <th>152186</th>\n",
       "      <td>เฮง เฮง ระบบรายเดือนมีไรพิเศษให้ลูกค้าบ้างครับ...</td>\n",
       "      <td>2017-01-27</td>\n",
       "      <td>TRUE</td>\n",
       "    </tr>\n",
       "    <tr>\n",
       "      <th>153745</th>\n",
       "      <td>Beats แพงไปหน่อยเนอะ ระดับเราใช้ JBL เหมาะดีแต...</td>\n",
       "      <td>2017-02-10</td>\n",
       "      <td>TRUE</td>\n",
       "    </tr>\n",
       "  </tbody>\n",
       "</table>\n",
       "</div>"
      ],
      "text/plain": [
       "                                                  message created_date_format  \\\n",
       "11253   เจ๋งมากกกกกกก คอนเฟิร์ม!!! ฟรีๆๆๆๆค่าเนต ฟังเพ...          2016-07-26   \n",
       "12310   เนตไม่ค่อยดีเลยอ่ะ ขึ้น R ตลอด ทั้งที่ทำงานและ...          2016-08-08   \n",
       "20413   แปลกใจทำมัยดีแทคโพสต์ทุกครั้งมีแต่ลูกค้ามาด่า ...          2016-11-08   \n",
       "39639            แล้วอั้มจะเสียใจ ที่เลือกใช้ดีแทค 555555          2017-01-13   \n",
       "150706                                     ปังมากโปรนี้ 😘          2017-01-17   \n",
       "152186  เฮง เฮง ระบบรายเดือนมีไรพิเศษให้ลูกค้าบ้างครับ...          2017-01-27   \n",
       "153745  Beats แพงไปหน่อยเนอะ ระดับเราใช้ JBL เหมาะดีแต...          2017-02-10   \n",
       "\n",
       "       service  \n",
       "11253     DTAC  \n",
       "12310     DTAC  \n",
       "20413     DTAC  \n",
       "39639     DTAC  \n",
       "150706    TRUE  \n",
       "152186    TRUE  \n",
       "153745    TRUE  "
      ]
     },
     "execution_count": 134,
     "metadata": {},
     "output_type": "execute_result"
    },
    {
     "data": {
      "image/png": "[encoded data removed]",
      "text/plain": [
       "<matplotlib.figure.Figure at 0x1b9f3788ac8>"
      ]
     },
     "metadata": {},
     "output_type": "display_data"
    }
   ],
   "source": [
    "analyzeUserComment('Pattaraphong Sawadiruttana')"
   ]
  },
  {
   "cell_type": "code",
   "execution_count": 138,
   "metadata": {
    "collapsed": false
   },
   "outputs": [
    {
     "data": {
      "text/html": [
       "<div>\n",
       "<table border=\"1\" class=\"dataframe\">\n",
       "  <thead>\n",
       "    <tr style=\"text-align: right;\">\n",
       "      <th></th>\n",
       "      <th>commenter_name</th>\n",
       "      <th>created_time</th>\n",
       "      <th>like_count</th>\n",
       "      <th>message</th>\n",
       "      <th>service</th>\n",
       "      <th>created_date</th>\n",
       "      <th>created_date_format</th>\n",
       "    </tr>\n",
       "  </thead>\n",
       "  <tbody>\n",
       "    <tr>\n",
       "      <th>11253</th>\n",
       "      <td>Pattaraphong Sawadiruttana</td>\n",
       "      <td>2016-07-26 01:30:38</td>\n",
       "      <td>5.0</td>\n",
       "      <td>เจ๋งมากกกกกกก คอนเฟิร์ม!!! ฟรีๆๆๆๆค่าเนต ฟังเพ...</td>\n",
       "      <td>DTAC</td>\n",
       "      <td>2016-07-26 01:30:38</td>\n",
       "      <td>2016-07-26</td>\n",
       "    </tr>\n",
       "    <tr>\n",
       "      <th>11334</th>\n",
       "      <td>Pattaraphong Sawadiruttana</td>\n",
       "      <td>2016-07-27 04:24:07</td>\n",
       "      <td>4.0</td>\n",
       "      <td>กำลังย้ายค่ายเบอร์เดิมไปดีแทครายเดือนแล้วนะ เน...</td>\n",
       "      <td>DTAC</td>\n",
       "      <td>2016-07-27 04:24:07</td>\n",
       "      <td>2016-07-27</td>\n",
       "    </tr>\n",
       "    <tr>\n",
       "      <th>12310</th>\n",
       "      <td>Pattaraphong Sawadiruttana</td>\n",
       "      <td>2016-08-08 11:12:33</td>\n",
       "      <td>3.0</td>\n",
       "      <td>เนตไม่ค่อยดีเลยอ่ะ ขึ้น R ตลอด ทั้งที่ทำงานและ...</td>\n",
       "      <td>DTAC</td>\n",
       "      <td>2016-08-08 11:12:33</td>\n",
       "      <td>2016-08-08</td>\n",
       "    </tr>\n",
       "    <tr>\n",
       "      <th>134320</th>\n",
       "      <td>Pattaraphong Sawadiruttana</td>\n",
       "      <td>2016-08-31 11:38:14</td>\n",
       "      <td>0.0</td>\n",
       "      <td>เจ้าอื่นๆเค้าเม็กล่ะกี่บาทใครรู้บ้าง</td>\n",
       "      <td>TRUE</td>\n",
       "      <td>2016-08-31 11:38:14</td>\n",
       "      <td>2016-08-31</td>\n",
       "    </tr>\n",
       "    <tr>\n",
       "      <th>135847</th>\n",
       "      <td>Pattaraphong Sawadiruttana</td>\n",
       "      <td>2016-09-03 06:01:16</td>\n",
       "      <td>0.0</td>\n",
       "      <td>ลดสีเดียว สีอื่นๆล่ะ</td>\n",
       "      <td>TRUE</td>\n",
       "      <td>2016-09-03 06:01:16</td>\n",
       "      <td>2016-09-03</td>\n",
       "    </tr>\n",
       "    <tr>\n",
       "      <th>136845</th>\n",
       "      <td>Pattaraphong Sawadiruttana</td>\n",
       "      <td>2016-09-17 05:56:37</td>\n",
       "      <td>0.0</td>\n",
       "      <td>ชื่นชมครับ คนปกติอย่างเราๆบางคนยังทำไม่ได้อย่า...</td>\n",
       "      <td>TRUE</td>\n",
       "      <td>2016-09-17 05:56:37</td>\n",
       "      <td>2016-09-17</td>\n",
       "    </tr>\n",
       "    <tr>\n",
       "      <th>137031</th>\n",
       "      <td>Pattaraphong Sawadiruttana</td>\n",
       "      <td>2016-10-03 06:06:31</td>\n",
       "      <td>0.0</td>\n",
       "      <td>เติมเงิน หรือ รายเดือน เอาดีๆๆๆ คนอ่าน งง กันห...</td>\n",
       "      <td>TRUE</td>\n",
       "      <td>2016-10-03 06:06:31</td>\n",
       "      <td>2016-10-03</td>\n",
       "    </tr>\n",
       "    <tr>\n",
       "      <th>20413</th>\n",
       "      <td>Pattaraphong Sawadiruttana</td>\n",
       "      <td>2016-11-08 03:22:22</td>\n",
       "      <td>2.0</td>\n",
       "      <td>แปลกใจทำมัยดีแทคโพสต์ทุกครั้งมีแต่ลูกค้ามาด่า ...</td>\n",
       "      <td>DTAC</td>\n",
       "      <td>2016-11-08 03:22:22</td>\n",
       "      <td>2016-11-08</td>\n",
       "    </tr>\n",
       "    <tr>\n",
       "      <th>20570</th>\n",
       "      <td>Pattaraphong Sawadiruttana</td>\n",
       "      <td>2016-11-09 00:38:57</td>\n",
       "      <td>3.0</td>\n",
       "      <td>ตอนแรกจะย้ายค่ายจากทรูไปดีแทค สรุปกูไม่ไปล่ะ อ...</td>\n",
       "      <td>DTAC</td>\n",
       "      <td>2016-11-09 00:38:57</td>\n",
       "      <td>2016-11-09</td>\n",
       "    </tr>\n",
       "    <tr>\n",
       "      <th>142971</th>\n",
       "      <td>Pattaraphong Sawadiruttana</td>\n",
       "      <td>2016-12-07 03:41:48</td>\n",
       "      <td>0.0</td>\n",
       "      <td>Lenovo กับ oppo อันไหนดีกว่า</td>\n",
       "      <td>TRUE</td>\n",
       "      <td>2016-12-07 03:41:48</td>\n",
       "      <td>2016-12-07</td>\n",
       "    </tr>\n",
       "  </tbody>\n",
       "</table>\n",
       "</div>"
      ],
      "text/plain": [
       "                    commenter_name         created_time  like_count  \\\n",
       "11253   Pattaraphong Sawadiruttana  2016-07-26 01:30:38         5.0   \n",
       "11334   Pattaraphong Sawadiruttana  2016-07-27 04:24:07         4.0   \n",
       "12310   Pattaraphong Sawadiruttana  2016-08-08 11:12:33         3.0   \n",
       "134320  Pattaraphong Sawadiruttana  2016-08-31 11:38:14         0.0   \n",
       "135847  Pattaraphong Sawadiruttana  2016-09-03 06:01:16         0.0   \n",
       "136845  Pattaraphong Sawadiruttana  2016-09-17 05:56:37         0.0   \n",
       "137031  Pattaraphong Sawadiruttana  2016-10-03 06:06:31         0.0   \n",
       "20413   Pattaraphong Sawadiruttana  2016-11-08 03:22:22         2.0   \n",
       "20570   Pattaraphong Sawadiruttana  2016-11-09 00:38:57         3.0   \n",
       "142971  Pattaraphong Sawadiruttana  2016-12-07 03:41:48         0.0   \n",
       "\n",
       "                                                  message service  \\\n",
       "11253   เจ๋งมากกกกกกก คอนเฟิร์ม!!! ฟรีๆๆๆๆค่าเนต ฟังเพ...    DTAC   \n",
       "11334   กำลังย้ายค่ายเบอร์เดิมไปดีแทครายเดือนแล้วนะ เน...    DTAC   \n",
       "12310   เนตไม่ค่อยดีเลยอ่ะ ขึ้น R ตลอด ทั้งที่ทำงานและ...    DTAC   \n",
       "134320               เจ้าอื่นๆเค้าเม็กล่ะกี่บาทใครรู้บ้าง    TRUE   \n",
       "135847                               ลดสีเดียว สีอื่นๆล่ะ    TRUE   \n",
       "136845  ชื่นชมครับ คนปกติอย่างเราๆบางคนยังทำไม่ได้อย่า...    TRUE   \n",
       "137031  เติมเงิน หรือ รายเดือน เอาดีๆๆๆ คนอ่าน งง กันห...    TRUE   \n",
       "20413   แปลกใจทำมัยดีแทคโพสต์ทุกครั้งมีแต่ลูกค้ามาด่า ...    DTAC   \n",
       "20570   ตอนแรกจะย้ายค่ายจากทรูไปดีแทค สรุปกูไม่ไปล่ะ อ...    DTAC   \n",
       "142971                       Lenovo กับ oppo อันไหนดีกว่า    TRUE   \n",
       "\n",
       "              created_date created_date_format  \n",
       "11253  2016-07-26 01:30:38          2016-07-26  \n",
       "11334  2016-07-27 04:24:07          2016-07-27  \n",
       "12310  2016-08-08 11:12:33          2016-08-08  \n",
       "134320 2016-08-31 11:38:14          2016-08-31  \n",
       "135847 2016-09-03 06:01:16          2016-09-03  \n",
       "136845 2016-09-17 05:56:37          2016-09-17  \n",
       "137031 2016-10-03 06:06:31          2016-10-03  \n",
       "20413  2016-11-08 03:22:22          2016-11-08  \n",
       "20570  2016-11-09 00:38:57          2016-11-09  \n",
       "142971 2016-12-07 03:41:48          2016-12-07  "
      ]
     },
     "execution_count": 138,
     "metadata": {},
     "output_type": "execute_result"
    }
   ],
   "source": [
    "commentDf[commentDf['commenter_name']=='Pattaraphong Sawadiruttana'].sort_values('created_date').head(10)"
   ]
  },
  {
   "cell_type": "markdown",
   "metadata": {},
   "source": [
    "## You can kind of see user story here.\n",
    "------------------\n",
    "He was first using AIS. Then he is considering to switch to Dtac, but later change his mind and go to True."
   ]
  },
  {
   "cell_type": "code",
   "execution_count": 140,
   "metadata": {
    "collapsed": false
   },
   "outputs": [
    {
     "name": "stdout",
     "output_type": "stream",
     "text": [
      "กุญแจชีวิต เข็มทิศหัวใจ has 10 comments.\n",
      "Sample comment : \n",
      "9\n"
     ]
    },
    {
     "data": {
      "text/html": [
       "<div>\n",
       "<table border=\"1\" class=\"dataframe\">\n",
       "  <thead>\n",
       "    <tr style=\"text-align: right;\">\n",
       "      <th></th>\n",
       "      <th>message</th>\n",
       "      <th>created_date_format</th>\n",
       "      <th>service</th>\n",
       "    </tr>\n",
       "  </thead>\n",
       "  <tbody>\n",
       "    <tr>\n",
       "      <th>7308</th>\n",
       "      <td>แอดทำไมใช้รายเดือนเน็ต399เมื่อวันที่่ 25มิถุนา...</td>\n",
       "      <td>2016-07-05</td>\n",
       "      <td>DTAC</td>\n",
       "    </tr>\n",
       "    <tr>\n",
       "      <th>7284</th>\n",
       "      <td>แอดคัฟรบกวนตอบด้วย คือสมัครเน็ตรายเดือน399ไปตั...</td>\n",
       "      <td>2016-07-05</td>\n",
       "      <td>DTAC</td>\n",
       "    </tr>\n",
       "    <tr>\n",
       "      <th>9961</th>\n",
       "      <td>คือไม่รุ้กุจะสมัครเนตรายเดือนเพื่อไร399เล่นห่า...</td>\n",
       "      <td>2016-07-15</td>\n",
       "      <td>DTAC</td>\n",
       "    </tr>\n",
       "    <tr>\n",
       "      <th>13586</th>\n",
       "      <td>เน็ตดีแทคกากมากขนาดใช้รายเดือนนะ</td>\n",
       "      <td>2016-08-21</td>\n",
       "      <td>DTAC</td>\n",
       "    </tr>\n",
       "    <tr>\n",
       "      <th>23751</th>\n",
       "      <td>ไม่เอาแล้วห่วยแตกสิ้นดีสัสซื้อS1มายังไม่ถึงเดื...</td>\n",
       "      <td>2016-11-21</td>\n",
       "      <td>DTAC</td>\n",
       "    </tr>\n",
       "    <tr>\n",
       "      <th>36445</th>\n",
       "      <td>ไม่ต้องรอถึงปีหรอกสัสเพิ่งซื้อมาไม่ถึงเดือนทั้...</td>\n",
       "      <td>2016-12-29</td>\n",
       "      <td>DTAC</td>\n",
       "    </tr>\n",
       "    <tr>\n",
       "      <th>97222</th>\n",
       "      <td>A</td>\n",
       "      <td>2017-01-31</td>\n",
       "      <td>AIS</td>\n",
       "    </tr>\n",
       "  </tbody>\n",
       "</table>\n",
       "</div>"
      ],
      "text/plain": [
       "                                                 message created_date_format  \\\n",
       "7308   แอดทำไมใช้รายเดือนเน็ต399เมื่อวันที่่ 25มิถุนา...          2016-07-05   \n",
       "7284   แอดคัฟรบกวนตอบด้วย คือสมัครเน็ตรายเดือน399ไปตั...          2016-07-05   \n",
       "9961   คือไม่รุ้กุจะสมัครเนตรายเดือนเพื่อไร399เล่นห่า...          2016-07-15   \n",
       "13586                   เน็ตดีแทคกากมากขนาดใช้รายเดือนนะ          2016-08-21   \n",
       "23751  ไม่เอาแล้วห่วยแตกสิ้นดีสัสซื้อS1มายังไม่ถึงเดื...          2016-11-21   \n",
       "36445  ไม่ต้องรอถึงปีหรอกสัสเพิ่งซื้อมาไม่ถึงเดือนทั้...          2016-12-29   \n",
       "97222                                                  A          2017-01-31   \n",
       "\n",
       "      service  \n",
       "7308     DTAC  \n",
       "7284     DTAC  \n",
       "9961     DTAC  \n",
       "13586    DTAC  \n",
       "23751    DTAC  \n",
       "36445    DTAC  \n",
       "97222     AIS  "
      ]
     },
     "execution_count": 140,
     "metadata": {},
     "output_type": "execute_result"
    },
    {
     "data": {
      "image/png": "[encoded data removed]",
      "text/plain": [
       "<matplotlib.figure.Figure at 0x1b9f6b78160>"
      ]
     },
     "metadata": {},
     "output_type": "display_data"
    }
   ],
   "source": [
    "analyzeUserComment('กุญแจชีวิต เข็มทิศหัวใจ')"
   ]
  },
  {
   "cell_type": "markdown",
   "metadata": {},
   "source": [
    "## I don't think he is that happy with dtac facbook admin.\n",
    "------------"
   ]
  },
  {
   "cell_type": "code",
   "execution_count": 142,
   "metadata": {
    "collapsed": false
   },
   "outputs": [
    {
     "data": {
      "text/html": [
       "<div>\n",
       "<table border=\"1\" class=\"dataframe\">\n",
       "  <thead>\n",
       "    <tr style=\"text-align: right;\">\n",
       "      <th></th>\n",
       "      <th>commenter_name</th>\n",
       "      <th>created_time</th>\n",
       "      <th>like_count</th>\n",
       "      <th>message</th>\n",
       "      <th>service</th>\n",
       "      <th>created_date</th>\n",
       "      <th>created_date_format</th>\n",
       "    </tr>\n",
       "  </thead>\n",
       "  <tbody>\n",
       "    <tr>\n",
       "      <th>7308</th>\n",
       "      <td>กุญแจชีวิต เข็มทิศหัวใจ</td>\n",
       "      <td>2016-07-05 05:02:28</td>\n",
       "      <td>0.0</td>\n",
       "      <td>แอดทำไมใช้รายเดือนเน็ต399เมื่อวันที่่ 25มิถุนา...</td>\n",
       "      <td>DTAC</td>\n",
       "      <td>2016-07-05 05:02:28</td>\n",
       "      <td>2016-07-05</td>\n",
       "    </tr>\n",
       "    <tr>\n",
       "      <th>7284</th>\n",
       "      <td>กุญแจชีวิต เข็มทิศหัวใจ</td>\n",
       "      <td>2016-07-05 08:16:14</td>\n",
       "      <td>0.0</td>\n",
       "      <td>แอดคัฟรบกวนตอบด้วย คือสมัครเน็ตรายเดือน399ไปตั...</td>\n",
       "      <td>DTAC</td>\n",
       "      <td>2016-07-05 08:16:14</td>\n",
       "      <td>2016-07-05</td>\n",
       "    </tr>\n",
       "    <tr>\n",
       "      <th>9961</th>\n",
       "      <td>กุญแจชีวิต เข็มทิศหัวใจ</td>\n",
       "      <td>2016-07-15 05:24:24</td>\n",
       "      <td>6.0</td>\n",
       "      <td>คือไม่รุ้กุจะสมัครเนตรายเดือนเพื่อไร399เล่นห่า...</td>\n",
       "      <td>DTAC</td>\n",
       "      <td>2016-07-15 05:24:24</td>\n",
       "      <td>2016-07-15</td>\n",
       "    </tr>\n",
       "    <tr>\n",
       "      <th>11784</th>\n",
       "      <td>กุญแจชีวิต เข็มทิศหัวใจ</td>\n",
       "      <td>2016-08-01 17:12:49</td>\n",
       "      <td>0.0</td>\n",
       "      <td>เหี้ยเถอะกูส่งแชทไปถาม2วันแหละไม่ตอบเอาไงวะกูต...</td>\n",
       "      <td>DTAC</td>\n",
       "      <td>2016-08-01 17:12:49</td>\n",
       "      <td>2016-08-01</td>\n",
       "    </tr>\n",
       "    <tr>\n",
       "      <th>11907</th>\n",
       "      <td>กุญแจชีวิต เข็มทิศหัวใจ</td>\n",
       "      <td>2016-08-03 13:00:25</td>\n",
       "      <td>0.0</td>\n",
       "      <td>ไอ้แอดเอาไงวะส่งแชทไปถามก็ไม่ตอบหลายวันแล้วนะต...</td>\n",
       "      <td>DTAC</td>\n",
       "      <td>2016-08-03 13:00:25</td>\n",
       "      <td>2016-08-03</td>\n",
       "    </tr>\n",
       "    <tr>\n",
       "      <th>13586</th>\n",
       "      <td>กุญแจชีวิต เข็มทิศหัวใจ</td>\n",
       "      <td>2016-08-21 15:35:30</td>\n",
       "      <td>1.0</td>\n",
       "      <td>เน็ตดีแทคกากมากขนาดใช้รายเดือนนะ</td>\n",
       "      <td>DTAC</td>\n",
       "      <td>2016-08-21 15:35:30</td>\n",
       "      <td>2016-08-21</td>\n",
       "    </tr>\n",
       "    <tr>\n",
       "      <th>23751</th>\n",
       "      <td>กุญแจชีวิต เข็มทิศหัวใจ</td>\n",
       "      <td>2016-11-21 15:55:59</td>\n",
       "      <td>0.0</td>\n",
       "      <td>ไม่เอาแล้วห่วยแตกสิ้นดีสัสซื้อS1มายังไม่ถึงเดื...</td>\n",
       "      <td>DTAC</td>\n",
       "      <td>2016-11-21 15:55:59</td>\n",
       "      <td>2016-11-21</td>\n",
       "    </tr>\n",
       "    <tr>\n",
       "      <th>36445</th>\n",
       "      <td>กุญแจชีวิต เข็มทิศหัวใจ</td>\n",
       "      <td>2016-12-29 10:06:01</td>\n",
       "      <td>1.0</td>\n",
       "      <td>ไม่ต้องรอถึงปีหรอกสัสเพิ่งซื้อมาไม่ถึงเดือนทั้...</td>\n",
       "      <td>DTAC</td>\n",
       "      <td>2016-12-29 10:06:01</td>\n",
       "      <td>2016-12-29</td>\n",
       "    </tr>\n",
       "    <tr>\n",
       "      <th>97222</th>\n",
       "      <td>กุญแจชีวิต เข็มทิศหัวใจ</td>\n",
       "      <td>2017-01-31 10:02:31</td>\n",
       "      <td>0.0</td>\n",
       "      <td>A</td>\n",
       "      <td>AIS</td>\n",
       "      <td>2017-01-31 10:02:31</td>\n",
       "      <td>2017-01-31</td>\n",
       "    </tr>\n",
       "    <tr>\n",
       "      <th>97193</th>\n",
       "      <td>กุญแจชีวิต เข็มทิศหัวใจ</td>\n",
       "      <td>2017-02-03 09:09:18</td>\n",
       "      <td>0.0</td>\n",
       "      <td>A</td>\n",
       "      <td>AIS</td>\n",
       "      <td>2017-02-03 09:09:18</td>\n",
       "      <td>2017-02-03</td>\n",
       "    </tr>\n",
       "  </tbody>\n",
       "</table>\n",
       "</div>"
      ],
      "text/plain": [
       "                commenter_name         created_time  like_count  \\\n",
       "7308   กุญแจชีวิต เข็มทิศหัวใจ  2016-07-05 05:02:28         0.0   \n",
       "7284   กุญแจชีวิต เข็มทิศหัวใจ  2016-07-05 08:16:14         0.0   \n",
       "9961   กุญแจชีวิต เข็มทิศหัวใจ  2016-07-15 05:24:24         6.0   \n",
       "11784  กุญแจชีวิต เข็มทิศหัวใจ  2016-08-01 17:12:49         0.0   \n",
       "11907  กุญแจชีวิต เข็มทิศหัวใจ  2016-08-03 13:00:25         0.0   \n",
       "13586  กุญแจชีวิต เข็มทิศหัวใจ  2016-08-21 15:35:30         1.0   \n",
       "23751  กุญแจชีวิต เข็มทิศหัวใจ  2016-11-21 15:55:59         0.0   \n",
       "36445  กุญแจชีวิต เข็มทิศหัวใจ  2016-12-29 10:06:01         1.0   \n",
       "97222  กุญแจชีวิต เข็มทิศหัวใจ  2017-01-31 10:02:31         0.0   \n",
       "97193  กุญแจชีวิต เข็มทิศหัวใจ  2017-02-03 09:09:18         0.0   \n",
       "\n",
       "                                                 message service  \\\n",
       "7308   แอดทำไมใช้รายเดือนเน็ต399เมื่อวันที่่ 25มิถุนา...    DTAC   \n",
       "7284   แอดคัฟรบกวนตอบด้วย คือสมัครเน็ตรายเดือน399ไปตั...    DTAC   \n",
       "9961   คือไม่รุ้กุจะสมัครเนตรายเดือนเพื่อไร399เล่นห่า...    DTAC   \n",
       "11784  เหี้ยเถอะกูส่งแชทไปถาม2วันแหละไม่ตอบเอาไงวะกูต...    DTAC   \n",
       "11907  ไอ้แอดเอาไงวะส่งแชทไปถามก็ไม่ตอบหลายวันแล้วนะต...    DTAC   \n",
       "13586                   เน็ตดีแทคกากมากขนาดใช้รายเดือนนะ    DTAC   \n",
       "23751  ไม่เอาแล้วห่วยแตกสิ้นดีสัสซื้อS1มายังไม่ถึงเดื...    DTAC   \n",
       "36445  ไม่ต้องรอถึงปีหรอกสัสเพิ่งซื้อมาไม่ถึงเดือนทั้...    DTAC   \n",
       "97222                                                  A     AIS   \n",
       "97193                                                  A     AIS   \n",
       "\n",
       "             created_date created_date_format  \n",
       "7308  2016-07-05 05:02:28          2016-07-05  \n",
       "7284  2016-07-05 08:16:14          2016-07-05  \n",
       "9961  2016-07-15 05:24:24          2016-07-15  \n",
       "11784 2016-08-01 17:12:49          2016-08-01  \n",
       "11907 2016-08-03 13:00:25          2016-08-03  \n",
       "13586 2016-08-21 15:35:30          2016-08-21  \n",
       "23751 2016-11-21 15:55:59          2016-11-21  \n",
       "36445 2016-12-29 10:06:01          2016-12-29  \n",
       "97222 2017-01-31 10:02:31          2017-01-31  \n",
       "97193 2017-02-03 09:09:18          2017-02-03  "
      ]
     },
     "execution_count": 142,
     "metadata": {},
     "output_type": "execute_result"
    }
   ],
   "source": [
    "commentDf[commentDf['commenter_name']=='กุญแจชีวิต เข็มทิศหัวใจ'].sort_values('created_date')"
   ]
  },
  {
   "cell_type": "markdown",
   "metadata": {},
   "source": [
    "## Here he is complaining about bad signal. If we have social media listener, we might prevent these group of customer from leaving.\n",
    "------------"
   ]
  },
  {
   "cell_type": "code",
   "execution_count": 165,
   "metadata": {
    "collapsed": false
   },
   "outputs": [
    {
     "data": {
      "text/html": [
       "<div>\n",
       "<table border=\"1\" class=\"dataframe\">\n",
       "  <thead>\n",
       "    <tr style=\"text-align: right;\">\n",
       "      <th></th>\n",
       "      <th>commenter_name</th>\n",
       "      <th>created_time</th>\n",
       "      <th>like_count</th>\n",
       "      <th>message</th>\n",
       "      <th>service</th>\n",
       "      <th>created_date</th>\n",
       "      <th>created_date_format</th>\n",
       "    </tr>\n",
       "  </thead>\n",
       "  <tbody>\n",
       "    <tr>\n",
       "      <th>58320</th>\n",
       "      <td>Tanawat Setthakorn</td>\n",
       "      <td>2017-04-22 18:26:53</td>\n",
       "      <td>0.0</td>\n",
       "      <td>ทำไมมันเนตช้ามากเลยอะครับ ตอนนี้ผมใช้โปร 1299 ...</td>\n",
       "      <td>DTAC</td>\n",
       "      <td>2017-04-22 18:26:53</td>\n",
       "      <td>2017-04-22</td>\n",
       "    </tr>\n",
       "    <tr>\n",
       "      <th>58325</th>\n",
       "      <td>Tanawat Setthakorn</td>\n",
       "      <td>2017-04-23 02:35:36</td>\n",
       "      <td>0.0</td>\n",
       "      <td>ช่วยมาตอบผมหน่อยครับ</td>\n",
       "      <td>DTAC</td>\n",
       "      <td>2017-04-23 02:35:36</td>\n",
       "      <td>2017-04-23</td>\n",
       "    </tr>\n",
       "    <tr>\n",
       "      <th>58506</th>\n",
       "      <td>Tanawat Setthakorn</td>\n",
       "      <td>2017-04-23 02:36:02</td>\n",
       "      <td>0.0</td>\n",
       "      <td>ผมจ่ายไม่ใช่ถูกๆนะครับ 1299!!!</td>\n",
       "      <td>DTAC</td>\n",
       "      <td>2017-04-23 02:36:02</td>\n",
       "      <td>2017-04-23</td>\n",
       "    </tr>\n",
       "    <tr>\n",
       "      <th>58370</th>\n",
       "      <td>Tanawat Setthakorn</td>\n",
       "      <td>2017-04-23 02:36:34</td>\n",
       "      <td>0.0</td>\n",
       "      <td>ไม่งั้นย้ายค่ายแน่!!</td>\n",
       "      <td>DTAC</td>\n",
       "      <td>2017-04-23 02:36:34</td>\n",
       "      <td>2017-04-23</td>\n",
       "    </tr>\n",
       "    <tr>\n",
       "      <th>58671</th>\n",
       "      <td>Tanawat Setthakorn</td>\n",
       "      <td>2017-04-23 04:32:51</td>\n",
       "      <td>4.0</td>\n",
       "      <td>ทำไมอะ ผมอุตส่าห์ย้ายค่ายมาหาคุณ แต่คุณทำกับผม...</td>\n",
       "      <td>DTAC</td>\n",
       "      <td>2017-04-23 04:32:51</td>\n",
       "      <td>2017-04-23</td>\n",
       "    </tr>\n",
       "    <tr>\n",
       "      <th>58426</th>\n",
       "      <td>Tanawat Setthakorn</td>\n",
       "      <td>2017-04-23 04:33:12</td>\n",
       "      <td>1.0</td>\n",
       "      <td>ทำไมอะ ผมอุตส่าห์ย้ายค่ายมาหาคุณ แต่คุณทำกับผม...</td>\n",
       "      <td>DTAC</td>\n",
       "      <td>2017-04-23 04:33:12</td>\n",
       "      <td>2017-04-23</td>\n",
       "    </tr>\n",
       "    <tr>\n",
       "      <th>58499</th>\n",
       "      <td>Tanawat Setthakorn</td>\n",
       "      <td>2017-04-23 04:33:26</td>\n",
       "      <td>0.0</td>\n",
       "      <td>ทำไมอะ ผมอุตส่าห์ย้ายค่ายมาหาคุณ แต่คุณทำกับผม...</td>\n",
       "      <td>DTAC</td>\n",
       "      <td>2017-04-23 04:33:26</td>\n",
       "      <td>2017-04-23</td>\n",
       "    </tr>\n",
       "    <tr>\n",
       "      <th>58402</th>\n",
       "      <td>Tanawat Setthakorn</td>\n",
       "      <td>2017-04-23 04:33:43</td>\n",
       "      <td>0.0</td>\n",
       "      <td>ทำไมอะ ผมอุตส่าห์ย้ายค่ายมาหาคุณ แต่คุณทำกับผม...</td>\n",
       "      <td>DTAC</td>\n",
       "      <td>2017-04-23 04:33:43</td>\n",
       "      <td>2017-04-23</td>\n",
       "    </tr>\n",
       "    <tr>\n",
       "      <th>58087</th>\n",
       "      <td>Tanawat Setthakorn</td>\n",
       "      <td>2017-04-23 04:34:07</td>\n",
       "      <td>1.0</td>\n",
       "      <td>ทำไมอะ ผมอุตส่าห์ย้ายค่ายมาหาคุณ แต่คุณทำกับผม...</td>\n",
       "      <td>DTAC</td>\n",
       "      <td>2017-04-23 04:34:07</td>\n",
       "      <td>2017-04-23</td>\n",
       "    </tr>\n",
       "    <tr>\n",
       "      <th>58037</th>\n",
       "      <td>Tanawat Setthakorn</td>\n",
       "      <td>2017-04-23 04:34:32</td>\n",
       "      <td>0.0</td>\n",
       "      <td>ทำไมอะ ผมอุตส่าห์ย้ายค่ายมาหาคุณ แต่คุณทำกับผม...</td>\n",
       "      <td>DTAC</td>\n",
       "      <td>2017-04-23 04:34:32</td>\n",
       "      <td>2017-04-23</td>\n",
       "    </tr>\n",
       "    <tr>\n",
       "      <th>57672</th>\n",
       "      <td>Tanawat Setthakorn</td>\n",
       "      <td>2017-04-23 04:34:54</td>\n",
       "      <td>0.0</td>\n",
       "      <td>ทำไมอะ ผมอุตส่าห์ย้ายค่ายมาหาคุณ แต่คุณทำกับผม...</td>\n",
       "      <td>DTAC</td>\n",
       "      <td>2017-04-23 04:34:54</td>\n",
       "      <td>2017-04-23</td>\n",
       "    </tr>\n",
       "  </tbody>\n",
       "</table>\n",
       "</div>"
      ],
      "text/plain": [
       "           commenter_name         created_time  like_count  \\\n",
       "58320  Tanawat Setthakorn  2017-04-22 18:26:53         0.0   \n",
       "58325  Tanawat Setthakorn  2017-04-23 02:35:36         0.0   \n",
       "58506  Tanawat Setthakorn  2017-04-23 02:36:02         0.0   \n",
       "58370  Tanawat Setthakorn  2017-04-23 02:36:34         0.0   \n",
       "58671  Tanawat Setthakorn  2017-04-23 04:32:51         4.0   \n",
       "58426  Tanawat Setthakorn  2017-04-23 04:33:12         1.0   \n",
       "58499  Tanawat Setthakorn  2017-04-23 04:33:26         0.0   \n",
       "58402  Tanawat Setthakorn  2017-04-23 04:33:43         0.0   \n",
       "58087  Tanawat Setthakorn  2017-04-23 04:34:07         1.0   \n",
       "58037  Tanawat Setthakorn  2017-04-23 04:34:32         0.0   \n",
       "57672  Tanawat Setthakorn  2017-04-23 04:34:54         0.0   \n",
       "\n",
       "                                                 message service  \\\n",
       "58320  ทำไมมันเนตช้ามากเลยอะครับ ตอนนี้ผมใช้โปร 1299 ...    DTAC   \n",
       "58325                               ช่วยมาตอบผมหน่อยครับ    DTAC   \n",
       "58506                     ผมจ่ายไม่ใช่ถูกๆนะครับ 1299!!!    DTAC   \n",
       "58370                               ไม่งั้นย้ายค่ายแน่!!    DTAC   \n",
       "58671  ทำไมอะ ผมอุตส่าห์ย้ายค่ายมาหาคุณ แต่คุณทำกับผม...    DTAC   \n",
       "58426  ทำไมอะ ผมอุตส่าห์ย้ายค่ายมาหาคุณ แต่คุณทำกับผม...    DTAC   \n",
       "58499  ทำไมอะ ผมอุตส่าห์ย้ายค่ายมาหาคุณ แต่คุณทำกับผม...    DTAC   \n",
       "58402  ทำไมอะ ผมอุตส่าห์ย้ายค่ายมาหาคุณ แต่คุณทำกับผม...    DTAC   \n",
       "58087  ทำไมอะ ผมอุตส่าห์ย้ายค่ายมาหาคุณ แต่คุณทำกับผม...    DTAC   \n",
       "58037  ทำไมอะ ผมอุตส่าห์ย้ายค่ายมาหาคุณ แต่คุณทำกับผม...    DTAC   \n",
       "57672  ทำไมอะ ผมอุตส่าห์ย้ายค่ายมาหาคุณ แต่คุณทำกับผม...    DTAC   \n",
       "\n",
       "             created_date created_date_format  \n",
       "58320 2017-04-22 18:26:53          2017-04-22  \n",
       "58325 2017-04-23 02:35:36          2017-04-23  \n",
       "58506 2017-04-23 02:36:02          2017-04-23  \n",
       "58370 2017-04-23 02:36:34          2017-04-23  \n",
       "58671 2017-04-23 04:32:51          2017-04-23  \n",
       "58426 2017-04-23 04:33:12          2017-04-23  \n",
       "58499 2017-04-23 04:33:26          2017-04-23  \n",
       "58402 2017-04-23 04:33:43          2017-04-23  \n",
       "58087 2017-04-23 04:34:07          2017-04-23  \n",
       "58037 2017-04-23 04:34:32          2017-04-23  \n",
       "57672 2017-04-23 04:34:54          2017-04-23  "
      ]
     },
     "execution_count": 165,
     "metadata": {},
     "output_type": "execute_result"
    }
   ],
   "source": [
    "commentDf[commentDf['commenter_name']=='Tanawat Setthakorn'].sort_values('created_date')"
   ]
  },
  {
   "cell_type": "code",
   "execution_count": 166,
   "metadata": {
    "collapsed": false
   },
   "outputs": [
    {
     "data": {
      "text/html": [
       "<div>\n",
       "<table border=\"1\" class=\"dataframe\">\n",
       "  <thead>\n",
       "    <tr style=\"text-align: right;\">\n",
       "      <th></th>\n",
       "      <th>commenter_name</th>\n",
       "      <th>created_time</th>\n",
       "      <th>like_count</th>\n",
       "      <th>message</th>\n",
       "      <th>service</th>\n",
       "      <th>created_date</th>\n",
       "      <th>created_date_format</th>\n",
       "    </tr>\n",
       "  </thead>\n",
       "  <tbody>\n",
       "    <tr>\n",
       "      <th>67373</th>\n",
       "      <td>ผ่านมา แค่ให้จำ</td>\n",
       "      <td>2016-07-15 04:37:26</td>\n",
       "      <td>1.0</td>\n",
       "      <td>ลูกค้าเก่า คุณไม่ดูแล ใช้มาเกือบ10ปี โปรแพง พอ...</td>\n",
       "      <td>AIS</td>\n",
       "      <td>2016-07-15 04:37:26</td>\n",
       "      <td>2016-07-15</td>\n",
       "    </tr>\n",
       "    <tr>\n",
       "      <th>69755</th>\n",
       "      <td>ผ่านมา แค่ให้จำ</td>\n",
       "      <td>2016-07-21 13:36:40</td>\n",
       "      <td>0.0</td>\n",
       "      <td>ไหนบอกเต็มสปีด 3G จะหมดก่อน 30 วันอยู่เหรอค่ะ</td>\n",
       "      <td>AIS</td>\n",
       "      <td>2016-07-21 13:36:40</td>\n",
       "      <td>2016-07-21</td>\n",
       "    </tr>\n",
       "    <tr>\n",
       "      <th>9950</th>\n",
       "      <td>ผ่านมา แค่ให้จำ</td>\n",
       "      <td>2016-07-29 09:55:19</td>\n",
       "      <td>0.0</td>\n",
       "      <td>มันยกเลิกสัญญาทาสไม่ได้ติคับ จรดปักกาเซ็นสัญญา...</td>\n",
       "      <td>DTAC</td>\n",
       "      <td>2016-07-29 09:55:19</td>\n",
       "      <td>2016-07-29</td>\n",
       "    </tr>\n",
       "    <tr>\n",
       "      <th>12780</th>\n",
       "      <td>ผ่านมา แค่ให้จำ</td>\n",
       "      <td>2016-08-12 10:00:17</td>\n",
       "      <td>0.0</td>\n",
       "      <td>อยากได้สักเครื่องทำงัย คับเห็นบอกของหมด ไหนๆจะ...</td>\n",
       "      <td>DTAC</td>\n",
       "      <td>2016-08-12 10:00:17</td>\n",
       "      <td>2016-08-12</td>\n",
       "    </tr>\n",
       "    <tr>\n",
       "      <th>12779</th>\n",
       "      <td>ผ่านมา แค่ให้จำ</td>\n",
       "      <td>2016-08-12 10:05:08</td>\n",
       "      <td>0.0</td>\n",
       "      <td>สำหรับท่านๆ ที่ได้มาแล้ว รีวิวให้ดูหน่อยคับถ้า...</td>\n",
       "      <td>DTAC</td>\n",
       "      <td>2016-08-12 10:05:08</td>\n",
       "      <td>2016-08-12</td>\n",
       "    </tr>\n",
       "    <tr>\n",
       "      <th>32393</th>\n",
       "      <td>ผ่านมา แค่ให้จำ</td>\n",
       "      <td>2016-12-11 06:20:11</td>\n",
       "      <td>0.0</td>\n",
       "      <td>ห่วยมากๆๆๆๆๆๆๆๆๆ</td>\n",
       "      <td>DTAC</td>\n",
       "      <td>2016-12-11 06:20:11</td>\n",
       "      <td>2016-12-11</td>\n",
       "    </tr>\n",
       "    <tr>\n",
       "      <th>146850</th>\n",
       "      <td>ผ่านมา แค่ให้จำ</td>\n",
       "      <td>2016-12-28 10:41:41</td>\n",
       "      <td>0.0</td>\n",
       "      <td>รายงานปันหาไปก้อเหมือนเดิม..ไม่มีอะรัยดีขึ้น.....</td>\n",
       "      <td>TRUE</td>\n",
       "      <td>2016-12-28 10:41:41</td>\n",
       "      <td>2016-12-28</td>\n",
       "    </tr>\n",
       "    <tr>\n",
       "      <th>48897</th>\n",
       "      <td>ผ่านมา แค่ให้จำ</td>\n",
       "      <td>2017-02-18 06:24:13</td>\n",
       "      <td>0.0</td>\n",
       "      <td>4g ในเมืองมีสัญญาณแค่เนี้ยดูเอา</td>\n",
       "      <td>DTAC</td>\n",
       "      <td>2017-02-18 06:24:13</td>\n",
       "      <td>2017-02-18</td>\n",
       "    </tr>\n",
       "    <tr>\n",
       "      <th>100382</th>\n",
       "      <td>ผ่านมา แค่ให้จำ</td>\n",
       "      <td>2017-02-23 15:47:22</td>\n",
       "      <td>1.0</td>\n",
       "      <td>แดกไป เกือบพันเลยเดือนนี้จะเลิกชั้ยจิงๆแระย้าย...</td>\n",
       "      <td>AIS</td>\n",
       "      <td>2017-02-23 15:47:22</td>\n",
       "      <td>2017-02-23</td>\n",
       "    </tr>\n",
       "    <tr>\n",
       "      <th>104047</th>\n",
       "      <td>ผ่านมา แค่ให้จำ</td>\n",
       "      <td>2017-03-11 13:46:37</td>\n",
       "      <td>0.0</td>\n",
       "      <td>ใช้เน็ตรายเดือนเล่นได้เดือนเดียวไม่ค้างค่างวดส...</td>\n",
       "      <td>AIS</td>\n",
       "      <td>2017-03-11 13:46:37</td>\n",
       "      <td>2017-03-11</td>\n",
       "    </tr>\n",
       "    <tr>\n",
       "      <th>116423</th>\n",
       "      <td>ผ่านมา แค่ให้จำ</td>\n",
       "      <td>2017-05-08 13:41:34</td>\n",
       "      <td>0.0</td>\n",
       "      <td>เนตกากมากกรายเดือนนะคะ 449แต่ดูรัยไม่เลย  งง</td>\n",
       "      <td>AIS</td>\n",
       "      <td>2017-05-08 13:41:34</td>\n",
       "      <td>2017-05-08</td>\n",
       "    </tr>\n",
       "    <tr>\n",
       "      <th>117388</th>\n",
       "      <td>ผ่านมา แค่ให้จำ</td>\n",
       "      <td>2017-05-09 06:14:01</td>\n",
       "      <td>1.0</td>\n",
       "      <td>เนตช้ามากกกกก</td>\n",
       "      <td>AIS</td>\n",
       "      <td>2017-05-09 06:14:01</td>\n",
       "      <td>2017-05-09</td>\n",
       "    </tr>\n",
       "  </tbody>\n",
       "</table>\n",
       "</div>"
      ],
      "text/plain": [
       "         commenter_name         created_time  like_count  \\\n",
       "67373   ผ่านมา แค่ให้จำ  2016-07-15 04:37:26         1.0   \n",
       "69755   ผ่านมา แค่ให้จำ  2016-07-21 13:36:40         0.0   \n",
       "9950    ผ่านมา แค่ให้จำ  2016-07-29 09:55:19         0.0   \n",
       "12780   ผ่านมา แค่ให้จำ  2016-08-12 10:00:17         0.0   \n",
       "12779   ผ่านมา แค่ให้จำ  2016-08-12 10:05:08         0.0   \n",
       "32393   ผ่านมา แค่ให้จำ  2016-12-11 06:20:11         0.0   \n",
       "146850  ผ่านมา แค่ให้จำ  2016-12-28 10:41:41         0.0   \n",
       "48897   ผ่านมา แค่ให้จำ  2017-02-18 06:24:13         0.0   \n",
       "100382  ผ่านมา แค่ให้จำ  2017-02-23 15:47:22         1.0   \n",
       "104047  ผ่านมา แค่ให้จำ  2017-03-11 13:46:37         0.0   \n",
       "116423  ผ่านมา แค่ให้จำ  2017-05-08 13:41:34         0.0   \n",
       "117388  ผ่านมา แค่ให้จำ  2017-05-09 06:14:01         1.0   \n",
       "\n",
       "                                                  message service  \\\n",
       "67373   ลูกค้าเก่า คุณไม่ดูแล ใช้มาเกือบ10ปี โปรแพง พอ...     AIS   \n",
       "69755       ไหนบอกเต็มสปีด 3G จะหมดก่อน 30 วันอยู่เหรอค่ะ     AIS   \n",
       "9950    มันยกเลิกสัญญาทาสไม่ได้ติคับ จรดปักกาเซ็นสัญญา...    DTAC   \n",
       "12780   อยากได้สักเครื่องทำงัย คับเห็นบอกของหมด ไหนๆจะ...    DTAC   \n",
       "12779   สำหรับท่านๆ ที่ได้มาแล้ว รีวิวให้ดูหน่อยคับถ้า...    DTAC   \n",
       "32393                                    ห่วยมากๆๆๆๆๆๆๆๆๆ    DTAC   \n",
       "146850  รายงานปันหาไปก้อเหมือนเดิม..ไม่มีอะรัยดีขึ้น.....    TRUE   \n",
       "48897                     4g ในเมืองมีสัญญาณแค่เนี้ยดูเอา    DTAC   \n",
       "100382  แดกไป เกือบพันเลยเดือนนี้จะเลิกชั้ยจิงๆแระย้าย...     AIS   \n",
       "104047  ใช้เน็ตรายเดือนเล่นได้เดือนเดียวไม่ค้างค่างวดส...     AIS   \n",
       "116423       เนตกากมากกรายเดือนนะคะ 449แต่ดูรัยไม่เลย  งง     AIS   \n",
       "117388                                      เนตช้ามากกกกก     AIS   \n",
       "\n",
       "              created_date created_date_format  \n",
       "67373  2016-07-15 04:37:26          2016-07-15  \n",
       "69755  2016-07-21 13:36:40          2016-07-21  \n",
       "9950   2016-07-29 09:55:19          2016-07-29  \n",
       "12780  2016-08-12 10:00:17          2016-08-12  \n",
       "12779  2016-08-12 10:05:08          2016-08-12  \n",
       "32393  2016-12-11 06:20:11          2016-12-11  \n",
       "146850 2016-12-28 10:41:41          2016-12-28  \n",
       "48897  2017-02-18 06:24:13          2017-02-18  \n",
       "100382 2017-02-23 15:47:22          2017-02-23  \n",
       "104047 2017-03-11 13:46:37          2017-03-11  \n",
       "116423 2017-05-08 13:41:34          2017-05-08  \n",
       "117388 2017-05-09 06:14:01          2017-05-09  "
      ]
     },
     "execution_count": 166,
     "metadata": {},
     "output_type": "execute_result"
    }
   ],
   "source": [
    "commentDf[commentDf['commenter_name']=='ผ่านมา แค่ให้จำ'].sort_values('created_date')"
   ]
  },
  {
   "cell_type": "markdown",
   "metadata": {},
   "source": [
    "## And much more. \n",
    "-------------------\n",
    "We can know users story from these comments. Imagine combine with machine learning model that can detect whether the comment is unhappy or not. We can prevent a large portion of user from leaving."
   ]
  },
  {
   "cell_type": "code",
   "execution_count": null,
   "metadata": {
    "collapsed": true
   },
   "outputs": [],
   "source": []
  }
 ],
 "metadata": {
  "anaconda-cloud": {},
  "kernelspec": {
   "display_name": "Python [conda root]",
   "language": "python",
   "name": "conda-root-py"
  },
  "language_info": {
   "codemirror_mode": {
    "name": "ipython",
    "version": 3
   },
   "file_extension": ".py",
   "mimetype": "text/x-python",
   "name": "python",
   "nbconvert_exporter": "python",
   "pygments_lexer": "ipython3",
   "version": "3.5.2"
  },
  "nbpresent": {
   "slides": {
    "815bebc0-e5b9-47db-9fa8-6a016c803503": {
     "id": "815bebc0-e5b9-47db-9fa8-6a016c803503",
     "prev": null,
     "regions": {
      "e45224f9-a881-4b14-8cc5-7d067acb5aa8": {
       "attrs": {
        "height": 0.8,
        "width": 0.8,
        "x": 0.1,
        "y": 0.1
       },
       "content": {
        "cell": "5e2f6416-5bbb-41d5-8d13-21d7907dc265",
        "part": "whole"
       },
       "id": "e45224f9-a881-4b14-8cc5-7d067acb5aa8"
      }
     },
     "theme": null
    }
   },
   "themes": {}
  }
 },
 "nbformat": 4,
 "nbformat_minor": 2
}
