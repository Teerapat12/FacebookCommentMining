{
 "cells": [
  {
   "cell_type": "markdown",
   "metadata": {},
   "source": [
    "# Facebook Commenter Analytics (Commenter)\n",
    "----\n",
    "In this notebook, we will explore user that has comment many comment and see their behavior."
   ]
  },
  {
   "cell_type": "code",
   "execution_count": 3,
   "metadata": {
    "collapsed": false,
    "nbpresent": {
     "id": "16073377-0d8b-45be-8a2e-4f46c87f96c2"
    }
   },
   "outputs": [],
   "source": [
    "import pandas as pd\n",
    "import numpy as np\n",
    "from pythainlp.tokenize import word_tokenize\n",
    "import seaborn as sns\n",
    "import matplotlib.pyplot as plt\n",
    "import matplotlib.dates as mdates\n",
    "import matplotlib as mpl\n",
    "mpl.rc('font',family='JasmineUPC')\n",
    "mpl.rc('xtick', labelsize=15) \n",
    "mpl.rc('ytick', labelsize=15) \n",
    "%matplotlib inline"
   ]
  },
  {
   "cell_type": "code",
   "execution_count": 4,
   "metadata": {
    "collapsed": true
   },
   "outputs": [],
   "source": [
    "import plotly \n",
    "plotly.tools.set_credentials_file(username='TeerapatChaiwachirasak', api_key='RMqZv6z9pSmGeRafgNnS')\n",
    "import plotly.plotly as py\n",
    "import plotly.graph_objs as go"
   ]
  },
  {
   "cell_type": "code",
   "execution_count": 5,
   "metadata": {
    "collapsed": false,
    "nbpresent": {
     "id": "5e2f6416-5bbb-41d5-8d13-21d7907dc265"
    }
   },
   "outputs": [
    {
     "name": "stderr",
     "output_type": "stream",
     "text": [
      "C:\\Program Files\\Anaconda3\\lib\\site-packages\\IPython\\core\\interactiveshell.py:2717: DtypeWarning:\n",
      "\n",
      "Columns (0,7) have mixed types. Specify dtype option on import or set low_memory=False.\n",
      "\n",
      "C:\\Program Files\\Anaconda3\\lib\\site-packages\\ipykernel\\__main__.py:7: SettingWithCopyWarning:\n",
      "\n",
      "\n",
      "A value is trying to be set on a copy of a slice from a DataFrame\n",
      "\n",
      "See the caveats in the documentation: http://pandas.pydata.org/pandas-docs/stable/indexing.html#indexing-view-versus-copy\n",
      "\n"
     ]
    },
    {
     "data": {
      "text/html": [
       "<div>\n",
       "<table border=\"1\" class=\"dataframe\">\n",
       "  <thead>\n",
       "    <tr style=\"text-align: right;\">\n",
       "      <th></th>\n",
       "      <th>commenter_name</th>\n",
       "      <th>created_time</th>\n",
       "      <th>like_count</th>\n",
       "      <th>message</th>\n",
       "      <th>service</th>\n",
       "      <th>created_date</th>\n",
       "      <th>created_date_format</th>\n",
       "    </tr>\n",
       "  </thead>\n",
       "  <tbody>\n",
       "    <tr>\n",
       "      <th>0</th>\n",
       "      <td>Nui Worabut</td>\n",
       "      <td>2016-06-01 12:53:00</td>\n",
       "      <td>1.0</td>\n",
       "      <td>ใช้โปรเสริม net non..9 gb  ใช้หมดลดความเร็วไม่...</td>\n",
       "      <td>DTAC</td>\n",
       "      <td>2016-06-01 12:53:00</td>\n",
       "      <td>2016-06-01</td>\n",
       "    </tr>\n",
       "    <tr>\n",
       "      <th>1</th>\n",
       "      <td>Chandratithaya Je-u</td>\n",
       "      <td>2016-06-02 17:17:32</td>\n",
       "      <td>0.0</td>\n",
       "      <td>ใช้ดีแทค แล้วปวดใจจริงๆ สัญญานขาดหาย อินเตอร์เ...</td>\n",
       "      <td>DTAC</td>\n",
       "      <td>2016-06-02 17:17:32</td>\n",
       "      <td>2016-06-02</td>\n",
       "    </tr>\n",
       "    <tr>\n",
       "      <th>2</th>\n",
       "      <td>Hataichanok Maklamai</td>\n",
       "      <td>2016-06-02 07:51:45</td>\n",
       "      <td>0.0</td>\n",
       "      <td>ส่งขอมูลไปทาง ib แล้วนะคะ รบกวนตอบด้วยคะ ส่งไป...</td>\n",
       "      <td>DTAC</td>\n",
       "      <td>2016-06-02 07:51:45</td>\n",
       "      <td>2016-06-02</td>\n",
       "    </tr>\n",
       "    <tr>\n",
       "      <th>3</th>\n",
       "      <td>Nattapong Wongsa</td>\n",
       "      <td>2016-06-02 15:43:53</td>\n",
       "      <td>1.0</td>\n",
       "      <td>อะไรนี้...ไม่เปิดให้เติมเกมส์ใช้ปะ  จะได้เลิกใช้</td>\n",
       "      <td>DTAC</td>\n",
       "      <td>2016-06-02 15:43:53</td>\n",
       "      <td>2016-06-02</td>\n",
       "    </tr>\n",
       "    <tr>\n",
       "      <th>4</th>\n",
       "      <td>Jitsak Sisawad</td>\n",
       "      <td>2016-06-02 15:09:06</td>\n",
       "      <td>0.0</td>\n",
       "      <td>ห่วยแตกไม่เคยแจ้งข่าวสารให้ลูก อยู่ๆก้มาเก็บค่...</td>\n",
       "      <td>DTAC</td>\n",
       "      <td>2016-06-02 15:09:06</td>\n",
       "      <td>2016-06-02</td>\n",
       "    </tr>\n",
       "  </tbody>\n",
       "</table>\n",
       "</div>"
      ],
      "text/plain": [
       "         commenter_name         created_time  like_count  \\\n",
       "0           Nui Worabut  2016-06-01 12:53:00         1.0   \n",
       "1   Chandratithaya Je-u  2016-06-02 17:17:32         0.0   \n",
       "2  Hataichanok Maklamai  2016-06-02 07:51:45         0.0   \n",
       "3      Nattapong Wongsa  2016-06-02 15:43:53         1.0   \n",
       "4        Jitsak Sisawad  2016-06-02 15:09:06         0.0   \n",
       "\n",
       "                                             message service  \\\n",
       "0  ใช้โปรเสริม net non..9 gb  ใช้หมดลดความเร็วไม่...    DTAC   \n",
       "1  ใช้ดีแทค แล้วปวดใจจริงๆ สัญญานขาดหาย อินเตอร์เ...    DTAC   \n",
       "2  ส่งขอมูลไปทาง ib แล้วนะคะ รบกวนตอบด้วยคะ ส่งไป...    DTAC   \n",
       "3   อะไรนี้...ไม่เปิดให้เติมเกมส์ใช้ปะ  จะได้เลิกใช้    DTAC   \n",
       "4  ห่วยแตกไม่เคยแจ้งข่าวสารให้ลูก อยู่ๆก้มาเก็บค่...    DTAC   \n",
       "\n",
       "         created_date created_date_format  \n",
       "0 2016-06-01 12:53:00          2016-06-01  \n",
       "1 2016-06-02 17:17:32          2016-06-02  \n",
       "2 2016-06-02 07:51:45          2016-06-02  \n",
       "3 2016-06-02 15:43:53          2016-06-02  \n",
       "4 2016-06-02 15:09:06          2016-06-02  "
      ]
     },
     "execution_count": 5,
     "metadata": {},
     "output_type": "execute_result"
    }
   ],
   "source": [
    "#Test reading from .tsv\n",
    "commentDf = pd.read_csv('../dataset/facebook_comment.tsv',sep ='\\t')\n",
    "commentDf['message'] = np.nan_to_num(commentDf['message'])\n",
    "commentDf = commentDf[['commenter_name','created_time','like_count','message','service']]\n",
    "commentDf['created_date'] = pd.to_datetime(commentDf['created_time'], format='%Y-%m-%d %H:%M:%S.%f')\n",
    "commentDf['created_date_format'] = commentDf['created_date'].apply(lambda x: x.replace(hour=0, minute=0, second=0, microsecond=0))\n",
    "commentDf['service'][commentDf['service']==True] = 'TRUE'\n",
    "commentDf.head()"
   ]
  },
  {
   "cell_type": "markdown",
   "metadata": {},
   "source": [
    "## Here we are going to look at top commenters (commenter whose comment a lot)\n",
    "---------------------------"
   ]
  },
  {
   "cell_type": "code",
   "execution_count": 6,
   "metadata": {
    "collapsed": false,
    "scrolled": false
   },
   "outputs": [
    {
     "data": {
      "text/plain": [
       "ธนิด ภัทรกิตติ      1830\n",
       "อนันต์ ด้า           548\n",
       "TrueMove H           399\n",
       "AIS                  237\n",
       "Joe KonTummada       182\n",
       "Kittithat Tri        177\n",
       "Artinut Nopparat     156\n",
       "Bosa Bisabo          142\n",
       "เชยกลิ่น แล้วงัย     140\n",
       "Back Green           139\n",
       "Name: commenter_name, dtype: int64"
      ]
     },
     "execution_count": 6,
     "metadata": {},
     "output_type": "execute_result"
    }
   ],
   "source": [
    "commentDf['commenter_name'].value_counts().head(10)"
   ]
  },
  {
   "cell_type": "markdown",
   "metadata": {},
   "source": [
    "## Let's also find top 3 commenter for each of the service provider\n",
    "--------"
   ]
  },
  {
   "cell_type": "code",
   "execution_count": 7,
   "metadata": {
    "collapsed": false
   },
   "outputs": [
    {
     "data": {
      "image/png": "[encoded data removed]",
      "text/plain": [
       "<matplotlib.figure.Figure at 0x216375ce128>"
      ]
     },
     "metadata": {},
     "output_type": "display_data"
    }
   ],
   "source": [
    "def topCommenter():\n",
    "    colors = ['#019CDE','#BCCD05','#D51F26']\n",
    "    fig,ax = plt.subplots(1,3,figsize=(15,5))\n",
    "    for i,service in enumerate(['DTAC','AIS','TRUE']):\n",
    "        topCommenter = commentDf['commenter_name'][commentDf['service']==service].value_counts().head(3)\n",
    "        ax[i].bar([0.75,2.75,4.75],topCommenter,width=0.5,color=colors[i],edgecolor = \"none\")\n",
    "        ax[i].set_xlim((0,6.5))\n",
    "        ax[i].set_ylim((0,1800))\n",
    "        ax[i].set_title(service+\"'s top 3 commenters\",fontsize=25)\n",
    "        ax[i].set_xticks([0.75,2.75,4.75])\n",
    "        ax[i].set_xticklabels(topCommenter.index.values)    \n",
    "    plt.show()\n",
    "topCommenter()"
   ]
  },
  {
   "cell_type": "markdown",
   "metadata": {},
   "source": [
    "### Let's focus on คุณ ธนิด ภัทรกิตติ first.\n",
    "-----------"
   ]
  },
  {
   "cell_type": "code",
   "execution_count": 31,
   "metadata": {
    "collapsed": false,
    "scrolled": false
   },
   "outputs": [
    {
     "name": "stdout",
     "output_type": "stream",
     "text": [
      "ธนิด ภัทรกิตติ has 1830 comments.\n",
      "Sample comment : \n"
     ]
    },
    {
     "data": {
      "text/html": [
       "<div>\n",
       "<table border=\"1\" class=\"dataframe\">\n",
       "  <thead>\n",
       "    <tr style=\"text-align: right;\">\n",
       "      <th></th>\n",
       "      <th>message</th>\n",
       "      <th>created_date_format</th>\n",
       "      <th>service</th>\n",
       "    </tr>\n",
       "  </thead>\n",
       "  <tbody>\n",
       "    <tr>\n",
       "      <th>139351</th>\n",
       "      <td>รียนคณะกรรมการ กสทช./ สำนักงานตำรวจแห่งชาติ\\nเ...</td>\n",
       "      <td>2016-11-02</td>\n",
       "      <td>TRUE</td>\n",
       "    </tr>\n",
       "    <tr>\n",
       "      <th>139349</th>\n",
       "      <td>คุณนิพนธ์ คุณสุรชาติ คณอรอุมา และเจ้าหน้าที่ 1...</td>\n",
       "      <td>2016-11-02</td>\n",
       "      <td>TRUE</td>\n",
       "    </tr>\n",
       "    <tr>\n",
       "      <th>140842</th>\n",
       "      <td>ใครอยากได้ค่าโทรฟรีจากทรู ร้องเรียนทรู ที่ 133...</td>\n",
       "      <td>2016-11-21</td>\n",
       "      <td>TRUE</td>\n",
       "    </tr>\n",
       "    <tr>\n",
       "      <th>144513</th>\n",
       "      <td>เรียนคณะกรรมการ กสทช.\\nเมื่อวานเซเว่นส่งข้อควา...</td>\n",
       "      <td>2016-12-06</td>\n",
       "      <td>TRUE</td>\n",
       "    </tr>\n",
       "    <tr>\n",
       "      <th>154647</th>\n",
       "      <td>คุณพรนภายังไม่โทรหาผมนะครับ</td>\n",
       "      <td>2017-02-17</td>\n",
       "      <td>TRUE</td>\n",
       "    </tr>\n",
       "    <tr>\n",
       "      <th>163608</th>\n",
       "      <td>ทางช็อบไร้มารยาทมากๆ ให้ผมรอคำตอบนาน 5 ชั่วโมง...</td>\n",
       "      <td>2017-04-04</td>\n",
       "      <td>TRUE</td>\n",
       "    </tr>\n",
       "    <tr>\n",
       "      <th>164162</th>\n",
       "      <td>ตอนเที่ยงผมโทรคุยกับ­คุณเพียงตะวัน คุณเพียงตะว...</td>\n",
       "      <td>2017-04-05</td>\n",
       "      <td>TRUE</td>\n",
       "    </tr>\n",
       "  </tbody>\n",
       "</table>\n",
       "</div>"
      ],
      "text/plain": [
       "                                                  message created_date_format  \\\n",
       "139351  รียนคณะกรรมการ กสทช./ สำนักงานตำรวจแห่งชาติ\\nเ...          2016-11-02   \n",
       "139349  คุณนิพนธ์ คุณสุรชาติ คณอรอุมา และเจ้าหน้าที่ 1...          2016-11-02   \n",
       "140842  ใครอยากได้ค่าโทรฟรีจากทรู ร้องเรียนทรู ที่ 133...          2016-11-21   \n",
       "144513  เรียนคณะกรรมการ กสทช.\\nเมื่อวานเซเว่นส่งข้อควา...          2016-12-06   \n",
       "154647                        คุณพรนภายังไม่โทรหาผมนะครับ          2017-02-17   \n",
       "163608  ทางช็อบไร้มารยาทมากๆ ให้ผมรอคำตอบนาน 5 ชั่วโมง...          2017-04-04   \n",
       "164162  ตอนเที่ยงผมโทรคุยกับ­คุณเพียงตะวัน คุณเพียงตะว...          2017-04-05   \n",
       "\n",
       "       service  \n",
       "139351    TRUE  \n",
       "139349    TRUE  \n",
       "140842    TRUE  \n",
       "144513    TRUE  \n",
       "154647    TRUE  \n",
       "163608    TRUE  \n",
       "164162    TRUE  "
      ]
     },
     "execution_count": 31,
     "metadata": {},
     "output_type": "execute_result"
    },
    {
     "data": {
      "image/png": "[encoded data removed]",
      "text/plain": [
       "<matplotlib.figure.Figure at 0x21633397f98>"
      ]
     },
     "metadata": {},
     "output_type": "display_data"
    }
   ],
   "source": [
    "def commentFromUser(name):\n",
    "    return commentDf[commentDf['commenter_name']==name]\n",
    "from datetime import datetime\n",
    "\n",
    "def analyzeUserComment(name):\n",
    "    color = ['dark sky blue','grass','reddish orange']\n",
    "    colors = sns.xkcd_palette(color)\n",
    "    comment = commentFromUser(name)\n",
    "    print(\"%s has %d comments.\"%(name,comment.shape[0]))\n",
    "    print(\"Sample comment : \")\n",
    "    fig, axs = plt.subplots(ncols=2,figsize=(12,3))\n",
    "    sns.countplot(x=\"service\", data=comment,palette=colors,ax=axs[0])\n",
    "    axs[0].set_title('Comment Count (Service)')\n",
    "    sns.countplot(x=\"created_date_format\", data=comment,hue='service',palette=colors,ax=axs[1])\n",
    "    #axs[1].set_xticks([])\n",
    "    #axs[1].set_xticklabels([])d = ts\n",
    "    dateStr = [str(i)[10:20] for i in list(axs[1].get_xticklabels())]\n",
    "    if(len(dateStr)>=10):\n",
    "        dateStr = [date if (i%int(len(dateStr)/10))==0  else \"\" for i,date in enumerate(dateStr) ]\n",
    "        \n",
    "    axs[1].set_xticklabels(dateStr, rotation=40, ha=\"right\",size=10)\n",
    "    axs[1].set_title('Comment Count (Date)')\n",
    "    return comment[['message','created_date_format','service']].sample(7).sort_values('created_date_format')\n",
    "    \n",
    "analyzeUserComment('ธนิด ภัทรกิตติ')"
   ]
  },
  {
   "cell_type": "code",
   "execution_count": 7,
   "metadata": {
    "collapsed": false
   },
   "outputs": [
    {
     "data": {
      "text/html": [
       "<iframe id=\"igraph\" scrolling=\"no\" style=\"border:none;\" seamless=\"seamless\" src=\"https://plot.ly/~TeerapatChaiwachirasak/24.embed\" height=\"525px\" width=\"100%\"></iframe>"
      ],
      "text/plain": [
       "<plotly.tools.PlotlyDisplay object>"
      ]
     },
     "execution_count": 7,
     "metadata": {},
     "output_type": "execute_result"
    }
   ],
   "source": [
    "commentByDate = commentDf[commentDf['commenter_name']=='ธนิด ภัทรกิตติ']['created_date_format'].value_counts().sort_index()\n",
    "x = commentByDate.index.values\n",
    "y = commentByDate.values\n",
    "data = [go.Scatter(\n",
    "          x=x,\n",
    "          y=y\n",
    "        )]\n",
    "py.iplot(data)"
   ]
  },
  {
   "cell_type": "markdown",
   "metadata": {},
   "source": [
    "As you can see, most of the comment are negative towards TRUE (and little bit to DTac). We can assume that he is very active in using social media given the amount of comment he did."
   ]
  },
  {
   "cell_type": "markdown",
   "metadata": {},
   "source": [
    "### Moving on, let's see top commenter from Dtac\n",
    "--------"
   ]
  },
  {
   "cell_type": "code",
   "execution_count": 21,
   "metadata": {
    "collapsed": false
   },
   "outputs": [
    {
     "name": "stdout",
     "output_type": "stream",
     "text": [
      "อนันต์ ด้า has 548 comments.\n",
      "Sample comment : \n"
     ]
    },
    {
     "data": {
      "text/html": [
       "<div>\n",
       "<table border=\"1\" class=\"dataframe\">\n",
       "  <thead>\n",
       "    <tr style=\"text-align: right;\">\n",
       "      <th></th>\n",
       "      <th>message</th>\n",
       "      <th>created_date_format</th>\n",
       "      <th>service</th>\n",
       "    </tr>\n",
       "  </thead>\n",
       "  <tbody>\n",
       "    <tr>\n",
       "      <th>16641</th>\n",
       "      <td>เน็ตเหี้ยมาก</td>\n",
       "      <td>2016-09-22</td>\n",
       "      <td>DTAC</td>\n",
       "    </tr>\n",
       "    <tr>\n",
       "      <th>19768</th>\n",
       "      <td>ไม่ได้เรื่อง ใช้ไม่ได้</td>\n",
       "      <td>2016-10-25</td>\n",
       "      <td>DTAC</td>\n",
       "    </tr>\n",
       "    <tr>\n",
       "      <th>21855</th>\n",
       "      <td>NaN</td>\n",
       "      <td>2016-11-09</td>\n",
       "      <td>DTAC</td>\n",
       "    </tr>\n",
       "    <tr>\n",
       "      <th>21891</th>\n",
       "      <td>NaN</td>\n",
       "      <td>2016-11-09</td>\n",
       "      <td>DTAC</td>\n",
       "    </tr>\n",
       "    <tr>\n",
       "      <th>23635</th>\n",
       "      <td>ไอ้โคตรพ่อโคตรแม่มึงใช้ดู</td>\n",
       "      <td>2016-11-19</td>\n",
       "      <td>DTAC</td>\n",
       "    </tr>\n",
       "    <tr>\n",
       "      <th>44711</th>\n",
       "      <td>ลื่นเหี้ยอะไร</td>\n",
       "      <td>2017-02-12</td>\n",
       "      <td>DTAC</td>\n",
       "    </tr>\n",
       "    <tr>\n",
       "      <th>49429</th>\n",
       "      <td>NaN</td>\n",
       "      <td>2017-03-05</td>\n",
       "      <td>DTAC</td>\n",
       "    </tr>\n",
       "  </tbody>\n",
       "</table>\n",
       "</div>"
      ],
      "text/plain": [
       "                         message created_date_format service\n",
       "16641               เน็ตเหี้ยมาก          2016-09-22    DTAC\n",
       "19768     ไม่ได้เรื่อง ใช้ไม่ได้          2016-10-25    DTAC\n",
       "21855                        NaN          2016-11-09    DTAC\n",
       "21891                        NaN          2016-11-09    DTAC\n",
       "23635  ไอ้โคตรพ่อโคตรแม่มึงใช้ดู          2016-11-19    DTAC\n",
       "44711              ลื่นเหี้ยอะไร          2017-02-12    DTAC\n",
       "49429                        NaN          2017-03-05    DTAC"
      ]
     },
     "execution_count": 21,
     "metadata": {},
     "output_type": "execute_result"
    },
    {
     "data": {
      "image/png": "[encoded data removed]",
      "text/plain": [
       "<matplotlib.figure.Figure at 0x21633212470>"
      ]
     },
     "metadata": {},
     "output_type": "display_data"
    }
   ],
   "source": [
    "analyzeUserComment('อนันต์ ด้า')"
   ]
  },
  {
   "cell_type": "markdown",
   "metadata": {},
   "source": [
    "Quite similar to previous commenter."
   ]
  },
  {
   "cell_type": "markdown",
   "metadata": {},
   "source": [
    "### Let's look at  คุณ Back Green.\n",
    "--------------------"
   ]
  },
  {
   "cell_type": "code",
   "execution_count": 22,
   "metadata": {
    "collapsed": false
   },
   "outputs": [
    {
     "name": "stdout",
     "output_type": "stream",
     "text": [
      "Back Green has 139 comments.\n",
      "Sample comment : \n"
     ]
    },
    {
     "data": {
      "text/html": [
       "<div>\n",
       "<table border=\"1\" class=\"dataframe\">\n",
       "  <thead>\n",
       "    <tr style=\"text-align: right;\">\n",
       "      <th></th>\n",
       "      <th>message</th>\n",
       "      <th>created_date_format</th>\n",
       "      <th>service</th>\n",
       "    </tr>\n",
       "  </thead>\n",
       "  <tbody>\n",
       "    <tr>\n",
       "      <th>129019</th>\n",
       "      <td>ขยะสังคมจิงๆๆ</td>\n",
       "      <td>2016-07-25</td>\n",
       "      <td>TRUE</td>\n",
       "    </tr>\n",
       "    <tr>\n",
       "      <th>34973</th>\n",
       "      <td>เน็ต แม้ง โคด กาก ไอ สาด ควย กาก จิบ ผาย โคด เ...</td>\n",
       "      <td>2016-12-16</td>\n",
       "      <td>DTAC</td>\n",
       "    </tr>\n",
       "    <tr>\n",
       "      <th>35035</th>\n",
       "      <td>เบอร์ 0814327907 ไอสาดแก้ไขทีเหอะแม้ง</td>\n",
       "      <td>2016-12-19</td>\n",
       "      <td>DTAC</td>\n",
       "    </tr>\n",
       "    <tr>\n",
       "      <th>40975</th>\n",
       "      <td>เน็ตหัวควยยังนี่</td>\n",
       "      <td>2017-01-22</td>\n",
       "      <td>DTAC</td>\n",
       "    </tr>\n",
       "    <tr>\n",
       "      <th>45171</th>\n",
       "      <td>หมดไปเยอะละเบอ0814327907</td>\n",
       "      <td>2017-02-05</td>\n",
       "      <td>DTAC</td>\n",
       "    </tr>\n",
       "    <tr>\n",
       "      <th>44097</th>\n",
       "      <td>ไอสาด</td>\n",
       "      <td>2017-02-05</td>\n",
       "      <td>DTAC</td>\n",
       "    </tr>\n",
       "    <tr>\n",
       "      <th>43835</th>\n",
       "      <td>ถ้าทำเน็ตยังนี้ไปเป็นขอทานดีกว่าฝากบอกผู้บริหา...</td>\n",
       "      <td>2017-02-07</td>\n",
       "      <td>DTAC</td>\n",
       "    </tr>\n",
       "  </tbody>\n",
       "</table>\n",
       "</div>"
      ],
      "text/plain": [
       "                                                  message created_date_format  \\\n",
       "129019                                      ขยะสังคมจิงๆๆ          2016-07-25   \n",
       "34973   เน็ต แม้ง โคด กาก ไอ สาด ควย กาก จิบ ผาย โคด เ...          2016-12-16   \n",
       "35035               เบอร์ 0814327907 ไอสาดแก้ไขทีเหอะแม้ง          2016-12-19   \n",
       "40975                                    เน็ตหัวควยยังนี่          2017-01-22   \n",
       "45171                            หมดไปเยอะละเบอ0814327907          2017-02-05   \n",
       "44097                                               ไอสาด          2017-02-05   \n",
       "43835   ถ้าทำเน็ตยังนี้ไปเป็นขอทานดีกว่าฝากบอกผู้บริหา...          2017-02-07   \n",
       "\n",
       "       service  \n",
       "129019    TRUE  \n",
       "34973     DTAC  \n",
       "35035     DTAC  \n",
       "40975     DTAC  \n",
       "45171     DTAC  \n",
       "44097     DTAC  \n",
       "43835     DTAC  "
      ]
     },
     "execution_count": 22,
     "metadata": {},
     "output_type": "execute_result"
    },
    {
     "data": {
      "image/png": "[encoded data removed]",
      "text/plain": [
       "<matplotlib.figure.Figure at 0x21633a444a8>"
      ]
     },
     "metadata": {},
     "output_type": "display_data"
    }
   ],
   "source": [
    "analyzeUserComment('Back Green')"
   ]
  },
  {
   "cell_type": "markdown",
   "metadata": {},
   "source": [
    "## You can see how the comment shift from True to Dtac. \n",
    "-----------------------\n",
    "This might mean that he/she moved from True to Dtac. From here, we might be able to find churn rate,date just from social media."
   ]
  },
  {
   "cell_type": "code",
   "execution_count": 10,
   "metadata": {
    "collapsed": false
   },
   "outputs": [
    {
     "data": {
      "text/html": [
       "<iframe id=\"igraph\" scrolling=\"no\" style=\"border:none;\" seamless=\"seamless\" src=\"https://plot.ly/~TeerapatChaiwachirasak/26.embed\" height=\"525px\" width=\"100%\"></iframe>"
      ],
      "text/plain": [
       "<plotly.tools.PlotlyDisplay object>"
      ]
     },
     "execution_count": 10,
     "metadata": {},
     "output_type": "execute_result"
    }
   ],
   "source": [
    "commentByDate = commentDf[commentDf['commenter_name']=='Back Green']['created_date_format'].value_counts().sort_index()\n",
    "x = commentByDate.index.values\n",
    "y = commentByDate.values\n",
    "\n",
    "data = [go.Scatter(\n",
    "          x=x,\n",
    "          y=y\n",
    "        )]\n",
    "py.iplot(data)"
   ]
  },
  {
   "cell_type": "code",
   "execution_count": 25,
   "metadata": {
    "collapsed": false
   },
   "outputs": [
    {
     "name": "stdout",
     "output_type": "stream",
     "text": [
      "TrueMove H has 399 comments.\n",
      "Sample comment : \n"
     ]
    },
    {
     "data": {
      "text/html": [
       "<div>\n",
       "<table border=\"1\" class=\"dataframe\">\n",
       "  <thead>\n",
       "    <tr style=\"text-align: right;\">\n",
       "      <th></th>\n",
       "      <th>message</th>\n",
       "      <th>created_date_format</th>\n",
       "      <th>service</th>\n",
       "    </tr>\n",
       "  </thead>\n",
       "  <tbody>\n",
       "    <tr>\n",
       "      <th>132311</th>\n",
       "      <td>คุณธวัชชัย ยาวิชัย\\nสำหรับแพ็คเกจเสริมในการใช้...</td>\n",
       "      <td>2016-08-14</td>\n",
       "      <td>TRUE</td>\n",
       "    </tr>\n",
       "    <tr>\n",
       "      <th>138044</th>\n",
       "      <td>สวัสดีค่ะ คุณWachara Thongchai  หากพบปัญหาการใ...</td>\n",
       "      <td>2016-10-12</td>\n",
       "      <td>TRUE</td>\n",
       "    </tr>\n",
       "    <tr>\n",
       "      <th>138961</th>\n",
       "      <td>ทีมงานเรียนคุณ Bast Apiwat ตรวจสอบพื้นที่ ที่แ...</td>\n",
       "      <td>2016-10-30</td>\n",
       "      <td>TRUE</td>\n",
       "    </tr>\n",
       "    <tr>\n",
       "      <th>139178</th>\n",
       "      <td>สวัสดีครับ คุณ Atsadavut Pattanapankul แอดมินร...</td>\n",
       "      <td>2016-11-05</td>\n",
       "      <td>TRUE</td>\n",
       "    </tr>\n",
       "    <tr>\n",
       "      <th>154031</th>\n",
       "      <td>สวัสดีคุ่ะคุณอุไรรัตน์ กำแพงเงิน ทีมงานยินดีดู...</td>\n",
       "      <td>2017-02-13</td>\n",
       "      <td>TRUE</td>\n",
       "    </tr>\n",
       "    <tr>\n",
       "      <th>159955</th>\n",
       "      <td>สวัสดีครับ คุณ Aum Kromkong  สำหรับ แคมเปญ Pre...</td>\n",
       "      <td>2017-03-25</td>\n",
       "      <td>TRUE</td>\n",
       "    </tr>\n",
       "    <tr>\n",
       "      <th>160837</th>\n",
       "      <td>หากมีข้อมูลสอบถามเพิ่มเติม หรือมีสิ่งใดให้ทางเ...</td>\n",
       "      <td>2017-03-25</td>\n",
       "      <td>TRUE</td>\n",
       "    </tr>\n",
       "  </tbody>\n",
       "</table>\n",
       "</div>"
      ],
      "text/plain": [
       "                                                  message created_date_format  \\\n",
       "132311  คุณธวัชชัย ยาวิชัย\\nสำหรับแพ็คเกจเสริมในการใช้...          2016-08-14   \n",
       "138044  สวัสดีค่ะ คุณWachara Thongchai  หากพบปัญหาการใ...          2016-10-12   \n",
       "138961  ทีมงานเรียนคุณ Bast Apiwat ตรวจสอบพื้นที่ ที่แ...          2016-10-30   \n",
       "139178  สวัสดีครับ คุณ Atsadavut Pattanapankul แอดมินร...          2016-11-05   \n",
       "154031  สวัสดีคุ่ะคุณอุไรรัตน์ กำแพงเงิน ทีมงานยินดีดู...          2017-02-13   \n",
       "159955  สวัสดีครับ คุณ Aum Kromkong  สำหรับ แคมเปญ Pre...          2017-03-25   \n",
       "160837  หากมีข้อมูลสอบถามเพิ่มเติม หรือมีสิ่งใดให้ทางเ...          2017-03-25   \n",
       "\n",
       "       service  \n",
       "132311    TRUE  \n",
       "138044    TRUE  \n",
       "138961    TRUE  \n",
       "139178    TRUE  \n",
       "154031    TRUE  \n",
       "159955    TRUE  \n",
       "160837    TRUE  "
      ]
     },
     "execution_count": 25,
     "metadata": {},
     "output_type": "execute_result"
    },
    {
     "data": {
      "image/png": "[encoded data removed]",
      "text/plain": [
       "<matplotlib.figure.Figure at 0x21633079dd8>"
      ]
     },
     "metadata": {},
     "output_type": "display_data"
    }
   ],
   "source": [
    "analyzeUserComment('TrueMove H')"
   ]
  },
  {
   "cell_type": "code",
   "execution_count": 28,
   "metadata": {
    "collapsed": false
   },
   "outputs": [
    {
     "name": "stdout",
     "output_type": "stream",
     "text": [
      "AIS has 237 comments.\n",
      "Sample comment : \n"
     ]
    },
    {
     "data": {
      "text/html": [
       "<div>\n",
       "<table border=\"1\" class=\"dataframe\">\n",
       "  <thead>\n",
       "    <tr style=\"text-align: right;\">\n",
       "      <th></th>\n",
       "      <th>message</th>\n",
       "      <th>created_date_format</th>\n",
       "      <th>service</th>\n",
       "    </tr>\n",
       "  </thead>\n",
       "  <tbody>\n",
       "    <tr>\n",
       "      <th>64173</th>\n",
       "      <td>สวัสดีครับ คุณ บุญทอง บุญล้อม หากได้ทดลองใช้งา...</td>\n",
       "      <td>2016-06-09</td>\n",
       "      <td>AIS</td>\n",
       "    </tr>\n",
       "    <tr>\n",
       "      <th>74008</th>\n",
       "      <td>เฉลย : ศูนย์อาหาร ใครตอบถูกบ้างครับ ยกมือขึ้น</td>\n",
       "      <td>2016-08-15</td>\n",
       "      <td>AIS</td>\n",
       "    </tr>\n",
       "    <tr>\n",
       "      <th>76255</th>\n",
       "      <td>สวัสดีครับ จะรักแค่เธอ จะขอหยุดที่เธอ  สามารถแ...</td>\n",
       "      <td>2016-09-22</td>\n",
       "      <td>AIS</td>\n",
       "    </tr>\n",
       "    <tr>\n",
       "      <th>87704</th>\n",
       "      <td>AIS Facebook Fanpage ขอเรียนแจ้งหยุดกิจกรรม AI...</td>\n",
       "      <td>2016-10-14</td>\n",
       "      <td>AIS</td>\n",
       "    </tr>\n",
       "    <tr>\n",
       "      <th>101404</th>\n",
       "      <td>คำตอบคือ 9 ใครตอบถูกกันบ้าง บอกแอดมินหน่อยคร้า...</td>\n",
       "      <td>2017-03-03</td>\n",
       "      <td>AIS</td>\n",
       "    </tr>\n",
       "    <tr>\n",
       "      <th>110314</th>\n",
       "      <td>หมดเวลาร่วมสนุกแล้วนะคร้าบ กับกิจกรรม \"ครอบครั...</td>\n",
       "      <td>2017-04-19</td>\n",
       "      <td>AIS</td>\n",
       "    </tr>\n",
       "    <tr>\n",
       "      <th>122509</th>\n",
       "      <td>ประกาศรายชื่อวันที่ 14 มิถุนายน 2560 ผ่านทาง w...</td>\n",
       "      <td>2017-06-01</td>\n",
       "      <td>AIS</td>\n",
       "    </tr>\n",
       "  </tbody>\n",
       "</table>\n",
       "</div>"
      ],
      "text/plain": [
       "                                                  message created_date_format  \\\n",
       "64173   สวัสดีครับ คุณ บุญทอง บุญล้อม หากได้ทดลองใช้งา...          2016-06-09   \n",
       "74008       เฉลย : ศูนย์อาหาร ใครตอบถูกบ้างครับ ยกมือขึ้น          2016-08-15   \n",
       "76255   สวัสดีครับ จะรักแค่เธอ จะขอหยุดที่เธอ  สามารถแ...          2016-09-22   \n",
       "87704   AIS Facebook Fanpage ขอเรียนแจ้งหยุดกิจกรรม AI...          2016-10-14   \n",
       "101404  คำตอบคือ 9 ใครตอบถูกกันบ้าง บอกแอดมินหน่อยคร้า...          2017-03-03   \n",
       "110314  หมดเวลาร่วมสนุกแล้วนะคร้าบ กับกิจกรรม \"ครอบครั...          2017-04-19   \n",
       "122509  ประกาศรายชื่อวันที่ 14 มิถุนายน 2560 ผ่านทาง w...          2017-06-01   \n",
       "\n",
       "       service  \n",
       "64173      AIS  \n",
       "74008      AIS  \n",
       "76255      AIS  \n",
       "87704      AIS  \n",
       "101404     AIS  \n",
       "110314     AIS  \n",
       "122509     AIS  "
      ]
     },
     "execution_count": 28,
     "metadata": {},
     "output_type": "execute_result"
    },
    {
     "data": {
      "image/png": "[encoded data removed]",
      "text/plain": [
       "<matplotlib.figure.Figure at 0x21632ada908>"
      ]
     },
     "metadata": {},
     "output_type": "display_data"
    }
   ],
   "source": [
    "analyzeUserComment('AIS')"
   ]
  },
  {
   "cell_type": "code",
   "execution_count": 23,
   "metadata": {
    "collapsed": false
   },
   "outputs": [
    {
     "name": "stdout",
     "output_type": "stream",
     "text": [
      "dtac has 31 comments.\n",
      "Sample comment : \n"
     ]
    },
    {
     "data": {
      "text/html": [
       "<div>\n",
       "<table border=\"1\" class=\"dataframe\">\n",
       "  <thead>\n",
       "    <tr style=\"text-align: right;\">\n",
       "      <th></th>\n",
       "      <th>message</th>\n",
       "      <th>created_date_format</th>\n",
       "      <th>service</th>\n",
       "    </tr>\n",
       "  </thead>\n",
       "  <tbody>\n",
       "    <tr>\n",
       "      <th>12980</th>\n",
       "      <td>***ขณะนี้สิทธิ์ครบแล้วนะคะ***\\nดีแทคขอขอบคุณลู...</td>\n",
       "      <td>2016-08-12</td>\n",
       "      <td>DTAC</td>\n",
       "    </tr>\n",
       "    <tr>\n",
       "      <th>12946</th>\n",
       "      <td>***ขณะนี้สิทธิ์ครบแล้วนะคะ***\\nดีแทคขอขอบคุณลู...</td>\n",
       "      <td>2016-08-12</td>\n",
       "      <td>DTAC</td>\n",
       "    </tr>\n",
       "    <tr>\n",
       "      <th>25235</th>\n",
       "      <td>เลือกเบอร์สวยที่ใช่สำหรับคุณ เบอร์ตอง เบอร์เรี...</td>\n",
       "      <td>2016-11-25</td>\n",
       "      <td>DTAC</td>\n",
       "    </tr>\n",
       "    <tr>\n",
       "      <th>48787</th>\n",
       "      <td>ร่วมสนุกลุ้นรับตั๋วชมคอนเสิร์ต Billboard Cafe ...</td>\n",
       "      <td>2017-02-27</td>\n",
       "      <td>DTAC</td>\n",
       "    </tr>\n",
       "    <tr>\n",
       "      <th>59736</th>\n",
       "      <td>น้องฟ้าขอบคุณที่ใช้ดีแทคนะคะ\\r\\n\\n**8944**</td>\n",
       "      <td>2017-05-05</td>\n",
       "      <td>DTAC</td>\n",
       "    </tr>\n",
       "    <tr>\n",
       "      <th>63723</th>\n",
       "      <td>เกิดเหตุก่อการร้ายที่ลอนดอนค่ะ https://www.fac...</td>\n",
       "      <td>2017-06-04</td>\n",
       "      <td>DTAC</td>\n",
       "    </tr>\n",
       "    <tr>\n",
       "      <th>63265</th>\n",
       "      <td>น้องฟ้าได้ดูแลคุณ มิน ปิ้นป่อน ตามที่แจ้งปัญหา...</td>\n",
       "      <td>2017-06-05</td>\n",
       "      <td>DTAC</td>\n",
       "    </tr>\n",
       "  </tbody>\n",
       "</table>\n",
       "</div>"
      ],
      "text/plain": [
       "                                                 message created_date_format  \\\n",
       "12980  ***ขณะนี้สิทธิ์ครบแล้วนะคะ***\\nดีแทคขอขอบคุณลู...          2016-08-12   \n",
       "12946  ***ขณะนี้สิทธิ์ครบแล้วนะคะ***\\nดีแทคขอขอบคุณลู...          2016-08-12   \n",
       "25235  เลือกเบอร์สวยที่ใช่สำหรับคุณ เบอร์ตอง เบอร์เรี...          2016-11-25   \n",
       "48787  ร่วมสนุกลุ้นรับตั๋วชมคอนเสิร์ต Billboard Cafe ...          2017-02-27   \n",
       "59736         น้องฟ้าขอบคุณที่ใช้ดีแทคนะคะ\\r\\n\\n**8944**          2017-05-05   \n",
       "63723  เกิดเหตุก่อการร้ายที่ลอนดอนค่ะ https://www.fac...          2017-06-04   \n",
       "63265  น้องฟ้าได้ดูแลคุณ มิน ปิ้นป่อน ตามที่แจ้งปัญหา...          2017-06-05   \n",
       "\n",
       "      service  \n",
       "12980    DTAC  \n",
       "12946    DTAC  \n",
       "25235    DTAC  \n",
       "48787    DTAC  \n",
       "59736    DTAC  \n",
       "63723    DTAC  \n",
       "63265    DTAC  "
      ]
     },
     "execution_count": 23,
     "metadata": {},
     "output_type": "execute_result"
    },
    {
     "data": {
      "image/png": "[encoded data removed]",
      "text/plain": [
       "<matplotlib.figure.Figure at 0x21632b60c18>"
      ]
     },
     "metadata": {},
     "output_type": "display_data"
    }
   ],
   "source": [
    "analyzeUserComment('dtac')"
   ]
  },
  {
   "cell_type": "code",
   "execution_count": 26,
   "metadata": {
    "collapsed": false
   },
   "outputs": [
    {
     "name": "stdout",
     "output_type": "stream",
     "text": [
      "Joe KonTummada has 182 comments.\n",
      "Sample comment : \n"
     ]
    },
    {
     "data": {
      "text/html": [
       "<div>\n",
       "<table border=\"1\" class=\"dataframe\">\n",
       "  <thead>\n",
       "    <tr style=\"text-align: right;\">\n",
       "      <th></th>\n",
       "      <th>message</th>\n",
       "      <th>created_date_format</th>\n",
       "      <th>service</th>\n",
       "    </tr>\n",
       "  </thead>\n",
       "  <tbody>\n",
       "    <tr>\n",
       "      <th>139028</th>\n",
       "      <td>คุณจะบันทึกบทสนทนาระหว่างลูกค้ากับพนักงานคุณเพ...</td>\n",
       "      <td>2016-11-05</td>\n",
       "      <td>TRUE</td>\n",
       "    </tr>\n",
       "    <tr>\n",
       "      <th>139425</th>\n",
       "      <td>ทางเราต้องขอยืนยันว่าในเสียงสนทนาเจ้าหน้าที่ได...</td>\n",
       "      <td>2016-11-09</td>\n",
       "      <td>TRUE</td>\n",
       "    </tr>\n",
       "    <tr>\n",
       "      <th>141482</th>\n",
       "      <td>แบบนี้ก็คงยกเลิกก่อน   ได้คำตอบเมื่อไหร่หรือดี...</td>\n",
       "      <td>2016-11-21</td>\n",
       "      <td>TRUE</td>\n",
       "    </tr>\n",
       "    <tr>\n",
       "      <th>142198</th>\n",
       "      <td>ตอบมาไม่เคยตรงกับคำถาม  สัส</td>\n",
       "      <td>2016-11-28</td>\n",
       "      <td>TRUE</td>\n",
       "    </tr>\n",
       "    <tr>\n",
       "      <th>142594</th>\n",
       "      <td>ปัญหามีตั้งแต่ปลายเดือนที่แล้ว  คือเดือน10 เรื...</td>\n",
       "      <td>2016-11-30</td>\n",
       "      <td>TRUE</td>\n",
       "    </tr>\n",
       "    <tr>\n",
       "      <th>142298</th>\n",
       "      <td>ปัญหามีตั้งแต่ปลายเดือนที่แล้ว  เรื่องพนักงานบ...</td>\n",
       "      <td>2016-11-30</td>\n",
       "      <td>TRUE</td>\n",
       "    </tr>\n",
       "    <tr>\n",
       "      <th>143748</th>\n",
       "      <td>มันตอบกลับมาว่า  มีพนักงานติดต่อกลับละ   ติดต่...</td>\n",
       "      <td>2016-12-01</td>\n",
       "      <td>TRUE</td>\n",
       "    </tr>\n",
       "  </tbody>\n",
       "</table>\n",
       "</div>"
      ],
      "text/plain": [
       "                                                  message created_date_format  \\\n",
       "139028  คุณจะบันทึกบทสนทนาระหว่างลูกค้ากับพนักงานคุณเพ...          2016-11-05   \n",
       "139425  ทางเราต้องขอยืนยันว่าในเสียงสนทนาเจ้าหน้าที่ได...          2016-11-09   \n",
       "141482  แบบนี้ก็คงยกเลิกก่อน   ได้คำตอบเมื่อไหร่หรือดี...          2016-11-21   \n",
       "142198                        ตอบมาไม่เคยตรงกับคำถาม  สัส          2016-11-28   \n",
       "142594  ปัญหามีตั้งแต่ปลายเดือนที่แล้ว  คือเดือน10 เรื...          2016-11-30   \n",
       "142298  ปัญหามีตั้งแต่ปลายเดือนที่แล้ว  เรื่องพนักงานบ...          2016-11-30   \n",
       "143748  มันตอบกลับมาว่า  มีพนักงานติดต่อกลับละ   ติดต่...          2016-12-01   \n",
       "\n",
       "       service  \n",
       "139028    TRUE  \n",
       "139425    TRUE  \n",
       "141482    TRUE  \n",
       "142198    TRUE  \n",
       "142594    TRUE  \n",
       "142298    TRUE  \n",
       "143748    TRUE  "
      ]
     },
     "execution_count": 26,
     "metadata": {},
     "output_type": "execute_result"
    },
    {
     "data": {
      "image/png": "[encoded data removed]",
      "text/plain": [
       "<matplotlib.figure.Figure at 0x216332fc1d0>"
      ]
     },
     "metadata": {},
     "output_type": "display_data"
    }
   ],
   "source": [
    "analyzeUserComment('Joe KonTummada')"
   ]
  },
  {
   "cell_type": "code",
   "execution_count": 32,
   "metadata": {
    "collapsed": false,
    "scrolled": false
   },
   "outputs": [
    {
     "name": "stdout",
     "output_type": "stream",
     "text": [
      "ถุงเงิน แมวสีสวาท has 22 comments.\n",
      "Sample comment : \n"
     ]
    },
    {
     "data": {
      "text/html": [
       "<div>\n",
       "<table border=\"1\" class=\"dataframe\">\n",
       "  <thead>\n",
       "    <tr style=\"text-align: right;\">\n",
       "      <th></th>\n",
       "      <th>message</th>\n",
       "      <th>created_date_format</th>\n",
       "      <th>service</th>\n",
       "    </tr>\n",
       "  </thead>\n",
       "  <tbody>\n",
       "    <tr>\n",
       "      <th>30715</th>\n",
       "      <td>NaN</td>\n",
       "      <td>2016-12-24</td>\n",
       "      <td>DTAC</td>\n",
       "    </tr>\n",
       "    <tr>\n",
       "      <th>30710</th>\n",
       "      <td>NaN</td>\n",
       "      <td>2016-12-24</td>\n",
       "      <td>DTAC</td>\n",
       "    </tr>\n",
       "    <tr>\n",
       "      <th>30713</th>\n",
       "      <td>NaN</td>\n",
       "      <td>2016-12-24</td>\n",
       "      <td>DTAC</td>\n",
       "    </tr>\n",
       "    <tr>\n",
       "      <th>30714</th>\n",
       "      <td>NaN</td>\n",
       "      <td>2016-12-24</td>\n",
       "      <td>DTAC</td>\n",
       "    </tr>\n",
       "    <tr>\n",
       "      <th>31103</th>\n",
       "      <td>NaN</td>\n",
       "      <td>2016-12-24</td>\n",
       "      <td>DTAC</td>\n",
       "    </tr>\n",
       "    <tr>\n",
       "      <th>31106</th>\n",
       "      <td>NaN</td>\n",
       "      <td>2016-12-24</td>\n",
       "      <td>DTAC</td>\n",
       "    </tr>\n",
       "    <tr>\n",
       "      <th>30623</th>\n",
       "      <td>NaN</td>\n",
       "      <td>2016-12-24</td>\n",
       "      <td>DTAC</td>\n",
       "    </tr>\n",
       "  </tbody>\n",
       "</table>\n",
       "</div>"
      ],
      "text/plain": [
       "      message created_date_format service\n",
       "30715     NaN          2016-12-24    DTAC\n",
       "30710     NaN          2016-12-24    DTAC\n",
       "30713     NaN          2016-12-24    DTAC\n",
       "30714     NaN          2016-12-24    DTAC\n",
       "31103     NaN          2016-12-24    DTAC\n",
       "31106     NaN          2016-12-24    DTAC\n",
       "30623     NaN          2016-12-24    DTAC"
      ]
     },
     "execution_count": 32,
     "metadata": {},
     "output_type": "execute_result"
    },
    {
     "data": {
      "image/png": "[encoded data removed]",
      "text/plain": [
       "<matplotlib.figure.Figure at 0x23cd749b160>"
      ]
     },
     "metadata": {},
     "output_type": "display_data"
    }
   ],
   "source": [
    "#Randomly select one person to analyze\n",
    "sampleComment = commentDf['commenter_name'].value_counts().head(750).sample(1)\n",
    "analyzeUserComment(sampleComment.index[0])"
   ]
  },
  {
   "cell_type": "markdown",
   "metadata": {},
   "source": [
    "## Here is some interesting case found using the sampling function\n",
    "----"
   ]
  },
  {
   "cell_type": "code",
   "execution_count": 32,
   "metadata": {
    "collapsed": false
   },
   "outputs": [
    {
     "name": "stdout",
     "output_type": "stream",
     "text": [
      "Pattaraphong Sawadiruttana has 38 comments.\n",
      "Sample comment : \n"
     ]
    },
    {
     "data": {
      "text/html": [
       "<div>\n",
       "<table border=\"1\" class=\"dataframe\">\n",
       "  <thead>\n",
       "    <tr style=\"text-align: right;\">\n",
       "      <th></th>\n",
       "      <th>message</th>\n",
       "      <th>created_date_format</th>\n",
       "      <th>service</th>\n",
       "    </tr>\n",
       "  </thead>\n",
       "  <tbody>\n",
       "    <tr>\n",
       "      <th>137031</th>\n",
       "      <td>เติมเงิน หรือ รายเดือน เอาดีๆๆๆ คนอ่าน งง กันห...</td>\n",
       "      <td>2016-10-03</td>\n",
       "      <td>TRUE</td>\n",
       "    </tr>\n",
       "    <tr>\n",
       "      <th>38010</th>\n",
       "      <td>ลื่นจนสัญญาณแม่งลื่นหายเนตลื่นไปไหนหมดไม่รู้ 5555</td>\n",
       "      <td>2017-01-07</td>\n",
       "      <td>DTAC</td>\n",
       "    </tr>\n",
       "    <tr>\n",
       "      <th>150706</th>\n",
       "      <td>ปังมากโปรนี้ 😘</td>\n",
       "      <td>2017-01-17</td>\n",
       "      <td>TRUE</td>\n",
       "    </tr>\n",
       "    <tr>\n",
       "      <th>152186</th>\n",
       "      <td>เฮง เฮง ระบบรายเดือนมีไรพิเศษให้ลูกค้าบ้างครับ...</td>\n",
       "      <td>2017-01-27</td>\n",
       "      <td>TRUE</td>\n",
       "    </tr>\n",
       "    <tr>\n",
       "      <th>155939</th>\n",
       "      <td>ว่าจะสอย แต่เห็นสัญญา2ปี !!!!!!!!!</td>\n",
       "      <td>2017-02-25</td>\n",
       "      <td>TRUE</td>\n",
       "    </tr>\n",
       "    <tr>\n",
       "      <th>113345</th>\n",
       "      <td>เครื่อง oppo หมดอ่ะเสียดายจะย้ายค่ายสะหน่อย ที...</td>\n",
       "      <td>2017-04-21</td>\n",
       "      <td>AIS</td>\n",
       "    </tr>\n",
       "    <tr>\n",
       "      <th>169504</th>\n",
       "      <td>ทรูชอบมินิมีที่ไหนครับแอดมิน</td>\n",
       "      <td>2017-05-05</td>\n",
       "      <td>TRUE</td>\n",
       "    </tr>\n",
       "  </tbody>\n",
       "</table>\n",
       "</div>"
      ],
      "text/plain": [
       "                                                  message created_date_format  \\\n",
       "137031  เติมเงิน หรือ รายเดือน เอาดีๆๆๆ คนอ่าน งง กันห...          2016-10-03   \n",
       "38010   ลื่นจนสัญญาณแม่งลื่นหายเนตลื่นไปไหนหมดไม่รู้ 5555          2017-01-07   \n",
       "150706                                     ปังมากโปรนี้ 😘          2017-01-17   \n",
       "152186  เฮง เฮง ระบบรายเดือนมีไรพิเศษให้ลูกค้าบ้างครับ...          2017-01-27   \n",
       "155939                 ว่าจะสอย แต่เห็นสัญญา2ปี !!!!!!!!!          2017-02-25   \n",
       "113345  เครื่อง oppo หมดอ่ะเสียดายจะย้ายค่ายสะหน่อย ที...          2017-04-21   \n",
       "169504                       ทรูชอบมินิมีที่ไหนครับแอดมิน          2017-05-05   \n",
       "\n",
       "       service  \n",
       "137031    TRUE  \n",
       "38010     DTAC  \n",
       "150706    TRUE  \n",
       "152186    TRUE  \n",
       "155939    TRUE  \n",
       "113345     AIS  \n",
       "169504    TRUE  "
      ]
     },
     "execution_count": 32,
     "metadata": {},
     "output_type": "execute_result"
    },
    {
     "data": {
      "image/png": "[encoded data removed]",
      "text/plain": [
       "<matplotlib.figure.Figure at 0x21632a04240>"
      ]
     },
     "metadata": {},
     "output_type": "display_data"
    }
   ],
   "source": [
    "analyzeUserComment('Pattaraphong Sawadiruttana')"
   ]
  },
  {
   "cell_type": "code",
   "execution_count": 15,
   "metadata": {
    "collapsed": false
   },
   "outputs": [
    {
     "data": {
      "text/html": [
       "<div>\n",
       "<table border=\"1\" class=\"dataframe\">\n",
       "  <thead>\n",
       "    <tr style=\"text-align: right;\">\n",
       "      <th></th>\n",
       "      <th>commenter_name</th>\n",
       "      <th>created_time</th>\n",
       "      <th>like_count</th>\n",
       "      <th>message</th>\n",
       "      <th>service</th>\n",
       "      <th>created_date</th>\n",
       "      <th>created_date_format</th>\n",
       "    </tr>\n",
       "  </thead>\n",
       "  <tbody>\n",
       "    <tr>\n",
       "      <th>11253</th>\n",
       "      <td>Pattaraphong Sawadiruttana</td>\n",
       "      <td>2016-07-26 01:30:38</td>\n",
       "      <td>5.0</td>\n",
       "      <td>เจ๋งมากกกกกกก คอนเฟิร์ม!!! ฟรีๆๆๆๆค่าเนต ฟังเพ...</td>\n",
       "      <td>DTAC</td>\n",
       "      <td>2016-07-26 01:30:38</td>\n",
       "      <td>2016-07-26</td>\n",
       "    </tr>\n",
       "    <tr>\n",
       "      <th>11334</th>\n",
       "      <td>Pattaraphong Sawadiruttana</td>\n",
       "      <td>2016-07-27 04:24:07</td>\n",
       "      <td>4.0</td>\n",
       "      <td>กำลังย้ายค่ายเบอร์เดิมไปดีแทครายเดือนแล้วนะ เน...</td>\n",
       "      <td>DTAC</td>\n",
       "      <td>2016-07-27 04:24:07</td>\n",
       "      <td>2016-07-27</td>\n",
       "    </tr>\n",
       "    <tr>\n",
       "      <th>12310</th>\n",
       "      <td>Pattaraphong Sawadiruttana</td>\n",
       "      <td>2016-08-08 11:12:33</td>\n",
       "      <td>3.0</td>\n",
       "      <td>เนตไม่ค่อยดีเลยอ่ะ ขึ้น R ตลอด ทั้งที่ทำงานและ...</td>\n",
       "      <td>DTAC</td>\n",
       "      <td>2016-08-08 11:12:33</td>\n",
       "      <td>2016-08-08</td>\n",
       "    </tr>\n",
       "    <tr>\n",
       "      <th>134320</th>\n",
       "      <td>Pattaraphong Sawadiruttana</td>\n",
       "      <td>2016-08-31 11:38:14</td>\n",
       "      <td>0.0</td>\n",
       "      <td>เจ้าอื่นๆเค้าเม็กล่ะกี่บาทใครรู้บ้าง</td>\n",
       "      <td>TRUE</td>\n",
       "      <td>2016-08-31 11:38:14</td>\n",
       "      <td>2016-08-31</td>\n",
       "    </tr>\n",
       "    <tr>\n",
       "      <th>135847</th>\n",
       "      <td>Pattaraphong Sawadiruttana</td>\n",
       "      <td>2016-09-03 06:01:16</td>\n",
       "      <td>0.0</td>\n",
       "      <td>ลดสีเดียว สีอื่นๆล่ะ</td>\n",
       "      <td>TRUE</td>\n",
       "      <td>2016-09-03 06:01:16</td>\n",
       "      <td>2016-09-03</td>\n",
       "    </tr>\n",
       "    <tr>\n",
       "      <th>136845</th>\n",
       "      <td>Pattaraphong Sawadiruttana</td>\n",
       "      <td>2016-09-17 05:56:37</td>\n",
       "      <td>0.0</td>\n",
       "      <td>ชื่นชมครับ คนปกติอย่างเราๆบางคนยังทำไม่ได้อย่า...</td>\n",
       "      <td>TRUE</td>\n",
       "      <td>2016-09-17 05:56:37</td>\n",
       "      <td>2016-09-17</td>\n",
       "    </tr>\n",
       "    <tr>\n",
       "      <th>137031</th>\n",
       "      <td>Pattaraphong Sawadiruttana</td>\n",
       "      <td>2016-10-03 06:06:31</td>\n",
       "      <td>0.0</td>\n",
       "      <td>เติมเงิน หรือ รายเดือน เอาดีๆๆๆ คนอ่าน งง กันห...</td>\n",
       "      <td>TRUE</td>\n",
       "      <td>2016-10-03 06:06:31</td>\n",
       "      <td>2016-10-03</td>\n",
       "    </tr>\n",
       "    <tr>\n",
       "      <th>20413</th>\n",
       "      <td>Pattaraphong Sawadiruttana</td>\n",
       "      <td>2016-11-08 03:22:22</td>\n",
       "      <td>2.0</td>\n",
       "      <td>แปลกใจทำมัยดีแทคโพสต์ทุกครั้งมีแต่ลูกค้ามาด่า ...</td>\n",
       "      <td>DTAC</td>\n",
       "      <td>2016-11-08 03:22:22</td>\n",
       "      <td>2016-11-08</td>\n",
       "    </tr>\n",
       "    <tr>\n",
       "      <th>20570</th>\n",
       "      <td>Pattaraphong Sawadiruttana</td>\n",
       "      <td>2016-11-09 00:38:57</td>\n",
       "      <td>3.0</td>\n",
       "      <td>ตอนแรกจะย้ายค่ายจากทรูไปดีแทค สรุปกูไม่ไปล่ะ อ...</td>\n",
       "      <td>DTAC</td>\n",
       "      <td>2016-11-09 00:38:57</td>\n",
       "      <td>2016-11-09</td>\n",
       "    </tr>\n",
       "    <tr>\n",
       "      <th>142971</th>\n",
       "      <td>Pattaraphong Sawadiruttana</td>\n",
       "      <td>2016-12-07 03:41:48</td>\n",
       "      <td>0.0</td>\n",
       "      <td>Lenovo กับ oppo อันไหนดีกว่า</td>\n",
       "      <td>TRUE</td>\n",
       "      <td>2016-12-07 03:41:48</td>\n",
       "      <td>2016-12-07</td>\n",
       "    </tr>\n",
       "  </tbody>\n",
       "</table>\n",
       "</div>"
      ],
      "text/plain": [
       "                    commenter_name         created_time  like_count  \\\n",
       "11253   Pattaraphong Sawadiruttana  2016-07-26 01:30:38         5.0   \n",
       "11334   Pattaraphong Sawadiruttana  2016-07-27 04:24:07         4.0   \n",
       "12310   Pattaraphong Sawadiruttana  2016-08-08 11:12:33         3.0   \n",
       "134320  Pattaraphong Sawadiruttana  2016-08-31 11:38:14         0.0   \n",
       "135847  Pattaraphong Sawadiruttana  2016-09-03 06:01:16         0.0   \n",
       "136845  Pattaraphong Sawadiruttana  2016-09-17 05:56:37         0.0   \n",
       "137031  Pattaraphong Sawadiruttana  2016-10-03 06:06:31         0.0   \n",
       "20413   Pattaraphong Sawadiruttana  2016-11-08 03:22:22         2.0   \n",
       "20570   Pattaraphong Sawadiruttana  2016-11-09 00:38:57         3.0   \n",
       "142971  Pattaraphong Sawadiruttana  2016-12-07 03:41:48         0.0   \n",
       "\n",
       "                                                  message service  \\\n",
       "11253   เจ๋งมากกกกกกก คอนเฟิร์ม!!! ฟรีๆๆๆๆค่าเนต ฟังเพ...    DTAC   \n",
       "11334   กำลังย้ายค่ายเบอร์เดิมไปดีแทครายเดือนแล้วนะ เน...    DTAC   \n",
       "12310   เนตไม่ค่อยดีเลยอ่ะ ขึ้น R ตลอด ทั้งที่ทำงานและ...    DTAC   \n",
       "134320               เจ้าอื่นๆเค้าเม็กล่ะกี่บาทใครรู้บ้าง    TRUE   \n",
       "135847                               ลดสีเดียว สีอื่นๆล่ะ    TRUE   \n",
       "136845  ชื่นชมครับ คนปกติอย่างเราๆบางคนยังทำไม่ได้อย่า...    TRUE   \n",
       "137031  เติมเงิน หรือ รายเดือน เอาดีๆๆๆ คนอ่าน งง กันห...    TRUE   \n",
       "20413   แปลกใจทำมัยดีแทคโพสต์ทุกครั้งมีแต่ลูกค้ามาด่า ...    DTAC   \n",
       "20570   ตอนแรกจะย้ายค่ายจากทรูไปดีแทค สรุปกูไม่ไปล่ะ อ...    DTAC   \n",
       "142971                       Lenovo กับ oppo อันไหนดีกว่า    TRUE   \n",
       "\n",
       "              created_date created_date_format  \n",
       "11253  2016-07-26 01:30:38          2016-07-26  \n",
       "11334  2016-07-27 04:24:07          2016-07-27  \n",
       "12310  2016-08-08 11:12:33          2016-08-08  \n",
       "134320 2016-08-31 11:38:14          2016-08-31  \n",
       "135847 2016-09-03 06:01:16          2016-09-03  \n",
       "136845 2016-09-17 05:56:37          2016-09-17  \n",
       "137031 2016-10-03 06:06:31          2016-10-03  \n",
       "20413  2016-11-08 03:22:22          2016-11-08  \n",
       "20570  2016-11-09 00:38:57          2016-11-09  \n",
       "142971 2016-12-07 03:41:48          2016-12-07  "
      ]
     },
     "execution_count": 15,
     "metadata": {},
     "output_type": "execute_result"
    }
   ],
   "source": [
    "commentDf[commentDf['commenter_name']=='Pattaraphong Sawadiruttana'].sort_values('created_date').head(10)"
   ]
  },
  {
   "cell_type": "markdown",
   "metadata": {},
   "source": [
    "He was first using AIS. Then he is considering to switch to Dtac, but later change his mind and go to True.\n",
    "\n",
    "------------------\n"
   ]
  },
  {
   "cell_type": "code",
   "execution_count": 33,
   "metadata": {
    "collapsed": false,
    "scrolled": true
   },
   "outputs": [
    {
     "name": "stdout",
     "output_type": "stream",
     "text": [
      "กุญแจชีวิต เข็มทิศหัวใจ has 10 comments.\n",
      "Sample comment : \n"
     ]
    },
    {
     "data": {
      "text/html": [
       "<div>\n",
       "<table border=\"1\" class=\"dataframe\">\n",
       "  <thead>\n",
       "    <tr style=\"text-align: right;\">\n",
       "      <th></th>\n",
       "      <th>message</th>\n",
       "      <th>created_date_format</th>\n",
       "      <th>service</th>\n",
       "    </tr>\n",
       "  </thead>\n",
       "  <tbody>\n",
       "    <tr>\n",
       "      <th>7284</th>\n",
       "      <td>แอดคัฟรบกวนตอบด้วย คือสมัครเน็ตรายเดือน399ไปตั...</td>\n",
       "      <td>2016-07-05</td>\n",
       "      <td>DTAC</td>\n",
       "    </tr>\n",
       "    <tr>\n",
       "      <th>7308</th>\n",
       "      <td>แอดทำไมใช้รายเดือนเน็ต399เมื่อวันที่่ 25มิถุนา...</td>\n",
       "      <td>2016-07-05</td>\n",
       "      <td>DTAC</td>\n",
       "    </tr>\n",
       "    <tr>\n",
       "      <th>9961</th>\n",
       "      <td>คือไม่รุ้กุจะสมัครเนตรายเดือนเพื่อไร399เล่นห่า...</td>\n",
       "      <td>2016-07-15</td>\n",
       "      <td>DTAC</td>\n",
       "    </tr>\n",
       "    <tr>\n",
       "      <th>11907</th>\n",
       "      <td>ไอ้แอดเอาไงวะส่งแชทไปถามก็ไม่ตอบหลายวันแล้วนะต...</td>\n",
       "      <td>2016-08-03</td>\n",
       "      <td>DTAC</td>\n",
       "    </tr>\n",
       "    <tr>\n",
       "      <th>23751</th>\n",
       "      <td>ไม่เอาแล้วห่วยแตกสิ้นดีสัสซื้อS1มายังไม่ถึงเดื...</td>\n",
       "      <td>2016-11-21</td>\n",
       "      <td>DTAC</td>\n",
       "    </tr>\n",
       "    <tr>\n",
       "      <th>36445</th>\n",
       "      <td>ไม่ต้องรอถึงปีหรอกสัสเพิ่งซื้อมาไม่ถึงเดือนทั้...</td>\n",
       "      <td>2016-12-29</td>\n",
       "      <td>DTAC</td>\n",
       "    </tr>\n",
       "    <tr>\n",
       "      <th>97222</th>\n",
       "      <td>A</td>\n",
       "      <td>2017-01-31</td>\n",
       "      <td>AIS</td>\n",
       "    </tr>\n",
       "  </tbody>\n",
       "</table>\n",
       "</div>"
      ],
      "text/plain": [
       "                                                 message created_date_format  \\\n",
       "7284   แอดคัฟรบกวนตอบด้วย คือสมัครเน็ตรายเดือน399ไปตั...          2016-07-05   \n",
       "7308   แอดทำไมใช้รายเดือนเน็ต399เมื่อวันที่่ 25มิถุนา...          2016-07-05   \n",
       "9961   คือไม่รุ้กุจะสมัครเนตรายเดือนเพื่อไร399เล่นห่า...          2016-07-15   \n",
       "11907  ไอ้แอดเอาไงวะส่งแชทไปถามก็ไม่ตอบหลายวันแล้วนะต...          2016-08-03   \n",
       "23751  ไม่เอาแล้วห่วยแตกสิ้นดีสัสซื้อS1มายังไม่ถึงเดื...          2016-11-21   \n",
       "36445  ไม่ต้องรอถึงปีหรอกสัสเพิ่งซื้อมาไม่ถึงเดือนทั้...          2016-12-29   \n",
       "97222                                                  A          2017-01-31   \n",
       "\n",
       "      service  \n",
       "7284     DTAC  \n",
       "7308     DTAC  \n",
       "9961     DTAC  \n",
       "11907    DTAC  \n",
       "23751    DTAC  \n",
       "36445    DTAC  \n",
       "97222     AIS  "
      ]
     },
     "execution_count": 33,
     "metadata": {},
     "output_type": "execute_result"
    },
    {
     "data": {
      "image/png": "[encoded data removed]",
      "text/plain": [
       "<matplotlib.figure.Figure at 0x216332feb70>"
      ]
     },
     "metadata": {},
     "output_type": "display_data"
    }
   ],
   "source": [
    "analyzeUserComment('กุญแจชีวิต เข็มทิศหัวใจ')"
   ]
  },
  {
   "cell_type": "markdown",
   "metadata": {},
   "source": [
    "## He is not happy with dtac facbook admin.\n",
    "------------"
   ]
  },
  {
   "cell_type": "code",
   "execution_count": 17,
   "metadata": {
    "collapsed": false
   },
   "outputs": [
    {
     "data": {
      "text/html": [
       "<div>\n",
       "<table border=\"1\" class=\"dataframe\">\n",
       "  <thead>\n",
       "    <tr style=\"text-align: right;\">\n",
       "      <th></th>\n",
       "      <th>commenter_name</th>\n",
       "      <th>created_time</th>\n",
       "      <th>like_count</th>\n",
       "      <th>message</th>\n",
       "      <th>service</th>\n",
       "      <th>created_date</th>\n",
       "      <th>created_date_format</th>\n",
       "    </tr>\n",
       "  </thead>\n",
       "  <tbody>\n",
       "    <tr>\n",
       "      <th>7308</th>\n",
       "      <td>กุญแจชีวิต เข็มทิศหัวใจ</td>\n",
       "      <td>2016-07-05 05:02:28</td>\n",
       "      <td>0.0</td>\n",
       "      <td>แอดทำไมใช้รายเดือนเน็ต399เมื่อวันที่่ 25มิถุนา...</td>\n",
       "      <td>DTAC</td>\n",
       "      <td>2016-07-05 05:02:28</td>\n",
       "      <td>2016-07-05</td>\n",
       "    </tr>\n",
       "    <tr>\n",
       "      <th>7284</th>\n",
       "      <td>กุญแจชีวิต เข็มทิศหัวใจ</td>\n",
       "      <td>2016-07-05 08:16:14</td>\n",
       "      <td>0.0</td>\n",
       "      <td>แอดคัฟรบกวนตอบด้วย คือสมัครเน็ตรายเดือน399ไปตั...</td>\n",
       "      <td>DTAC</td>\n",
       "      <td>2016-07-05 08:16:14</td>\n",
       "      <td>2016-07-05</td>\n",
       "    </tr>\n",
       "    <tr>\n",
       "      <th>9961</th>\n",
       "      <td>กุญแจชีวิต เข็มทิศหัวใจ</td>\n",
       "      <td>2016-07-15 05:24:24</td>\n",
       "      <td>6.0</td>\n",
       "      <td>คือไม่รุ้กุจะสมัครเนตรายเดือนเพื่อไร399เล่นห่า...</td>\n",
       "      <td>DTAC</td>\n",
       "      <td>2016-07-15 05:24:24</td>\n",
       "      <td>2016-07-15</td>\n",
       "    </tr>\n",
       "    <tr>\n",
       "      <th>11784</th>\n",
       "      <td>กุญแจชีวิต เข็มทิศหัวใจ</td>\n",
       "      <td>2016-08-01 17:12:49</td>\n",
       "      <td>0.0</td>\n",
       "      <td>เหี้ยเถอะกูส่งแชทไปถาม2วันแหละไม่ตอบเอาไงวะกูต...</td>\n",
       "      <td>DTAC</td>\n",
       "      <td>2016-08-01 17:12:49</td>\n",
       "      <td>2016-08-01</td>\n",
       "    </tr>\n",
       "    <tr>\n",
       "      <th>11907</th>\n",
       "      <td>กุญแจชีวิต เข็มทิศหัวใจ</td>\n",
       "      <td>2016-08-03 13:00:25</td>\n",
       "      <td>0.0</td>\n",
       "      <td>ไอ้แอดเอาไงวะส่งแชทไปถามก็ไม่ตอบหลายวันแล้วนะต...</td>\n",
       "      <td>DTAC</td>\n",
       "      <td>2016-08-03 13:00:25</td>\n",
       "      <td>2016-08-03</td>\n",
       "    </tr>\n",
       "    <tr>\n",
       "      <th>13586</th>\n",
       "      <td>กุญแจชีวิต เข็มทิศหัวใจ</td>\n",
       "      <td>2016-08-21 15:35:30</td>\n",
       "      <td>1.0</td>\n",
       "      <td>เน็ตดีแทคกากมากขนาดใช้รายเดือนนะ</td>\n",
       "      <td>DTAC</td>\n",
       "      <td>2016-08-21 15:35:30</td>\n",
       "      <td>2016-08-21</td>\n",
       "    </tr>\n",
       "    <tr>\n",
       "      <th>23751</th>\n",
       "      <td>กุญแจชีวิต เข็มทิศหัวใจ</td>\n",
       "      <td>2016-11-21 15:55:59</td>\n",
       "      <td>0.0</td>\n",
       "      <td>ไม่เอาแล้วห่วยแตกสิ้นดีสัสซื้อS1มายังไม่ถึงเดื...</td>\n",
       "      <td>DTAC</td>\n",
       "      <td>2016-11-21 15:55:59</td>\n",
       "      <td>2016-11-21</td>\n",
       "    </tr>\n",
       "    <tr>\n",
       "      <th>36445</th>\n",
       "      <td>กุญแจชีวิต เข็มทิศหัวใจ</td>\n",
       "      <td>2016-12-29 10:06:01</td>\n",
       "      <td>1.0</td>\n",
       "      <td>ไม่ต้องรอถึงปีหรอกสัสเพิ่งซื้อมาไม่ถึงเดือนทั้...</td>\n",
       "      <td>DTAC</td>\n",
       "      <td>2016-12-29 10:06:01</td>\n",
       "      <td>2016-12-29</td>\n",
       "    </tr>\n",
       "    <tr>\n",
       "      <th>97222</th>\n",
       "      <td>กุญแจชีวิต เข็มทิศหัวใจ</td>\n",
       "      <td>2017-01-31 10:02:31</td>\n",
       "      <td>0.0</td>\n",
       "      <td>A</td>\n",
       "      <td>AIS</td>\n",
       "      <td>2017-01-31 10:02:31</td>\n",
       "      <td>2017-01-31</td>\n",
       "    </tr>\n",
       "    <tr>\n",
       "      <th>97193</th>\n",
       "      <td>กุญแจชีวิต เข็มทิศหัวใจ</td>\n",
       "      <td>2017-02-03 09:09:18</td>\n",
       "      <td>0.0</td>\n",
       "      <td>A</td>\n",
       "      <td>AIS</td>\n",
       "      <td>2017-02-03 09:09:18</td>\n",
       "      <td>2017-02-03</td>\n",
       "    </tr>\n",
       "  </tbody>\n",
       "</table>\n",
       "</div>"
      ],
      "text/plain": [
       "                commenter_name         created_time  like_count  \\\n",
       "7308   กุญแจชีวิต เข็มทิศหัวใจ  2016-07-05 05:02:28         0.0   \n",
       "7284   กุญแจชีวิต เข็มทิศหัวใจ  2016-07-05 08:16:14         0.0   \n",
       "9961   กุญแจชีวิต เข็มทิศหัวใจ  2016-07-15 05:24:24         6.0   \n",
       "11784  กุญแจชีวิต เข็มทิศหัวใจ  2016-08-01 17:12:49         0.0   \n",
       "11907  กุญแจชีวิต เข็มทิศหัวใจ  2016-08-03 13:00:25         0.0   \n",
       "13586  กุญแจชีวิต เข็มทิศหัวใจ  2016-08-21 15:35:30         1.0   \n",
       "23751  กุญแจชีวิต เข็มทิศหัวใจ  2016-11-21 15:55:59         0.0   \n",
       "36445  กุญแจชีวิต เข็มทิศหัวใจ  2016-12-29 10:06:01         1.0   \n",
       "97222  กุญแจชีวิต เข็มทิศหัวใจ  2017-01-31 10:02:31         0.0   \n",
       "97193  กุญแจชีวิต เข็มทิศหัวใจ  2017-02-03 09:09:18         0.0   \n",
       "\n",
       "                                                 message service  \\\n",
       "7308   แอดทำไมใช้รายเดือนเน็ต399เมื่อวันที่่ 25มิถุนา...    DTAC   \n",
       "7284   แอดคัฟรบกวนตอบด้วย คือสมัครเน็ตรายเดือน399ไปตั...    DTAC   \n",
       "9961   คือไม่รุ้กุจะสมัครเนตรายเดือนเพื่อไร399เล่นห่า...    DTAC   \n",
       "11784  เหี้ยเถอะกูส่งแชทไปถาม2วันแหละไม่ตอบเอาไงวะกูต...    DTAC   \n",
       "11907  ไอ้แอดเอาไงวะส่งแชทไปถามก็ไม่ตอบหลายวันแล้วนะต...    DTAC   \n",
       "13586                   เน็ตดีแทคกากมากขนาดใช้รายเดือนนะ    DTAC   \n",
       "23751  ไม่เอาแล้วห่วยแตกสิ้นดีสัสซื้อS1มายังไม่ถึงเดื...    DTAC   \n",
       "36445  ไม่ต้องรอถึงปีหรอกสัสเพิ่งซื้อมาไม่ถึงเดือนทั้...    DTAC   \n",
       "97222                                                  A     AIS   \n",
       "97193                                                  A     AIS   \n",
       "\n",
       "             created_date created_date_format  \n",
       "7308  2016-07-05 05:02:28          2016-07-05  \n",
       "7284  2016-07-05 08:16:14          2016-07-05  \n",
       "9961  2016-07-15 05:24:24          2016-07-15  \n",
       "11784 2016-08-01 17:12:49          2016-08-01  \n",
       "11907 2016-08-03 13:00:25          2016-08-03  \n",
       "13586 2016-08-21 15:35:30          2016-08-21  \n",
       "23751 2016-11-21 15:55:59          2016-11-21  \n",
       "36445 2016-12-29 10:06:01          2016-12-29  \n",
       "97222 2017-01-31 10:02:31          2017-01-31  \n",
       "97193 2017-02-03 09:09:18          2017-02-03  "
      ]
     },
     "execution_count": 17,
     "metadata": {},
     "output_type": "execute_result"
    }
   ],
   "source": [
    "commentDf[commentDf['commenter_name']=='กุญแจชีวิต เข็มทิศหัวใจ'].sort_values('created_date')"
   ]
  },
  {
   "cell_type": "markdown",
   "metadata": {},
   "source": [
    "## Here he is complaining about bad signal. If we have social media listener, we might prevent these group of customer from leaving.\n",
    "------------"
   ]
  },
  {
   "cell_type": "code",
   "execution_count": 18,
   "metadata": {
    "collapsed": false
   },
   "outputs": [
    {
     "data": {
      "text/html": [
       "<div>\n",
       "<table border=\"1\" class=\"dataframe\">\n",
       "  <thead>\n",
       "    <tr style=\"text-align: right;\">\n",
       "      <th></th>\n",
       "      <th>commenter_name</th>\n",
       "      <th>created_time</th>\n",
       "      <th>like_count</th>\n",
       "      <th>message</th>\n",
       "      <th>service</th>\n",
       "      <th>created_date</th>\n",
       "      <th>created_date_format</th>\n",
       "    </tr>\n",
       "  </thead>\n",
       "  <tbody>\n",
       "    <tr>\n",
       "      <th>58320</th>\n",
       "      <td>Tanawat Setthakorn</td>\n",
       "      <td>2017-04-22 18:26:53</td>\n",
       "      <td>0.0</td>\n",
       "      <td>ทำไมมันเนตช้ามากเลยอะครับ ตอนนี้ผมใช้โปร 1299 ...</td>\n",
       "      <td>DTAC</td>\n",
       "      <td>2017-04-22 18:26:53</td>\n",
       "      <td>2017-04-22</td>\n",
       "    </tr>\n",
       "    <tr>\n",
       "      <th>58325</th>\n",
       "      <td>Tanawat Setthakorn</td>\n",
       "      <td>2017-04-23 02:35:36</td>\n",
       "      <td>0.0</td>\n",
       "      <td>ช่วยมาตอบผมหน่อยครับ</td>\n",
       "      <td>DTAC</td>\n",
       "      <td>2017-04-23 02:35:36</td>\n",
       "      <td>2017-04-23</td>\n",
       "    </tr>\n",
       "    <tr>\n",
       "      <th>58506</th>\n",
       "      <td>Tanawat Setthakorn</td>\n",
       "      <td>2017-04-23 02:36:02</td>\n",
       "      <td>0.0</td>\n",
       "      <td>ผมจ่ายไม่ใช่ถูกๆนะครับ 1299!!!</td>\n",
       "      <td>DTAC</td>\n",
       "      <td>2017-04-23 02:36:02</td>\n",
       "      <td>2017-04-23</td>\n",
       "    </tr>\n",
       "    <tr>\n",
       "      <th>58370</th>\n",
       "      <td>Tanawat Setthakorn</td>\n",
       "      <td>2017-04-23 02:36:34</td>\n",
       "      <td>0.0</td>\n",
       "      <td>ไม่งั้นย้ายค่ายแน่!!</td>\n",
       "      <td>DTAC</td>\n",
       "      <td>2017-04-23 02:36:34</td>\n",
       "      <td>2017-04-23</td>\n",
       "    </tr>\n",
       "    <tr>\n",
       "      <th>58671</th>\n",
       "      <td>Tanawat Setthakorn</td>\n",
       "      <td>2017-04-23 04:32:51</td>\n",
       "      <td>4.0</td>\n",
       "      <td>ทำไมอะ ผมอุตส่าห์ย้ายค่ายมาหาคุณ แต่คุณทำกับผม...</td>\n",
       "      <td>DTAC</td>\n",
       "      <td>2017-04-23 04:32:51</td>\n",
       "      <td>2017-04-23</td>\n",
       "    </tr>\n",
       "    <tr>\n",
       "      <th>58426</th>\n",
       "      <td>Tanawat Setthakorn</td>\n",
       "      <td>2017-04-23 04:33:12</td>\n",
       "      <td>1.0</td>\n",
       "      <td>ทำไมอะ ผมอุตส่าห์ย้ายค่ายมาหาคุณ แต่คุณทำกับผม...</td>\n",
       "      <td>DTAC</td>\n",
       "      <td>2017-04-23 04:33:12</td>\n",
       "      <td>2017-04-23</td>\n",
       "    </tr>\n",
       "    <tr>\n",
       "      <th>58499</th>\n",
       "      <td>Tanawat Setthakorn</td>\n",
       "      <td>2017-04-23 04:33:26</td>\n",
       "      <td>0.0</td>\n",
       "      <td>ทำไมอะ ผมอุตส่าห์ย้ายค่ายมาหาคุณ แต่คุณทำกับผม...</td>\n",
       "      <td>DTAC</td>\n",
       "      <td>2017-04-23 04:33:26</td>\n",
       "      <td>2017-04-23</td>\n",
       "    </tr>\n",
       "    <tr>\n",
       "      <th>58402</th>\n",
       "      <td>Tanawat Setthakorn</td>\n",
       "      <td>2017-04-23 04:33:43</td>\n",
       "      <td>0.0</td>\n",
       "      <td>ทำไมอะ ผมอุตส่าห์ย้ายค่ายมาหาคุณ แต่คุณทำกับผม...</td>\n",
       "      <td>DTAC</td>\n",
       "      <td>2017-04-23 04:33:43</td>\n",
       "      <td>2017-04-23</td>\n",
       "    </tr>\n",
       "    <tr>\n",
       "      <th>58087</th>\n",
       "      <td>Tanawat Setthakorn</td>\n",
       "      <td>2017-04-23 04:34:07</td>\n",
       "      <td>1.0</td>\n",
       "      <td>ทำไมอะ ผมอุตส่าห์ย้ายค่ายมาหาคุณ แต่คุณทำกับผม...</td>\n",
       "      <td>DTAC</td>\n",
       "      <td>2017-04-23 04:34:07</td>\n",
       "      <td>2017-04-23</td>\n",
       "    </tr>\n",
       "    <tr>\n",
       "      <th>58037</th>\n",
       "      <td>Tanawat Setthakorn</td>\n",
       "      <td>2017-04-23 04:34:32</td>\n",
       "      <td>0.0</td>\n",
       "      <td>ทำไมอะ ผมอุตส่าห์ย้ายค่ายมาหาคุณ แต่คุณทำกับผม...</td>\n",
       "      <td>DTAC</td>\n",
       "      <td>2017-04-23 04:34:32</td>\n",
       "      <td>2017-04-23</td>\n",
       "    </tr>\n",
       "    <tr>\n",
       "      <th>57672</th>\n",
       "      <td>Tanawat Setthakorn</td>\n",
       "      <td>2017-04-23 04:34:54</td>\n",
       "      <td>0.0</td>\n",
       "      <td>ทำไมอะ ผมอุตส่าห์ย้ายค่ายมาหาคุณ แต่คุณทำกับผม...</td>\n",
       "      <td>DTAC</td>\n",
       "      <td>2017-04-23 04:34:54</td>\n",
       "      <td>2017-04-23</td>\n",
       "    </tr>\n",
       "  </tbody>\n",
       "</table>\n",
       "</div>"
      ],
      "text/plain": [
       "           commenter_name         created_time  like_count  \\\n",
       "58320  Tanawat Setthakorn  2017-04-22 18:26:53         0.0   \n",
       "58325  Tanawat Setthakorn  2017-04-23 02:35:36         0.0   \n",
       "58506  Tanawat Setthakorn  2017-04-23 02:36:02         0.0   \n",
       "58370  Tanawat Setthakorn  2017-04-23 02:36:34         0.0   \n",
       "58671  Tanawat Setthakorn  2017-04-23 04:32:51         4.0   \n",
       "58426  Tanawat Setthakorn  2017-04-23 04:33:12         1.0   \n",
       "58499  Tanawat Setthakorn  2017-04-23 04:33:26         0.0   \n",
       "58402  Tanawat Setthakorn  2017-04-23 04:33:43         0.0   \n",
       "58087  Tanawat Setthakorn  2017-04-23 04:34:07         1.0   \n",
       "58037  Tanawat Setthakorn  2017-04-23 04:34:32         0.0   \n",
       "57672  Tanawat Setthakorn  2017-04-23 04:34:54         0.0   \n",
       "\n",
       "                                                 message service  \\\n",
       "58320  ทำไมมันเนตช้ามากเลยอะครับ ตอนนี้ผมใช้โปร 1299 ...    DTAC   \n",
       "58325                               ช่วยมาตอบผมหน่อยครับ    DTAC   \n",
       "58506                     ผมจ่ายไม่ใช่ถูกๆนะครับ 1299!!!    DTAC   \n",
       "58370                               ไม่งั้นย้ายค่ายแน่!!    DTAC   \n",
       "58671  ทำไมอะ ผมอุตส่าห์ย้ายค่ายมาหาคุณ แต่คุณทำกับผม...    DTAC   \n",
       "58426  ทำไมอะ ผมอุตส่าห์ย้ายค่ายมาหาคุณ แต่คุณทำกับผม...    DTAC   \n",
       "58499  ทำไมอะ ผมอุตส่าห์ย้ายค่ายมาหาคุณ แต่คุณทำกับผม...    DTAC   \n",
       "58402  ทำไมอะ ผมอุตส่าห์ย้ายค่ายมาหาคุณ แต่คุณทำกับผม...    DTAC   \n",
       "58087  ทำไมอะ ผมอุตส่าห์ย้ายค่ายมาหาคุณ แต่คุณทำกับผม...    DTAC   \n",
       "58037  ทำไมอะ ผมอุตส่าห์ย้ายค่ายมาหาคุณ แต่คุณทำกับผม...    DTAC   \n",
       "57672  ทำไมอะ ผมอุตส่าห์ย้ายค่ายมาหาคุณ แต่คุณทำกับผม...    DTAC   \n",
       "\n",
       "             created_date created_date_format  \n",
       "58320 2017-04-22 18:26:53          2017-04-22  \n",
       "58325 2017-04-23 02:35:36          2017-04-23  \n",
       "58506 2017-04-23 02:36:02          2017-04-23  \n",
       "58370 2017-04-23 02:36:34          2017-04-23  \n",
       "58671 2017-04-23 04:32:51          2017-04-23  \n",
       "58426 2017-04-23 04:33:12          2017-04-23  \n",
       "58499 2017-04-23 04:33:26          2017-04-23  \n",
       "58402 2017-04-23 04:33:43          2017-04-23  \n",
       "58087 2017-04-23 04:34:07          2017-04-23  \n",
       "58037 2017-04-23 04:34:32          2017-04-23  \n",
       "57672 2017-04-23 04:34:54          2017-04-23  "
      ]
     },
     "execution_count": 18,
     "metadata": {},
     "output_type": "execute_result"
    }
   ],
   "source": [
    "commentDf[commentDf['commenter_name']=='Tanawat Setthakorn'].sort_values('created_date')"
   ]
  },
  {
   "cell_type": "code",
   "execution_count": 19,
   "metadata": {
    "collapsed": false
   },
   "outputs": [
    {
     "data": {
      "text/html": [
       "<div>\n",
       "<table border=\"1\" class=\"dataframe\">\n",
       "  <thead>\n",
       "    <tr style=\"text-align: right;\">\n",
       "      <th></th>\n",
       "      <th>commenter_name</th>\n",
       "      <th>created_time</th>\n",
       "      <th>like_count</th>\n",
       "      <th>message</th>\n",
       "      <th>service</th>\n",
       "      <th>created_date</th>\n",
       "      <th>created_date_format</th>\n",
       "    </tr>\n",
       "  </thead>\n",
       "  <tbody>\n",
       "    <tr>\n",
       "      <th>67373</th>\n",
       "      <td>ผ่านมา แค่ให้จำ</td>\n",
       "      <td>2016-07-15 04:37:26</td>\n",
       "      <td>1.0</td>\n",
       "      <td>ลูกค้าเก่า คุณไม่ดูแล ใช้มาเกือบ10ปี โปรแพง พอ...</td>\n",
       "      <td>AIS</td>\n",
       "      <td>2016-07-15 04:37:26</td>\n",
       "      <td>2016-07-15</td>\n",
       "    </tr>\n",
       "    <tr>\n",
       "      <th>69755</th>\n",
       "      <td>ผ่านมา แค่ให้จำ</td>\n",
       "      <td>2016-07-21 13:36:40</td>\n",
       "      <td>0.0</td>\n",
       "      <td>ไหนบอกเต็มสปีด 3G จะหมดก่อน 30 วันอยู่เหรอค่ะ</td>\n",
       "      <td>AIS</td>\n",
       "      <td>2016-07-21 13:36:40</td>\n",
       "      <td>2016-07-21</td>\n",
       "    </tr>\n",
       "    <tr>\n",
       "      <th>9950</th>\n",
       "      <td>ผ่านมา แค่ให้จำ</td>\n",
       "      <td>2016-07-29 09:55:19</td>\n",
       "      <td>0.0</td>\n",
       "      <td>มันยกเลิกสัญญาทาสไม่ได้ติคับ จรดปักกาเซ็นสัญญา...</td>\n",
       "      <td>DTAC</td>\n",
       "      <td>2016-07-29 09:55:19</td>\n",
       "      <td>2016-07-29</td>\n",
       "    </tr>\n",
       "    <tr>\n",
       "      <th>12780</th>\n",
       "      <td>ผ่านมา แค่ให้จำ</td>\n",
       "      <td>2016-08-12 10:00:17</td>\n",
       "      <td>0.0</td>\n",
       "      <td>อยากได้สักเครื่องทำงัย คับเห็นบอกของหมด ไหนๆจะ...</td>\n",
       "      <td>DTAC</td>\n",
       "      <td>2016-08-12 10:00:17</td>\n",
       "      <td>2016-08-12</td>\n",
       "    </tr>\n",
       "    <tr>\n",
       "      <th>12779</th>\n",
       "      <td>ผ่านมา แค่ให้จำ</td>\n",
       "      <td>2016-08-12 10:05:08</td>\n",
       "      <td>0.0</td>\n",
       "      <td>สำหรับท่านๆ ที่ได้มาแล้ว รีวิวให้ดูหน่อยคับถ้า...</td>\n",
       "      <td>DTAC</td>\n",
       "      <td>2016-08-12 10:05:08</td>\n",
       "      <td>2016-08-12</td>\n",
       "    </tr>\n",
       "    <tr>\n",
       "      <th>32393</th>\n",
       "      <td>ผ่านมา แค่ให้จำ</td>\n",
       "      <td>2016-12-11 06:20:11</td>\n",
       "      <td>0.0</td>\n",
       "      <td>ห่วยมากๆๆๆๆๆๆๆๆๆ</td>\n",
       "      <td>DTAC</td>\n",
       "      <td>2016-12-11 06:20:11</td>\n",
       "      <td>2016-12-11</td>\n",
       "    </tr>\n",
       "    <tr>\n",
       "      <th>146850</th>\n",
       "      <td>ผ่านมา แค่ให้จำ</td>\n",
       "      <td>2016-12-28 10:41:41</td>\n",
       "      <td>0.0</td>\n",
       "      <td>รายงานปันหาไปก้อเหมือนเดิม..ไม่มีอะรัยดีขึ้น.....</td>\n",
       "      <td>TRUE</td>\n",
       "      <td>2016-12-28 10:41:41</td>\n",
       "      <td>2016-12-28</td>\n",
       "    </tr>\n",
       "    <tr>\n",
       "      <th>48897</th>\n",
       "      <td>ผ่านมา แค่ให้จำ</td>\n",
       "      <td>2017-02-18 06:24:13</td>\n",
       "      <td>0.0</td>\n",
       "      <td>4g ในเมืองมีสัญญาณแค่เนี้ยดูเอา</td>\n",
       "      <td>DTAC</td>\n",
       "      <td>2017-02-18 06:24:13</td>\n",
       "      <td>2017-02-18</td>\n",
       "    </tr>\n",
       "    <tr>\n",
       "      <th>100382</th>\n",
       "      <td>ผ่านมา แค่ให้จำ</td>\n",
       "      <td>2017-02-23 15:47:22</td>\n",
       "      <td>1.0</td>\n",
       "      <td>แดกไป เกือบพันเลยเดือนนี้จะเลิกชั้ยจิงๆแระย้าย...</td>\n",
       "      <td>AIS</td>\n",
       "      <td>2017-02-23 15:47:22</td>\n",
       "      <td>2017-02-23</td>\n",
       "    </tr>\n",
       "    <tr>\n",
       "      <th>104047</th>\n",
       "      <td>ผ่านมา แค่ให้จำ</td>\n",
       "      <td>2017-03-11 13:46:37</td>\n",
       "      <td>0.0</td>\n",
       "      <td>ใช้เน็ตรายเดือนเล่นได้เดือนเดียวไม่ค้างค่างวดส...</td>\n",
       "      <td>AIS</td>\n",
       "      <td>2017-03-11 13:46:37</td>\n",
       "      <td>2017-03-11</td>\n",
       "    </tr>\n",
       "    <tr>\n",
       "      <th>116423</th>\n",
       "      <td>ผ่านมา แค่ให้จำ</td>\n",
       "      <td>2017-05-08 13:41:34</td>\n",
       "      <td>0.0</td>\n",
       "      <td>เนตกากมากกรายเดือนนะคะ 449แต่ดูรัยไม่เลย  งง</td>\n",
       "      <td>AIS</td>\n",
       "      <td>2017-05-08 13:41:34</td>\n",
       "      <td>2017-05-08</td>\n",
       "    </tr>\n",
       "    <tr>\n",
       "      <th>117388</th>\n",
       "      <td>ผ่านมา แค่ให้จำ</td>\n",
       "      <td>2017-05-09 06:14:01</td>\n",
       "      <td>1.0</td>\n",
       "      <td>เนตช้ามากกกกก</td>\n",
       "      <td>AIS</td>\n",
       "      <td>2017-05-09 06:14:01</td>\n",
       "      <td>2017-05-09</td>\n",
       "    </tr>\n",
       "  </tbody>\n",
       "</table>\n",
       "</div>"
      ],
      "text/plain": [
       "         commenter_name         created_time  like_count  \\\n",
       "67373   ผ่านมา แค่ให้จำ  2016-07-15 04:37:26         1.0   \n",
       "69755   ผ่านมา แค่ให้จำ  2016-07-21 13:36:40         0.0   \n",
       "9950    ผ่านมา แค่ให้จำ  2016-07-29 09:55:19         0.0   \n",
       "12780   ผ่านมา แค่ให้จำ  2016-08-12 10:00:17         0.0   \n",
       "12779   ผ่านมา แค่ให้จำ  2016-08-12 10:05:08         0.0   \n",
       "32393   ผ่านมา แค่ให้จำ  2016-12-11 06:20:11         0.0   \n",
       "146850  ผ่านมา แค่ให้จำ  2016-12-28 10:41:41         0.0   \n",
       "48897   ผ่านมา แค่ให้จำ  2017-02-18 06:24:13         0.0   \n",
       "100382  ผ่านมา แค่ให้จำ  2017-02-23 15:47:22         1.0   \n",
       "104047  ผ่านมา แค่ให้จำ  2017-03-11 13:46:37         0.0   \n",
       "116423  ผ่านมา แค่ให้จำ  2017-05-08 13:41:34         0.0   \n",
       "117388  ผ่านมา แค่ให้จำ  2017-05-09 06:14:01         1.0   \n",
       "\n",
       "                                                  message service  \\\n",
       "67373   ลูกค้าเก่า คุณไม่ดูแล ใช้มาเกือบ10ปี โปรแพง พอ...     AIS   \n",
       "69755       ไหนบอกเต็มสปีด 3G จะหมดก่อน 30 วันอยู่เหรอค่ะ     AIS   \n",
       "9950    มันยกเลิกสัญญาทาสไม่ได้ติคับ จรดปักกาเซ็นสัญญา...    DTAC   \n",
       "12780   อยากได้สักเครื่องทำงัย คับเห็นบอกของหมด ไหนๆจะ...    DTAC   \n",
       "12779   สำหรับท่านๆ ที่ได้มาแล้ว รีวิวให้ดูหน่อยคับถ้า...    DTAC   \n",
       "32393                                    ห่วยมากๆๆๆๆๆๆๆๆๆ    DTAC   \n",
       "146850  รายงานปันหาไปก้อเหมือนเดิม..ไม่มีอะรัยดีขึ้น.....    TRUE   \n",
       "48897                     4g ในเมืองมีสัญญาณแค่เนี้ยดูเอา    DTAC   \n",
       "100382  แดกไป เกือบพันเลยเดือนนี้จะเลิกชั้ยจิงๆแระย้าย...     AIS   \n",
       "104047  ใช้เน็ตรายเดือนเล่นได้เดือนเดียวไม่ค้างค่างวดส...     AIS   \n",
       "116423       เนตกากมากกรายเดือนนะคะ 449แต่ดูรัยไม่เลย  งง     AIS   \n",
       "117388                                      เนตช้ามากกกกก     AIS   \n",
       "\n",
       "              created_date created_date_format  \n",
       "67373  2016-07-15 04:37:26          2016-07-15  \n",
       "69755  2016-07-21 13:36:40          2016-07-21  \n",
       "9950   2016-07-29 09:55:19          2016-07-29  \n",
       "12780  2016-08-12 10:00:17          2016-08-12  \n",
       "12779  2016-08-12 10:05:08          2016-08-12  \n",
       "32393  2016-12-11 06:20:11          2016-12-11  \n",
       "146850 2016-12-28 10:41:41          2016-12-28  \n",
       "48897  2017-02-18 06:24:13          2017-02-18  \n",
       "100382 2017-02-23 15:47:22          2017-02-23  \n",
       "104047 2017-03-11 13:46:37          2017-03-11  \n",
       "116423 2017-05-08 13:41:34          2017-05-08  \n",
       "117388 2017-05-09 06:14:01          2017-05-09  "
      ]
     },
     "execution_count": 19,
     "metadata": {},
     "output_type": "execute_result"
    }
   ],
   "source": [
    "commentDf[commentDf['commenter_name']=='ผ่านมา แค่ให้จำ'].sort_values('created_date')"
   ]
  },
  {
   "cell_type": "markdown",
   "metadata": {},
   "source": [
    "## And much more. \n",
    "-------------------\n",
    "We can know users story from these comments. Imagine combine with machine learning model that can detect whether the comment is unhappy or not. We can prevent a large portion of user from leaving."
   ]
  },
  {
   "cell_type": "code",
   "execution_count": null,
   "metadata": {
    "collapsed": true
   },
   "outputs": [],
   "source": []
  }
 ],
 "metadata": {
  "anaconda-cloud": {},
  "kernelspec": {
   "display_name": "Python [conda root]",
   "language": "python",
   "name": "conda-root-py"
  },
  "language_info": {
   "codemirror_mode": {
    "name": "ipython",
    "version": 3
   },
   "file_extension": ".py",
   "mimetype": "text/x-python",
   "name": "python",
   "nbconvert_exporter": "python",
   "pygments_lexer": "ipython3",
   "version": "3.5.2"
  },
  "nbpresent": {
   "slides": {
    "815bebc0-e5b9-47db-9fa8-6a016c803503": {
     "id": "815bebc0-e5b9-47db-9fa8-6a016c803503",
     "prev": null,
     "regions": {
      "e45224f9-a881-4b14-8cc5-7d067acb5aa8": {
       "attrs": {
        "height": 0.8,
        "width": 0.8,
        "x": 0.1,
        "y": 0.1
       },
       "content": {
        "cell": "5e2f6416-5bbb-41d5-8d13-21d7907dc265",
        "part": "whole"
       },
       "id": "e45224f9-a881-4b14-8cc5-7d067acb5aa8"
      }
     },
     "theme": null
    }
   },
   "themes": {}
  }
 },
 "nbformat": 4,
 "nbformat_minor": 2
}
